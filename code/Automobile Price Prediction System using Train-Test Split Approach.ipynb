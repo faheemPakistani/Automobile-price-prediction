{
 "cells": [
  {
   "cell_type": "markdown",
   "metadata": {},
   "source": [
    "<br><br><br>\n",
    "<center> <h3 style=\"color:blue\">========================================================</h3> </center>\n",
    "<center> <h3 style=\"color:green\">In the Name of Allah, the Most Beneficent, the Most Merciful</h3> </center>\n",
    "<center> <h3 style=\"color:blue\">========================================================</h3> </center>\n",
    "<br><br><br>"
   ]
  },
  {
   "cell_type": "markdown",
   "metadata": {},
   "source": [
    "        *----------------------------- AUTHOR_DETAILS -------------------------------*\n",
    "        |                                                                            |\n",
    "        |        Project Title  = Automobile Price Prediction System                 |\n",
    "        |                                                                            |\n",
    "        |        Author         = Mr.  Faheem Akram                                  |\n",
    "        |                                                                            |\n",
    "        |        Copyright      = Copyright (C) 2020 Mr. Faheem Akram                |\n",
    "        |                                                                            |\n",
    "        |        License        = Public Domain                                      |\n",
    "        |                                                                            |\n",
    "        |        Version        = 1.0                                                |\n",
    "        |                                                                            |\n",
    "        *----------------------------------------------------------------------------*"
   ]
  },
  {
   "cell_type": "markdown",
   "metadata": {},
   "source": [
    "<br><br><br>\n",
    "<center> <h2 style=\"color:green\">-------------------- PROJECT PURPOSE --------------------</h2> </center>\n",
    "<br>\n",
    "<center><h3>\n",
    "The main purpose of this Project is to demonstrate how the Automobile Price Prediction Problem can be treated as a Supervised Machine Learning Problem using Python and Scikit-learn Machine Learning Toolkit </h3>\n",
    "<br>\n",
    "<center><h3> For this Purpose, In Sha Allah, we will execute the Machine Learning Cycle </h3>\n",
    "<br>\n",
    "<center> <h2 style=\"color:green\">-------------------------------------------------------------------------</h2> </center>\n",
    "<br><br><br>"
   ]
  },
  {
   "cell_type": "markdown",
   "metadata": {},
   "source": [
    "<h1 style=\"color:red\">Automobile Price Prediction System – Machine Learning Cycle</h1>"
   ]
  },
  {
   "cell_type": "markdown",
   "metadata": {},
   "source": [
    "## Machine Learning Cycle\n",
    "\n",
    "### Four phases of a Machine Learning Cycle are\n",
    "\n",
    "### Training Phase\n",
    "\n",
    "    Build the Model using Training Data\n",
    "\n",
    "### Testing Phase\n",
    "\n",
    "     Evaluate the performance of Model using Testing Data\n",
    "\n",
    "### Application Phase\n",
    "\n",
    "     Deploy the Model in the Real-world, to predict Real-time unseen Data\n",
    "\n",
    "### Feedback Phase\n",
    "\n",
    "    Take Feedback from the Users and Domain Experts to improve the Model\n"
   ]
  },
  {
   "cell_type": "markdown",
   "metadata": {},
   "source": [
    "<h1 style=\"color:red\">Executing Machine Learning Cycle Using a Single File</h1>"
   ]
  },
  {
   "cell_type": "markdown",
   "metadata": {},
   "source": [
    "### In Sha Allah, we will follow the following Steps to execute the Machine Learning Cycle Using a Single File\n",
    "\n",
    "#### Step 1: Import Libraries\n",
    "\n",
    "#### Step 2: Load Sample Data\n",
    "\n",
    "#### Step 3: Understand and Pre-process Sample Data\n",
    "    \n",
    "    Step 3.1: Understand Sample Data\n",
    "    \n",
    "    Step 3.2: Pre-process Sample Data\n",
    "\n",
    "#### Step 4: Feature Extraction \n",
    "\n",
    "#### Step 5: Label Encoding (Input and Output is converted in Numeric Representation)\n",
    "\n",
    "    Step 5.1: Train the Label Encoder\n",
    "\n",
    "    Step 5.2: Label Encode the Output\n",
    "\n",
    "    Step 5.3: Label Encode the Input \n",
    "\n",
    "#### Step 6: Execute the Training Phase\n",
    "\n",
    "    Step 6.1: Splitting Sample Data into Training Data and Testing Data \n",
    "    \n",
    "    Step 6.2: Splitting Input Vectors and Outputs/Labels of Training Data\n",
    "    \n",
    "    Step 6.3: Train the Support Vector Regressor\n",
    "    \n",
    "    Step 6.4: Save the Trained Model\n",
    "\n",
    "\n",
    "#### Step 7: Execute the Testing Phase \n",
    "\n",
    "    Step 7.1: Splitting Input Vectors and Output/Labels of Testing Data\n",
    "    \n",
    "    Step 7.2: Load the Saved Model\n",
    "    \n",
    "    Step 7.3: Evaluate the Performance of Trained Model\n",
    "    \n",
    "        Step 7.3.1: Make Predictions from the Model on Testing Data\n",
    "    \n",
    "    Step 7.4: Calculate the Mean Absolute Error.\n",
    "\n",
    "#### Step 8: Execute the Application Phase \n",
    "\n",
    "    Step 8.1: Take Input from User \n",
    "    \n",
    "    Step 8.2: Convert User Input into Feature Vector (Exactly Same as Feature Vectors of Sample Data)\n",
    "    \n",
    "    Step 8.3: Label Encoding of Feature Vector (Exactly Same as Label Encoded Feature Vectors of Sample Data)\n",
    "    \n",
    "    Step 8.4: Load the Saved Model\n",
    "    \n",
    "    Step 8.5: Model Prediction\n",
    "        \n",
    "        Step 8.5.1: Apply Model on the Label Encoded Feature Vector of unseen instance and return Prediction to the User\n",
    "\n",
    "\n",
    "#### Step 9: Execute the Feedback Phase \n",
    "\n",
    "#### Step 10: Improve the Model based on Feedback"
   ]
  },
  {
   "cell_type": "markdown",
   "metadata": {},
   "source": [
    "# Step 1: Import Libraries"
   ]
  },
  {
   "cell_type": "code",
   "execution_count": 401,
   "metadata": {},
   "outputs": [],
   "source": [
    "# Import Libraries\n",
    "\n",
    "import re\n",
    "import scipy\n",
    "import pickle\n",
    "import matplotlib.pyplot as plt\n",
    "import numpy as np\n",
    "import pandas as pd\n",
    "from sklearn.linear_model import LinearRegression\n",
    "from sklearn.metrics import mean_squared_error,r2_score, mean_absolute_error\n",
    "from sklearn.preprocessing import LabelEncoder\n",
    "from sklearn.model_selection import train_test_split\n",
    "from sklearn.svm import LinearSVR\n",
    "from sklearn import svm\n",
    "from prettytable import PrettyTable\n",
    "from astropy.table import Table, Column"
   ]
  },
  {
   "cell_type": "markdown",
   "metadata": {},
   "source": [
    "# Step 2: Load Sample Data"
   ]
  },
  {
   "cell_type": "code",
   "execution_count": 402,
   "metadata": {},
   "outputs": [],
   "source": [
    "# Load Sample Data\n",
    "\n",
    "''' \n",
    "*---------------------- LOAD_SAMPLE_DATA ------------------------*\n",
    "|     Function: read_csv()                                       |\n",
    "|             Purpose: Read a dataset in CSV file format         |\n",
    "|     Arguments:                                                 |\n",
    "|             path: Path to dataset file                         |\n",
    "|             dataset: Dataset file name                         |\n",
    "|     Return:                                                    |\n",
    "|             dataset: Dataset in DataFrame format               |\n",
    "*----------------------------------------------------------------*\n",
    "'''\n",
    " \n",
    "link = \"https://archive.ics.uci.edu/ml/machine-learning-databases/autos/imports-85.data\"\n",
    "\n",
    "headers = [\"symboling\",\"normalized-losses\",\"make\",\"fuel-type\",\"aspiration\", \"num-of-doors\",\"body-style\",\n",
    "         \"drive-wheels\",\"engine-location\",\"wheel-base\", \"length\",\"width\",\"height\",\"curb-weight\",\"engine-type\",\n",
    "         \"num-of-cylinders\", \"engine-size\",\"fuel-system\",\"bore\",\"stroke\",\"compression-ratio\",\"horsepower\",\n",
    "         \"peak-rpm\",\"city-mpg\",\"highway-mpg\",\"price\"]\n",
    "\n",
    "sample_data = pd.read_csv(link, names = headers)"
   ]
  },
  {
   "cell_type": "markdown",
   "metadata": {},
   "source": [
    "# Step 3: Understand and Pre-process Sample Data"
   ]
  },
  {
   "cell_type": "markdown",
   "metadata": {},
   "source": [
    "## Step 3.1: Understand Sample Data"
   ]
  },
  {
   "cell_type": "code",
   "execution_count": 403,
   "metadata": {},
   "outputs": [
    {
     "output_type": "stream",
     "name": "stdout",
     "text": [
      "\n\nAttributes in Sample Data:\n==========================\n\nIndex(['symboling', 'normalized-losses', 'make', 'fuel-type', 'aspiration',\n       'num-of-doors', 'body-style', 'drive-wheels', 'engine-location',\n       'wheel-base', 'length', 'width', 'height', 'curb-weight', 'engine-type',\n       'num-of-cylinders', 'engine-size', 'fuel-system', 'bore', 'stroke',\n       'compression-ratio', 'horsepower', 'peak-rpm', 'city-mpg',\n       'highway-mpg', 'price'],\n      dtype='object')\n\n\nNumber of Instances in Sample Data: 205\n========================================\n\n"
     ]
    }
   ],
   "source": [
    "# Understand Sample Data\n",
    "\n",
    "print(\"\\n\\nAttributes in Sample Data:\")\n",
    "print(\"==========================\\n\")\n",
    "\n",
    "print(sample_data.columns)\n",
    "\n",
    "print(\"\\n\\nNumber of Instances in Sample Data:\",sample_data[\"symboling\"].count())\n",
    "print(\"========================================\\n\")"
   ]
  },
  {
   "cell_type": "markdown",
   "metadata": {},
   "source": [
    "## Step 3.2: Pre-process Sample Data\n",
    "    o\tPreprocessing needs to be Performed "
   ]
  },
  {
   "source": [
    "### 3.2.1 Replace missing values with \"Nan\""
   ],
   "cell_type": "markdown",
   "metadata": {}
  },
  {
   "cell_type": "code",
   "execution_count": 404,
   "metadata": {},
   "outputs": [
    {
     "output_type": "execute_result",
     "data": {
      "text/plain": [
       "   symboling normalized-losses         make fuel-type aspiration num-of-doors  \\\n",
       "0          3               NaN  alfa-romero       gas        std          two   \n",
       "1          3               NaN  alfa-romero       gas        std          two   \n",
       "2          1               NaN  alfa-romero       gas        std          two   \n",
       "3          2               164         audi       gas        std         four   \n",
       "4          2               164         audi       gas        std         four   \n",
       "\n",
       "    body-style drive-wheels engine-location  wheel-base  length  width  \\\n",
       "0  convertible          rwd           front        88.6   168.8   64.1   \n",
       "1  convertible          rwd           front        88.6   168.8   64.1   \n",
       "2    hatchback          rwd           front        94.5   171.2   65.5   \n",
       "3        sedan          fwd           front        99.8   176.6   66.2   \n",
       "4        sedan          4wd           front        99.4   176.6   66.4   \n",
       "\n",
       "   height  curb-weight engine-type num-of-cylinders  engine-size fuel-system  \\\n",
       "0    48.8         2548        dohc             four          130        mpfi   \n",
       "1    48.8         2548        dohc             four          130        mpfi   \n",
       "2    52.4         2823        ohcv              six          152        mpfi   \n",
       "3    54.3         2337         ohc             four          109        mpfi   \n",
       "4    54.3         2824         ohc             five          136        mpfi   \n",
       "\n",
       "   bore stroke  compression-ratio horsepower peak-rpm  city-mpg  highway-mpg  \\\n",
       "0  3.47   2.68                9.0        111     5000        21           27   \n",
       "1  3.47   2.68                9.0        111     5000        21           27   \n",
       "2  2.68   3.47                9.0        154     5000        19           26   \n",
       "3  3.19   3.40               10.0        102     5500        24           30   \n",
       "4  3.19   3.40                8.0        115     5500        18           22   \n",
       "\n",
       "   price  \n",
       "0  13495  \n",
       "1  16500  \n",
       "2  16500  \n",
       "3  13950  \n",
       "4  17450  "
      ],
      "text/html": "<div>\n<style scoped>\n    .dataframe tbody tr th:only-of-type {\n        vertical-align: middle;\n    }\n\n    .dataframe tbody tr th {\n        vertical-align: top;\n    }\n\n    .dataframe thead th {\n        text-align: right;\n    }\n</style>\n<table border=\"1\" class=\"dataframe\">\n  <thead>\n    <tr style=\"text-align: right;\">\n      <th></th>\n      <th>symboling</th>\n      <th>normalized-losses</th>\n      <th>make</th>\n      <th>fuel-type</th>\n      <th>aspiration</th>\n      <th>num-of-doors</th>\n      <th>body-style</th>\n      <th>drive-wheels</th>\n      <th>engine-location</th>\n      <th>wheel-base</th>\n      <th>length</th>\n      <th>width</th>\n      <th>height</th>\n      <th>curb-weight</th>\n      <th>engine-type</th>\n      <th>num-of-cylinders</th>\n      <th>engine-size</th>\n      <th>fuel-system</th>\n      <th>bore</th>\n      <th>stroke</th>\n      <th>compression-ratio</th>\n      <th>horsepower</th>\n      <th>peak-rpm</th>\n      <th>city-mpg</th>\n      <th>highway-mpg</th>\n      <th>price</th>\n    </tr>\n  </thead>\n  <tbody>\n    <tr>\n      <th>0</th>\n      <td>3</td>\n      <td>NaN</td>\n      <td>alfa-romero</td>\n      <td>gas</td>\n      <td>std</td>\n      <td>two</td>\n      <td>convertible</td>\n      <td>rwd</td>\n      <td>front</td>\n      <td>88.6</td>\n      <td>168.8</td>\n      <td>64.1</td>\n      <td>48.8</td>\n      <td>2548</td>\n      <td>dohc</td>\n      <td>four</td>\n      <td>130</td>\n      <td>mpfi</td>\n      <td>3.47</td>\n      <td>2.68</td>\n      <td>9.0</td>\n      <td>111</td>\n      <td>5000</td>\n      <td>21</td>\n      <td>27</td>\n      <td>13495</td>\n    </tr>\n    <tr>\n      <th>1</th>\n      <td>3</td>\n      <td>NaN</td>\n      <td>alfa-romero</td>\n      <td>gas</td>\n      <td>std</td>\n      <td>two</td>\n      <td>convertible</td>\n      <td>rwd</td>\n      <td>front</td>\n      <td>88.6</td>\n      <td>168.8</td>\n      <td>64.1</td>\n      <td>48.8</td>\n      <td>2548</td>\n      <td>dohc</td>\n      <td>four</td>\n      <td>130</td>\n      <td>mpfi</td>\n      <td>3.47</td>\n      <td>2.68</td>\n      <td>9.0</td>\n      <td>111</td>\n      <td>5000</td>\n      <td>21</td>\n      <td>27</td>\n      <td>16500</td>\n    </tr>\n    <tr>\n      <th>2</th>\n      <td>1</td>\n      <td>NaN</td>\n      <td>alfa-romero</td>\n      <td>gas</td>\n      <td>std</td>\n      <td>two</td>\n      <td>hatchback</td>\n      <td>rwd</td>\n      <td>front</td>\n      <td>94.5</td>\n      <td>171.2</td>\n      <td>65.5</td>\n      <td>52.4</td>\n      <td>2823</td>\n      <td>ohcv</td>\n      <td>six</td>\n      <td>152</td>\n      <td>mpfi</td>\n      <td>2.68</td>\n      <td>3.47</td>\n      <td>9.0</td>\n      <td>154</td>\n      <td>5000</td>\n      <td>19</td>\n      <td>26</td>\n      <td>16500</td>\n    </tr>\n    <tr>\n      <th>3</th>\n      <td>2</td>\n      <td>164</td>\n      <td>audi</td>\n      <td>gas</td>\n      <td>std</td>\n      <td>four</td>\n      <td>sedan</td>\n      <td>fwd</td>\n      <td>front</td>\n      <td>99.8</td>\n      <td>176.6</td>\n      <td>66.2</td>\n      <td>54.3</td>\n      <td>2337</td>\n      <td>ohc</td>\n      <td>four</td>\n      <td>109</td>\n      <td>mpfi</td>\n      <td>3.19</td>\n      <td>3.40</td>\n      <td>10.0</td>\n      <td>102</td>\n      <td>5500</td>\n      <td>24</td>\n      <td>30</td>\n      <td>13950</td>\n    </tr>\n    <tr>\n      <th>4</th>\n      <td>2</td>\n      <td>164</td>\n      <td>audi</td>\n      <td>gas</td>\n      <td>std</td>\n      <td>four</td>\n      <td>sedan</td>\n      <td>4wd</td>\n      <td>front</td>\n      <td>99.4</td>\n      <td>176.6</td>\n      <td>66.4</td>\n      <td>54.3</td>\n      <td>2824</td>\n      <td>ohc</td>\n      <td>five</td>\n      <td>136</td>\n      <td>mpfi</td>\n      <td>3.19</td>\n      <td>3.40</td>\n      <td>8.0</td>\n      <td>115</td>\n      <td>5500</td>\n      <td>18</td>\n      <td>22</td>\n      <td>17450</td>\n    </tr>\n  </tbody>\n</table>\n</div>"
     },
     "metadata": {},
     "execution_count": 404
    }
   ],
   "source": [
    "sample_data.replace(\"?\", np.nan, inplace = True)\n",
    "sample_data.head(5)"
   ]
  },
  {
   "source": [
    "### Check missing values by using function isnull()"
   ],
   "cell_type": "markdown",
   "metadata": {}
  },
  {
   "cell_type": "code",
   "execution_count": 405,
   "metadata": {},
   "outputs": [
    {
     "output_type": "execute_result",
     "data": {
      "text/plain": [
       "   symboling  normalized-losses   make  fuel-type  aspiration  num-of-doors  \\\n",
       "0      False               True  False      False       False         False   \n",
       "1      False               True  False      False       False         False   \n",
       "2      False               True  False      False       False         False   \n",
       "3      False              False  False      False       False         False   \n",
       "4      False              False  False      False       False         False   \n",
       "\n",
       "   body-style  drive-wheels  engine-location  wheel-base  length  width  \\\n",
       "0       False         False            False       False   False  False   \n",
       "1       False         False            False       False   False  False   \n",
       "2       False         False            False       False   False  False   \n",
       "3       False         False            False       False   False  False   \n",
       "4       False         False            False       False   False  False   \n",
       "\n",
       "   height  curb-weight  engine-type  num-of-cylinders  engine-size  \\\n",
       "0   False        False        False             False        False   \n",
       "1   False        False        False             False        False   \n",
       "2   False        False        False             False        False   \n",
       "3   False        False        False             False        False   \n",
       "4   False        False        False             False        False   \n",
       "\n",
       "   fuel-system   bore  stroke  compression-ratio  horsepower  peak-rpm  \\\n",
       "0        False  False   False              False       False     False   \n",
       "1        False  False   False              False       False     False   \n",
       "2        False  False   False              False       False     False   \n",
       "3        False  False   False              False       False     False   \n",
       "4        False  False   False              False       False     False   \n",
       "\n",
       "   city-mpg  highway-mpg  price  \n",
       "0     False        False  False  \n",
       "1     False        False  False  \n",
       "2     False        False  False  \n",
       "3     False        False  False  \n",
       "4     False        False  False  "
      ],
      "text/html": "<div>\n<style scoped>\n    .dataframe tbody tr th:only-of-type {\n        vertical-align: middle;\n    }\n\n    .dataframe tbody tr th {\n        vertical-align: top;\n    }\n\n    .dataframe thead th {\n        text-align: right;\n    }\n</style>\n<table border=\"1\" class=\"dataframe\">\n  <thead>\n    <tr style=\"text-align: right;\">\n      <th></th>\n      <th>symboling</th>\n      <th>normalized-losses</th>\n      <th>make</th>\n      <th>fuel-type</th>\n      <th>aspiration</th>\n      <th>num-of-doors</th>\n      <th>body-style</th>\n      <th>drive-wheels</th>\n      <th>engine-location</th>\n      <th>wheel-base</th>\n      <th>length</th>\n      <th>width</th>\n      <th>height</th>\n      <th>curb-weight</th>\n      <th>engine-type</th>\n      <th>num-of-cylinders</th>\n      <th>engine-size</th>\n      <th>fuel-system</th>\n      <th>bore</th>\n      <th>stroke</th>\n      <th>compression-ratio</th>\n      <th>horsepower</th>\n      <th>peak-rpm</th>\n      <th>city-mpg</th>\n      <th>highway-mpg</th>\n      <th>price</th>\n    </tr>\n  </thead>\n  <tbody>\n    <tr>\n      <th>0</th>\n      <td>False</td>\n      <td>True</td>\n      <td>False</td>\n      <td>False</td>\n      <td>False</td>\n      <td>False</td>\n      <td>False</td>\n      <td>False</td>\n      <td>False</td>\n      <td>False</td>\n      <td>False</td>\n      <td>False</td>\n      <td>False</td>\n      <td>False</td>\n      <td>False</td>\n      <td>False</td>\n      <td>False</td>\n      <td>False</td>\n      <td>False</td>\n      <td>False</td>\n      <td>False</td>\n      <td>False</td>\n      <td>False</td>\n      <td>False</td>\n      <td>False</td>\n      <td>False</td>\n    </tr>\n    <tr>\n      <th>1</th>\n      <td>False</td>\n      <td>True</td>\n      <td>False</td>\n      <td>False</td>\n      <td>False</td>\n      <td>False</td>\n      <td>False</td>\n      <td>False</td>\n      <td>False</td>\n      <td>False</td>\n      <td>False</td>\n      <td>False</td>\n      <td>False</td>\n      <td>False</td>\n      <td>False</td>\n      <td>False</td>\n      <td>False</td>\n      <td>False</td>\n      <td>False</td>\n      <td>False</td>\n      <td>False</td>\n      <td>False</td>\n      <td>False</td>\n      <td>False</td>\n      <td>False</td>\n      <td>False</td>\n    </tr>\n    <tr>\n      <th>2</th>\n      <td>False</td>\n      <td>True</td>\n      <td>False</td>\n      <td>False</td>\n      <td>False</td>\n      <td>False</td>\n      <td>False</td>\n      <td>False</td>\n      <td>False</td>\n      <td>False</td>\n      <td>False</td>\n      <td>False</td>\n      <td>False</td>\n      <td>False</td>\n      <td>False</td>\n      <td>False</td>\n      <td>False</td>\n      <td>False</td>\n      <td>False</td>\n      <td>False</td>\n      <td>False</td>\n      <td>False</td>\n      <td>False</td>\n      <td>False</td>\n      <td>False</td>\n      <td>False</td>\n    </tr>\n    <tr>\n      <th>3</th>\n      <td>False</td>\n      <td>False</td>\n      <td>False</td>\n      <td>False</td>\n      <td>False</td>\n      <td>False</td>\n      <td>False</td>\n      <td>False</td>\n      <td>False</td>\n      <td>False</td>\n      <td>False</td>\n      <td>False</td>\n      <td>False</td>\n      <td>False</td>\n      <td>False</td>\n      <td>False</td>\n      <td>False</td>\n      <td>False</td>\n      <td>False</td>\n      <td>False</td>\n      <td>False</td>\n      <td>False</td>\n      <td>False</td>\n      <td>False</td>\n      <td>False</td>\n      <td>False</td>\n    </tr>\n    <tr>\n      <th>4</th>\n      <td>False</td>\n      <td>False</td>\n      <td>False</td>\n      <td>False</td>\n      <td>False</td>\n      <td>False</td>\n      <td>False</td>\n      <td>False</td>\n      <td>False</td>\n      <td>False</td>\n      <td>False</td>\n      <td>False</td>\n      <td>False</td>\n      <td>False</td>\n      <td>False</td>\n      <td>False</td>\n      <td>False</td>\n      <td>False</td>\n      <td>False</td>\n      <td>False</td>\n      <td>False</td>\n      <td>False</td>\n      <td>False</td>\n      <td>False</td>\n      <td>False</td>\n      <td>False</td>\n    </tr>\n  </tbody>\n</table>\n</div>"
     },
     "metadata": {},
     "execution_count": 405
    }
   ],
   "source": [
    "missing_data = sample_data.isnull()\n",
    "missing_data.head(5)"
   ]
  },
  {
   "source": [
    "### Column wise missing values:"
   ],
   "cell_type": "markdown",
   "metadata": {}
  },
  {
   "cell_type": "code",
   "execution_count": 406,
   "metadata": {},
   "outputs": [
    {
     "output_type": "stream",
     "name": "stdout",
     "text": [
      "symboling\n",
      "False    205\n",
      "Name: symboling, dtype: int64\n",
      "\n",
      "normalized-losses\n",
      "False    164\n",
      "True      41\n",
      "Name: normalized-losses, dtype: int64\n",
      "\n",
      "make\n",
      "False    205\n",
      "Name: make, dtype: int64\n",
      "\n",
      "fuel-type\n",
      "False    205\n",
      "Name: fuel-type, dtype: int64\n",
      "\n",
      "aspiration\n",
      "False    205\n",
      "Name: aspiration, dtype: int64\n",
      "\n",
      "num-of-doors\n",
      "False    203\n",
      "True       2\n",
      "Name: num-of-doors, dtype: int64\n",
      "\n",
      "body-style\n",
      "False    205\n",
      "Name: body-style, dtype: int64\n",
      "\n",
      "drive-wheels\n",
      "False    205\n",
      "Name: drive-wheels, dtype: int64\n",
      "\n",
      "engine-location\n",
      "False    205\n",
      "Name: engine-location, dtype: int64\n",
      "\n",
      "wheel-base\n",
      "False    205\n",
      "Name: wheel-base, dtype: int64\n",
      "\n",
      "length\n",
      "False    205\n",
      "Name: length, dtype: int64\n",
      "\n",
      "width\n",
      "False    205\n",
      "Name: width, dtype: int64\n",
      "\n",
      "height\n",
      "False    205\n",
      "Name: height, dtype: int64\n",
      "\n",
      "curb-weight\n",
      "False    205\n",
      "Name: curb-weight, dtype: int64\n",
      "\n",
      "engine-type\n",
      "False    205\n",
      "Name: engine-type, dtype: int64\n",
      "\n",
      "num-of-cylinders\n",
      "False    205\n",
      "Name: num-of-cylinders, dtype: int64\n",
      "\n",
      "engine-size\n",
      "False    205\n",
      "Name: engine-size, dtype: int64\n",
      "\n",
      "fuel-system\n",
      "False    205\n",
      "Name: fuel-system, dtype: int64\n",
      "\n",
      "bore\n",
      "False    201\n",
      "True       4\n",
      "Name: bore, dtype: int64\n",
      "\n",
      "stroke\n",
      "False    201\n",
      "True       4\n",
      "Name: stroke, dtype: int64\n",
      "\n",
      "compression-ratio\n",
      "False    205\n",
      "Name: compression-ratio, dtype: int64\n",
      "\n",
      "horsepower\n",
      "False    203\n",
      "True       2\n",
      "Name: horsepower, dtype: int64\n",
      "\n",
      "peak-rpm\n",
      "False    203\n",
      "True       2\n",
      "Name: peak-rpm, dtype: int64\n",
      "\n",
      "city-mpg\n",
      "False    205\n",
      "Name: city-mpg, dtype: int64\n",
      "\n",
      "highway-mpg\n",
      "False    205\n",
      "Name: highway-mpg, dtype: int64\n",
      "\n",
      "price\n",
      "False    201\n",
      "True       4\n",
      "Name: price, dtype: int64\n",
      "\n"
     ]
    }
   ],
   "source": [
    "for column in missing_data.columns.values.tolist():\n",
    "    print(column)\n",
    "    print(missing_data[column].value_counts())\n",
    "    print(\"\")"
   ]
  },
  {
   "source": [
    "### There are several ways to handle the missing values in data\n",
    "        o Delete row\n",
    "        o Drop Column\n",
    "        o add value by taking mean of that column."
   ],
   "cell_type": "markdown",
   "metadata": {}
  },
  {
   "source": [
    "### Replace Nan with mean values."
   ],
   "cell_type": "markdown",
   "metadata": {}
  },
  {
   "cell_type": "code",
   "execution_count": 407,
   "metadata": {},
   "outputs": [
    {
     "output_type": "stream",
     "name": "stdout",
     "text": [
      "Average of normalized-losses: 122.0\n"
     ]
    }
   ],
   "source": [
    "#Normalized-losses column\n",
    "\n",
    "avg_norm_loss = sample_data[\"normalized-losses\"].astype(\"float\").mean(axis=0)\n",
    "print(\"Average of normalized-losses:\", avg_norm_loss)\n",
    "sample_data[\"normalized-losses\"].replace(np.nan,avg_norm_loss,inplace=True)"
   ]
  },
  {
   "cell_type": "code",
   "execution_count": 408,
   "metadata": {},
   "outputs": [
    {
     "output_type": "stream",
     "name": "stdout",
     "text": [
      "Average of Bore Values: 3.3297512437810943\n"
     ]
    }
   ],
   "source": [
    "#Bore Column\n",
    "avg_bore = sample_data[\"bore\"].astype(\"float\").mean(axis=0)\n",
    "print(\"Average of Bore Values:\",avg_bore)\n",
    "sample_data[\"bore\"].replace(np.nan,avg_bore,inplace=True)"
   ]
  },
  {
   "cell_type": "code",
   "execution_count": 409,
   "metadata": {},
   "outputs": [
    {
     "output_type": "stream",
     "name": "stdout",
     "text": [
      "Average of Stroke Values: 3.3297512437810943\n"
     ]
    }
   ],
   "source": [
    "#Stroke Column\n",
    "avg_stroke = sample_data[\"stroke\"].astype(\"float\").mean(axis=0)\n",
    "print(\"Average of Stroke Values:\",avg_bore)\n",
    "sample_data[\"stroke\"].replace(np.nan,avg_stroke,inplace = True)"
   ]
  },
  {
   "cell_type": "code",
   "execution_count": 410,
   "metadata": {},
   "outputs": [
    {
     "output_type": "stream",
     "name": "stdout",
     "text": [
      "Average horsepower: 104.25615763546799\n"
     ]
    }
   ],
   "source": [
    "#Horesepower column\n",
    "avg_horsepower = sample_data['horsepower'].astype(\"float\").mean(axis=0)\n",
    "print(\"Average horsepower:\", avg_horsepower)\n",
    "sample_data['horsepower'].replace(np.nan, avg_horsepower, inplace=True)"
   ]
  },
  {
   "cell_type": "code",
   "execution_count": 411,
   "metadata": {},
   "outputs": [
    {
     "output_type": "stream",
     "name": "stdout",
     "text": [
      "Average peak rpm: 5125.369458128079\n"
     ]
    }
   ],
   "source": [
    "#peak-rpm column\n",
    "avg_peakrpm=sample_data['peak-rpm'].astype('float').mean(axis=0)\n",
    "print(\"Average peak rpm:\", avg_peakrpm)\n",
    "sample_data['peak-rpm'].replace(np.nan, avg_peakrpm, inplace=True)"
   ]
  },
  {
   "cell_type": "code",
   "execution_count": 412,
   "metadata": {},
   "outputs": [],
   "source": [
    "#num--of-doors column\n",
    "sample_data['num-of-doors'].value_counts()\n",
    "sample_data['num-of-doors'].value_counts().idxmax()\n",
    "sample_data['num-of-doors'].replace(np.nan,\"four\",inplace=True)"
   ]
  },
  {
   "source": [
    "### For output column we can't take dummy values."
   ],
   "cell_type": "markdown",
   "metadata": {}
  },
  {
   "cell_type": "code",
   "execution_count": 413,
   "metadata": {},
   "outputs": [],
   "source": [
    "# simply drop whole row with NaN in \"price\" column\n",
    "sample_data.dropna(subset=[\"price\"],axis=0,inplace=True)\n",
    "# reset index, because we droped two rows\n",
    "sample_data.reset_index(drop=True,inplace=True)"
   ]
  },
  {
   "cell_type": "code",
   "execution_count": 414,
   "metadata": {},
   "outputs": [
    {
     "output_type": "execute_result",
     "data": {
      "text/plain": [
       "   symboling normalized-losses         make fuel-type aspiration num-of-doors  \\\n",
       "0          3               122  alfa-romero       gas        std          two   \n",
       "1          3               122  alfa-romero       gas        std          two   \n",
       "2          1               122  alfa-romero       gas        std          two   \n",
       "3          2               164         audi       gas        std         four   \n",
       "4          2               164         audi       gas        std         four   \n",
       "\n",
       "    body-style drive-wheels engine-location  wheel-base  length  width  \\\n",
       "0  convertible          rwd           front        88.6   168.8   64.1   \n",
       "1  convertible          rwd           front        88.6   168.8   64.1   \n",
       "2    hatchback          rwd           front        94.5   171.2   65.5   \n",
       "3        sedan          fwd           front        99.8   176.6   66.2   \n",
       "4        sedan          4wd           front        99.4   176.6   66.4   \n",
       "\n",
       "   height  curb-weight engine-type num-of-cylinders  engine-size fuel-system  \\\n",
       "0    48.8         2548        dohc             four          130        mpfi   \n",
       "1    48.8         2548        dohc             four          130        mpfi   \n",
       "2    52.4         2823        ohcv              six          152        mpfi   \n",
       "3    54.3         2337         ohc             four          109        mpfi   \n",
       "4    54.3         2824         ohc             five          136        mpfi   \n",
       "\n",
       "   bore stroke  compression-ratio horsepower peak-rpm  city-mpg  highway-mpg  \\\n",
       "0  3.47   2.68                9.0        111     5000        21           27   \n",
       "1  3.47   2.68                9.0        111     5000        21           27   \n",
       "2  2.68   3.47                9.0        154     5000        19           26   \n",
       "3  3.19   3.40               10.0        102     5500        24           30   \n",
       "4  3.19   3.40                8.0        115     5500        18           22   \n",
       "\n",
       "   price  \n",
       "0  13495  \n",
       "1  16500  \n",
       "2  16500  \n",
       "3  13950  \n",
       "4  17450  "
      ],
      "text/html": "<div>\n<style scoped>\n    .dataframe tbody tr th:only-of-type {\n        vertical-align: middle;\n    }\n\n    .dataframe tbody tr th {\n        vertical-align: top;\n    }\n\n    .dataframe thead th {\n        text-align: right;\n    }\n</style>\n<table border=\"1\" class=\"dataframe\">\n  <thead>\n    <tr style=\"text-align: right;\">\n      <th></th>\n      <th>symboling</th>\n      <th>normalized-losses</th>\n      <th>make</th>\n      <th>fuel-type</th>\n      <th>aspiration</th>\n      <th>num-of-doors</th>\n      <th>body-style</th>\n      <th>drive-wheels</th>\n      <th>engine-location</th>\n      <th>wheel-base</th>\n      <th>length</th>\n      <th>width</th>\n      <th>height</th>\n      <th>curb-weight</th>\n      <th>engine-type</th>\n      <th>num-of-cylinders</th>\n      <th>engine-size</th>\n      <th>fuel-system</th>\n      <th>bore</th>\n      <th>stroke</th>\n      <th>compression-ratio</th>\n      <th>horsepower</th>\n      <th>peak-rpm</th>\n      <th>city-mpg</th>\n      <th>highway-mpg</th>\n      <th>price</th>\n    </tr>\n  </thead>\n  <tbody>\n    <tr>\n      <th>0</th>\n      <td>3</td>\n      <td>122</td>\n      <td>alfa-romero</td>\n      <td>gas</td>\n      <td>std</td>\n      <td>two</td>\n      <td>convertible</td>\n      <td>rwd</td>\n      <td>front</td>\n      <td>88.6</td>\n      <td>168.8</td>\n      <td>64.1</td>\n      <td>48.8</td>\n      <td>2548</td>\n      <td>dohc</td>\n      <td>four</td>\n      <td>130</td>\n      <td>mpfi</td>\n      <td>3.47</td>\n      <td>2.68</td>\n      <td>9.0</td>\n      <td>111</td>\n      <td>5000</td>\n      <td>21</td>\n      <td>27</td>\n      <td>13495</td>\n    </tr>\n    <tr>\n      <th>1</th>\n      <td>3</td>\n      <td>122</td>\n      <td>alfa-romero</td>\n      <td>gas</td>\n      <td>std</td>\n      <td>two</td>\n      <td>convertible</td>\n      <td>rwd</td>\n      <td>front</td>\n      <td>88.6</td>\n      <td>168.8</td>\n      <td>64.1</td>\n      <td>48.8</td>\n      <td>2548</td>\n      <td>dohc</td>\n      <td>four</td>\n      <td>130</td>\n      <td>mpfi</td>\n      <td>3.47</td>\n      <td>2.68</td>\n      <td>9.0</td>\n      <td>111</td>\n      <td>5000</td>\n      <td>21</td>\n      <td>27</td>\n      <td>16500</td>\n    </tr>\n    <tr>\n      <th>2</th>\n      <td>1</td>\n      <td>122</td>\n      <td>alfa-romero</td>\n      <td>gas</td>\n      <td>std</td>\n      <td>two</td>\n      <td>hatchback</td>\n      <td>rwd</td>\n      <td>front</td>\n      <td>94.5</td>\n      <td>171.2</td>\n      <td>65.5</td>\n      <td>52.4</td>\n      <td>2823</td>\n      <td>ohcv</td>\n      <td>six</td>\n      <td>152</td>\n      <td>mpfi</td>\n      <td>2.68</td>\n      <td>3.47</td>\n      <td>9.0</td>\n      <td>154</td>\n      <td>5000</td>\n      <td>19</td>\n      <td>26</td>\n      <td>16500</td>\n    </tr>\n    <tr>\n      <th>3</th>\n      <td>2</td>\n      <td>164</td>\n      <td>audi</td>\n      <td>gas</td>\n      <td>std</td>\n      <td>four</td>\n      <td>sedan</td>\n      <td>fwd</td>\n      <td>front</td>\n      <td>99.8</td>\n      <td>176.6</td>\n      <td>66.2</td>\n      <td>54.3</td>\n      <td>2337</td>\n      <td>ohc</td>\n      <td>four</td>\n      <td>109</td>\n      <td>mpfi</td>\n      <td>3.19</td>\n      <td>3.40</td>\n      <td>10.0</td>\n      <td>102</td>\n      <td>5500</td>\n      <td>24</td>\n      <td>30</td>\n      <td>13950</td>\n    </tr>\n    <tr>\n      <th>4</th>\n      <td>2</td>\n      <td>164</td>\n      <td>audi</td>\n      <td>gas</td>\n      <td>std</td>\n      <td>four</td>\n      <td>sedan</td>\n      <td>4wd</td>\n      <td>front</td>\n      <td>99.4</td>\n      <td>176.6</td>\n      <td>66.4</td>\n      <td>54.3</td>\n      <td>2824</td>\n      <td>ohc</td>\n      <td>five</td>\n      <td>136</td>\n      <td>mpfi</td>\n      <td>3.19</td>\n      <td>3.40</td>\n      <td>8.0</td>\n      <td>115</td>\n      <td>5500</td>\n      <td>18</td>\n      <td>22</td>\n      <td>17450</td>\n    </tr>\n  </tbody>\n</table>\n</div>"
     },
     "metadata": {},
     "execution_count": 414
    }
   ],
   "source": [
    "sample_data.head()"
   ]
  },
  {
   "source": [
    "### Correct data type:\n",
    " Some columns are not of the correct data type. Numerical variables should have type 'float' or 'int', and variables with strings such as categories should have type 'object'. For example, 'bore' and 'stroke' variables are numerical values that describe the engines, so we should expect them to be of the type 'float' or 'int'; however, they are shown as type 'object'. We have to convert data types into a proper format for each column using the \"astype()\" method."
   ],
   "cell_type": "markdown",
   "metadata": {}
  },
  {
   "cell_type": "code",
   "execution_count": 415,
   "metadata": {},
   "outputs": [
    {
     "output_type": "stream",
     "name": "stdout",
     "text": [
      "symboling              int64\nnormalized-losses     object\nmake                  object\nfuel-type             object\naspiration            object\nnum-of-doors          object\nbody-style            object\ndrive-wheels          object\nengine-location       object\nwheel-base           float64\nlength               float64\nwidth                float64\nheight               float64\ncurb-weight            int64\nengine-type           object\nnum-of-cylinders      object\nengine-size            int64\nfuel-system           object\nbore                  object\nstroke                object\ncompression-ratio    float64\nhorsepower            object\npeak-rpm              object\ncity-mpg               int64\nhighway-mpg            int64\nprice                 object\ndtype: object\n"
     ]
    }
   ],
   "source": [
    "print(sample_data.dtypes)"
   ]
  },
  {
   "source": [
    "sample_data[[\"price\"]] = sample_data[[\"price\"]].astype(\"float\")"
   ],
   "cell_type": "code",
   "metadata": {},
   "execution_count": 416,
   "outputs": []
  },
  {
   "cell_type": "markdown",
   "metadata": {},
   "source": [
    "# Step 4: Feature Extraction\n",
    "    o\tFeature Extraction needs to be Performed\n",
    "we will check some weak features here."
   ]
  },
  {
   "cell_type": "code",
   "execution_count": 417,
   "metadata": {},
   "outputs": [
    {
     "output_type": "execute_result",
     "data": {
      "text/plain": [
       "           symboling     price\n",
       "symboling   1.000000 -0.082391\n",
       "price      -0.082391  1.000000"
      ],
      "text/html": "<div>\n<style scoped>\n    .dataframe tbody tr th:only-of-type {\n        vertical-align: middle;\n    }\n\n    .dataframe tbody tr th {\n        vertical-align: top;\n    }\n\n    .dataframe thead th {\n        text-align: right;\n    }\n</style>\n<table border=\"1\" class=\"dataframe\">\n  <thead>\n    <tr style=\"text-align: right;\">\n      <th></th>\n      <th>symboling</th>\n      <th>price</th>\n    </tr>\n  </thead>\n  <tbody>\n    <tr>\n      <th>symboling</th>\n      <td>1.000000</td>\n      <td>-0.082391</td>\n    </tr>\n    <tr>\n      <th>price</th>\n      <td>-0.082391</td>\n      <td>1.000000</td>\n    </tr>\n  </tbody>\n</table>\n</div>"
     },
     "metadata": {},
     "execution_count": 417
    }
   ],
   "source": [
    "sample_data[[\"symboling\", \"price\"]].corr()"
   ]
  },
  {
   "cell_type": "code",
   "execution_count": 418,
   "metadata": {},
   "outputs": [
    {
     "output_type": "execute_result",
     "data": {
      "text/plain": [
       "       price\n",
       "price    1.0"
      ],
      "text/html": "<div>\n<style scoped>\n    .dataframe tbody tr th:only-of-type {\n        vertical-align: middle;\n    }\n\n    .dataframe tbody tr th {\n        vertical-align: top;\n    }\n\n    .dataframe thead th {\n        text-align: right;\n    }\n</style>\n<table border=\"1\" class=\"dataframe\">\n  <thead>\n    <tr style=\"text-align: right;\">\n      <th></th>\n      <th>price</th>\n    </tr>\n  </thead>\n  <tbody>\n    <tr>\n      <th>price</th>\n      <td>1.0</td>\n    </tr>\n  </tbody>\n</table>\n</div>"
     },
     "metadata": {},
     "execution_count": 418
    }
   ],
   "source": [
    "sample_data[[\"normalized-losses\", \"price\"]].corr()"
   ]
  },
  {
   "cell_type": "code",
   "execution_count": 419,
   "metadata": {},
   "outputs": [],
   "source": [
    "# Drop columns:\n",
    "sample_data.drop(['length','make','symboling','normalized-losses','bore','compression-ratio','peak-rpm','stroke','fuel-system','aspiration','num-of-doors','width','height','wheel-base','engine-size','curb-weight','engine-location'],axis=1,inplace=True)"
   ]
  },
  {
   "cell_type": "markdown",
   "metadata": {},
   "source": [
    "# Step 5: Label Encoding the Sample Data (Input and Output is converted in Numeric Representation)"
   ]
  },
  {
   "cell_type": "markdown",
   "metadata": {},
   "source": [
    "## Step 5.1: Train the Label Encoder\n",
    "     o  Some Columns of dataset is not in numeric Representation.\n",
    "     o  Therefore, we will Label Encode the Sample Data."
   ]
  },
  {
   "cell_type": "code",
   "execution_count": 420,
   "metadata": {},
   "outputs": [
    {
     "output_type": "execute_result",
     "data": {
      "text/plain": [
       "LabelEncoder()"
      ]
     },
     "metadata": {},
     "execution_count": 420
    }
   ],
   "source": [
    "# Train the Label Encoder\n",
    "\n",
    "''' \n",
    "*------------------ TRAIN_LABEL_ENCODER --------------------*\n",
    "|        Function: Fit()                                    |\n",
    "|              Purpose: Fit or Train the Label Encoder      |\n",
    "|        Arguments:                                         |\n",
    "|               Labels: Target Values                       |\n",
    "|        Return:                                            |\n",
    "|               Instance: Returns an instance of self       |\n",
    "*-----------------------------------------------------------*\n",
    "''' \n",
    "\n",
    "# Labels\n",
    "fuel_type=pd.DataFrame({\"fuel_type\":[\"diesel\", \"gas\"]})\n",
    "body_style = pd.DataFrame({\"body_style\":[\"hardtop\", \"wagon\", \"sedan\", \"hatchback\", \"convertible\"]})\n",
    "drive_wheels = pd.DataFrame({\"drive_wheels\":[\"4wd\", \"fwd\", \"rwd\"]})\n",
    "engine_type = pd.DataFrame({\"engine_type\":[\"dohc\", \"dohcv\", \"l\", \"ohc\", \"ohcf\", \"ohcv\", \"rotor\"]})\n",
    "num_of_cylinders = pd.DataFrame({\"num_of_cylinders\":[\"eight\", \"five\", \"four\", \"six\", \"three\", \"twelve\", \"two\"]})\n",
    "\n",
    "# Initialize the Label Encoders\n",
    "\n",
    "fuel_type_label_encoder = LabelEncoder()\n",
    "body_style_label_encoder = LabelEncoder()\n",
    "drive_wheels_label_encoder = LabelEncoder()\n",
    "engine_type_label_encoder = LabelEncoder()\n",
    "num_of_cylinders_label_encoder = LabelEncoder()\n",
    "\n",
    "# Train the Label Encoders\n",
    "\n",
    "fuel_type_label_encoder.fit(np.ravel(fuel_type))\n",
    "body_style_label_encoder.fit(np.ravel(body_style))\n",
    "drive_wheels_label_encoder.fit(np.ravel(drive_wheels))\n",
    "engine_type_label_encoder.fit(np.ravel(engine_type))\n",
    "num_of_cylinders_label_encoder.fit(np.ravel(num_of_cylinders))"
   ]
  },
  {
   "cell_type": "markdown",
   "metadata": {},
   "source": [
    "## Step 5.2: Label Encode the Output\n",
    "     o  As Output is already in Numeric Representation.\n",
    "     o  Therefore, we will not Label Encode the Output."
   ]
  },
  {
   "cell_type": "markdown",
   "metadata": {},
   "source": [
    "## Step 5.3: Label Encode the Input"
   ]
  },
  {
   "cell_type": "code",
   "execution_count": 421,
   "metadata": {},
   "outputs": [],
   "source": [
    "# Label Encoding of the Input\n",
    "\n",
    "''' \n",
    "*------------------- LABEL_ENCODE_INPUT --------------------*\n",
    "|        Function: Transform()                              |\n",
    "|              Purpose: Transform Input (Categorical)       |\n",
    "|                          into Numerical Representation    |\n",
    "|        Arguments:                                         |\n",
    "|              Attribute: Target values                     |\n",
    "|        Return:                                            |\n",
    "|              Attribute: Numerical Representation          |\n",
    "*-----------------------------------------------------------*\n",
    "'''\n",
    "sample_data_encoded_input = sample_data.copy()\n",
    "original_sample_data = sample_data.copy()\n",
    "\n",
    "# Transform Input Attributes into Numerical Representation\n",
    "\n",
    "sample_data_encoded_input[\"encoded_fuel_type\"] = fuel_type_label_encoder.transform(sample_data_encoded_input['fuel-type'])\n",
    "\n",
    "\n",
    "sample_data_encoded_input[\"encoded_body_style\"] = body_style_label_encoder.transform(sample_data_encoded_input['body-style'])\n",
    "\n",
    "sample_data_encoded_input[\"encoded_drive_wheels\"] = drive_wheels_label_encoder.transform(sample_data_encoded_input['drive-wheels'])\n",
    "\n",
    "\n",
    "sample_data_encoded_input[\"encoded_engine_type\"] = engine_type_label_encoder.transform(sample_data_encoded_input['engine-type'])\n",
    "\n",
    "sample_data_encoded_input[\"encoded_num_of_cylinders\"] = num_of_cylinders_label_encoder.transform(sample_data_encoded_input['num-of-cylinders'])\n"
   ]
  },
  {
   "cell_type": "code",
   "execution_count": 422,
   "metadata": {},
   "outputs": [],
   "source": [
    "sample_data[[\"fuel-type\",\"body-style\",\n",
    "         \"drive-wheels\",\"engine-type\",\n",
    "         \"num-of-cylinders\"]] = sample_data_encoded_input[[\"encoded_fuel_type\",\"encoded_body_style\",\n",
    "         \"encoded_drive_wheels\",\"encoded_engine_type\",\n",
    "         \"encoded_num_of_cylinders\"]]"
   ]
  },
  {
   "cell_type": "code",
   "execution_count": 98,
   "metadata": {},
   "outputs": [
    {
     "output_type": "execute_result",
     "data": {
      "text/plain": [
       "(41, 42)"
      ]
     },
     "metadata": {},
     "execution_count": 98
    }
   ],
   "source": []
  },
  {
   "cell_type": "markdown",
   "metadata": {},
   "source": [
    "# Step 6: Execute the Training Phase "
   ]
  },
  {
   "cell_type": "markdown",
   "metadata": {},
   "source": [
    "## Step 6.1: Splitting Sample Data into Training Data and Testing Data"
   ]
  },
  {
   "cell_type": "code",
   "execution_count": 423,
   "metadata": {
    "scrolled": false,
    "tags": [
     "outputPrepend"
    ]
   },
   "outputs": [
    {
     "output_type": "stream",
     "name": "stdout",
     "text": [
      "        1            3                 2   \n69           1           0             2            5                 0   \n49           1           2             1            3                 2   \n48           1           2             1            3                 2   \n85           1           3             1            3                 2   \n13           1           3             2            3                 3   \n161          1           3             2            0                 2   \n23           1           2             1            3                 2   \n186          1           2             1            3                 2   \n135          1           2             1            4                 2   \n20           1           2             1            3                 2   \n15           1           3             2            3                 3   \n78           1           2             1            3                 2   \n104          1           3             2            2                 2   \n52           1           2             2            6                 6   \n100          1           3             1            5                 3   \n76           1           2             1            3                 2   \n3            1           3             1            3                 2   \n116          1           2             1            3                 2   \n164          1           1             2            3                 2   \n199          0           3             2            3                 3   \n6            1           3             1            3                 1   \n68           1           3             2            5                 0   \n84           1           3             1            3                 2   \n121          1           2             2            3                 2   \n155          0           2             1            3                 2   \n171          1           2             1            3                 2   \n156          1           3             1            3                 2   \n91           1           3             1            3                 2   \n200          1           3             2            3                 2   \n11           1           3             2            3                 3   \n119          1           3             1            3                 2   \n102          1           2             2            5                 3   \n35           1           4             1            3                 2   \n57           1           3             1            3                 2   \n65           0           4             2            3                 1   \n1            1           0             2            0                 2   \n120          1           4             1            3                 2   \n162          1           2             2            0                 2   \n42           1           3             2            3                 2   \n105          0           3             2            2                 2   \n132          1           2             1            0                 2   \n173          1           2             1            3                 2   \n17           1           2             1            2                 4   \n38           1           3             1            3                 2   \n133          1           3             1            0                 2   \n53           1           2             2            6                 6   \n157          1           2             1            3                 2   \n128          1           2             1            3                 2   \n34           1           3             1            3                 2   \n28           1           2             1            3                 2   \n114          1           3             2            2                 2   \n151          1           4             0            3                 2   \n31           1           2             1            3                 2   \n166          1           1             2            3                 2   \n127          1           2             1            3                 2   \n176          1           3             2            0                 3   \n32           1           2             1            3                 2   \n142          1           4             1            4                 2   \n169          1           3             1            3                 2   \n147          1           2             1            3                 2   \n29           1           2             1            3                 2   \n99           1           4             1            5                 3   \n82           1           3             1            3                 2   \n79           1           2             1            3                 2   \n115          1           2             1            3                 2   \n148          1           2             1            3                 2   \n193          1           4             2            3                 2   \n72           1           2             2            3                 2   \n77           1           2             1            3                 2   \n25           1           3             1            3                 2   \n165          1           2             2            3                 2   \n81           1           2             1            3                 2   \n188          0           3             1            3                 2   \n174          1           2             2            0                 3   \n190          1           3             2            3                 2   \n39           1           3             1            3                 2   \n58           1           2             1            3                 2   \n140          1           3             0            4                 2   \n88           1           3             1            3                 2   \n70           1           3             2            5                 0   \n87           0           3             1            3                 2   \n36           1           2             1            3                 2   \n21           1           2             1            3                 2   \n9            1           3             2            3                 2   \n103          1           2             2            5                 3   \n195          1           4             2            3                 2   \n67           0           3             2            3                 1   \n192          1           3             2            3                 2   \n117          1           2             1            3                 2   \n47           1           2             1            3                 2   \n172          1           3             1            3                 2   \n\n    horsepower  city-mpg  highway-mpg    price  \n66         123        22           25  28176.0  \n26         102        24           30   8558.0  \n113         95        28           33  17950.0  \n168        116        24           30  17669.0  \n63          72        31           39  18344.0  \n8          140        17           20  23875.0  \n75          68        31           38   6669.0  \n118         68        31           38   6692.0  \n143         94        25           31  10198.0  \n71         184        14           16  45400.0  \n124        207        17           25  34028.0  \n184        100        26           32   9995.0  \n97          97        27           34   9549.0  \n149         62        31           37   6918.0  \n24          68        31           38   6692.0  \n30          76        31           38   6855.0  \n160         70        29           34   8238.0  \n40         101        24           28  12945.0  \n56          84        26           32   8845.0  \n131        110        21           28  15510.0  \n96          97        27           34   8949.0  \n181         85        27           34   8195.0  \n19          70        38           43   6575.0  \n153         70        30           37   7198.0  \n92          69        31           37   7799.0  \n54         101        17           23  13645.0  \n163        116        24           30   8449.0  \n51          68        31           38   7395.0  \n86          69        31           37   5499.0  \n139         94        26           32   9960.0  \n90          69        31           37   7349.0  \n137         82        32           37   7126.0  \n101        160        19           25  17199.0  \n144         82        23           29   8013.0  \n89          69        31           37   6849.0  \n109         95        28           33  16900.0  \n14         182        16           22  30760.0  \n27          88        24           30   8921.0  \n141        111        24           29  11259.0  \n187        110        19           24  13295.0  \n46         262        13           17  36000.0  \n138         82        28           33   7775.0  \n196        114        23           28  16845.0  \n108         95        19           24  15580.0  \n62         120        19           27  18280.0  \n2          154        19           26  16500.0  \n59          84        26           32  10245.0  \n136         73        26           31   7603.0  \n198        134        18           23  21485.0  \n43          90        24           29  11048.0  \n10         101        23           29  16925.0  \n194        162        17           22  18420.0  \n73          68        37           41   5389.0  \n197        160        19           25  19045.0  \n178         52        37           46   7775.0  \n175        161        19           24  15998.0  \n126    104.256        23           31   9295.0  \n93          69        31           37   7499.0  \n112         97        19           24  16630.0  \n158         70        28           34   9258.0  \n191        114        23           28  13415.0  \n50          68        31           38   6695.0  \n0          111        21           27  13495.0  \n94          69        31           37   7999.0  \n110         95        19           24  16695.0  \n95          69        31           37   8249.0  \n64         123        22           25  25552.0  \n167        116        24           30  11549.0  \n41         100        25           31  10345.0  \n69         155        16           18  35056.0  \n49          68        31           38   6795.0  \n48          68        31           38   6095.0  \n85         116        23           30   9279.0  \n13         121        20           25  24565.0  \n161        112        26           29   9298.0  \n23          68        31           38   6229.0  \n186         90        24           29   9980.0  \n135         73        26           31   7053.0  \n20          68        37           41   5572.0  \n15         182        16           22  41315.0  \n78          88        25           32   8499.0  \n104         97        19           24  11900.0  \n52         101        17           23  10945.0  \n100        152        19           25  13499.0  \n76         102        24           30   7689.0  \n3          102        24           30  13950.0  \n116        102        24           30   7957.0  \n164        116        24           30   9639.0  \n199        106        26           27  22470.0  \n6          110        19           25  17710.0  \n68         155        16           18  34184.0  \n84         116        23           30   9279.0  \n121        145        19           24  12764.0  \n155         56        38           47   7788.0  \n171         92        27           32   9988.0  \n156         70        38           47   7738.0  \n91          69        31           37   7299.0  \n200        114        19           25  22625.0  \n11         121        21           28  20970.0  \n119         68        31           38   7609.0  \n102        200        17           23  19699.0  \n35          76        30           34   7295.0  \n57          84        26           32   8495.0  \n65         123        22           25  28248.0  \n1          111        21           27  16500.0  \n120         88        24           30   8921.0  \n162        112        26           29   9538.0  \n42          78        24           29   6785.0  \n105         95        28           33  13200.0  \n132        160        19           26  18150.0  \n173         92        27           32  11248.0  \n17          48        47           53   5151.0  \n38          86        27           33   8845.0  \n133        160        19           26  18620.0  \n53         101        17           23  11845.0  \n157         70        28           34   8358.0  \n128        110        21           28  11850.0  \n34          76        30           34   7295.0  \n28         145        19           24  12964.0  \n114        142        18           24  18150.0  \n151         62        27           32   8778.0  \n31          60        38           42   5399.0  \n166        116        24           30  11199.0  \n127    104.256        23           31   9895.0  \n176        156        20           24  15690.0  \n32          76        30           34   6529.0  \n142         82        28           32   7463.0  \n169         92        29           34   8948.0  \n147         62        31           38   6338.0  \n29          58        49           54   6479.0  \n99         152        17           22  14399.0  \n82          88        25           32   6989.0  \n79         145        19           24  12629.0  \n115         68        37           41   5572.0  \n148         62        31           38   6488.0  \n193        114        24           28  16515.0  \n72         175        19           24  16503.0  \n77         116        23           30   9959.0  \n25          68        31           38   7609.0  \n165        116        24           30   9989.0  \n81         145        19           24  14489.0  \n188         68        33           38  13845.0  \n174        161        20           24  16558.0  \n190        114        23           28  12940.0  \n39          86        27           33  10295.0  \n58          84        26           32  10595.0  \n140         82        24           25   9233.0  \n88          69        31           37   6649.0  \n70         184        14           16  40960.0  \n87          55        45           50   7099.0  \n36          86        27           33   7895.0  \n21          68        31           38   6377.0  \n9          101        23           29  16430.0  \n103        160        19           25  18399.0  \n195        162        17           22  18950.0  \n67         123        22           25  31600.0  \n192        114        24           28  15985.0  \n117         68        31           38   6229.0  \n47          68        30           31   5195.0  \n172         92        27           32  10898.0  \n\n\nTesting Data:\n==============\n\n     fuel-type  body-style  drive-wheels  engine-type  num-of-cylinders  \\\n18           1           2             1            3                 2   \n170          0           3             1            3                 2   \n107          0           4             2            2                 2   \n98           1           3             1            5                 3   \n177          1           4             2            0                 3   \n182          1           3             1            3                 2   \n5            1           3             1            3                 1   \n146          1           2             1            3                 2   \n12           1           3             2            3                 3   \n152          1           3             1            3                 2   \n61           1           2             1            3                 2   \n125          1           0             2            4                 3   \n180          0           3             1            3                 2   \n154          0           3             1            3                 2   \n80           1           2             1            3                 2   \n7            1           4             1            3                 1   \n33           1           2             1            3                 2   \n130          1           2             1            3                 2   \n37           1           2             1            3                 2   \n74           1           2             1            3                 2   \n183          0           3             1            3                 2   \n145          1           4             0            4                 2   \n45           1           3             2            0                 3   \n159          1           3             2            3                 2   \n60           0           3             1            3                 2   \n123          1           1             2            4                 3   \n179          1           3             1            3                 2   \n185          1           0             1            3                 2   \n122          1           2             2            3                 2   \n44           1           3             2            0                 3   \n16           1           3             2            3                 3   \n55           1           2             2            6                 6   \n150          1           4             0            3                 2   \n111          0           4             2            2                 2   \n22           1           2             1            3                 2   \n189          1           4             1            3                 2   \n129          1           3             1            3                 2   \n4            1           3             0            3                 1   \n83           1           3             1            3                 2   \n106          1           4             2            2                 2   \n134          1           2             1            4                 2   \n\n    horsepower  city-mpg  highway-mpg    price  \n18          70        38           43   6295.0  \n170         73        30           33  10698.0  \n107         95        25           25  13860.0  \n98         152        17           22  13499.0  \n177        156        19           24  15750.0  \n182         85        27           34   8495.0  \n5          110        19           25  15250.0  \n146         62        35           39   5348.0  \n12         121        21           28  21105.0  \n152         70        30           37   6938.0  \n61          84        26           32  11245.0  \n125        207        17           25  37028.0  \n180         52        37           46   7995.0  \n154         56        34           36   7898.0  \n80         145        19           24  14869.0  \n7          110        19           25  18920.0  \n33          76        30           34   7129.0  \n130        110        21           28  15040.0  \n37          86        27           33   9095.0  \n74          68        31           38   6189.0  \n183         68        37           42   9495.0  \n145        111        23           23  11694.0  \n45         176        15           19  35550.0  \n159         70        29           34   8058.0  \n60          64        36           42  10795.0  \n123        207        17           25  32528.0  \n179         85        27           34   7975.0  \n185         90        24           29  11595.0  \n122        143        19           27  22018.0  \n44         176        15           19  32250.0  \n16         182        15           20  36880.0  \n55         135        16           23  15645.0  \n150         62        27           32   7898.0  \n111         95        25           25  17075.0  \n22         102        24           30   7957.0  \n189         88        25           31  12290.0  \n129        110        21           28  12170.0  \n4          115        18           22  17450.0  \n83          88        25           32   8189.0  \n106         97        19           24  12440.0  \n134         69        31           36   5118.0  \n"
     ]
    }
   ],
   "source": [
    "# Splitting Sample Data into Training Data and Testing Data\n",
    "\n",
    "''' \n",
    "*------------------- SPLIT_SAMPLE_DATA ---------------------*\n",
    "|        Function: train_test_split()                       |\n",
    "|              Purpose: Split arrays or matrices into       |\n",
    "|                       random train and test subsets       |\n",
    "|        Arguments:                                         |\n",
    "|              arrays: sequence of indexables               |\n",
    "|              test_size: float or int                      |\n",
    "|        Return:                                            |\n",
    "|              splitting: list                              |\n",
    "*-----------------------------------------------------------*\n",
    "'''\n",
    "\n",
    "training_data, testing_data = train_test_split( sample_data , test_size=0.2 , random_state=0 , shuffle = True)\n",
    "\n",
    "# Save the Training and Testing Data into CSV File \n",
    "\n",
    "training_data.to_csv(r'training-data.csv', index = False, header = True)\n",
    "testing_data.to_csv(r'testing-data.csv', index = False, header = True)\n",
    "\n",
    "# print Training and Testing Data\n",
    "\n",
    "print(\"\\n\\nTraining Data:\")\n",
    "print(\"==============\\n\")\n",
    "pd.set_option(\"display.max_rows\", None, \"display.max_columns\", None)\n",
    "print(training_data)\n",
    "print(\"\\n\\nTesting Data:\")\n",
    "print(\"==============\\n\")\n",
    "pd.set_option(\"display.max_rows\", None, \"display.max_columns\", None)\n",
    "print(testing_data)"
   ]
  },
  {
   "cell_type": "markdown",
   "metadata": {},
   "source": [
    "## 6.2: Splitting Input Vectors and Outputs / Labels of Training Data"
   ]
  },
  {
   "cell_type": "code",
   "execution_count": 424,
   "metadata": {
    "scrolled": false,
    "tags": [
     "outputPrepend"
    ]
   },
   "outputs": [
    {
     "output_type": "stream",
     "name": "stdout",
     "text": [
      " 1            3                 2   \n149          1           4             1            3                 2   \n24           1           3             1            3                 2   \n30           1           2             1            3                 2   \n160          1           2             2            3                 2   \n40           1           3             1            3                 2   \n56           1           2             1            3                 2   \n131          1           3             1            3                 2   \n96           1           2             1            3                 2   \n181          1           3             1            3                 2   \n19           1           3             1            3                 2   \n153          1           2             1            3                 2   \n92           1           2             1            3                 2   \n54           1           2             2            6                 6   \n163          1           1             2            3                 2   \n51           1           3             1            3                 2   \n86           1           3             1            3                 2   \n139          1           3             1            4                 2   \n90           1           4             1            3                 2   \n137          1           3             1            4                 2   \n101          1           2             2            5                 3   \n144          1           4             0            4                 2   \n89           1           3             1            3                 2   \n109          0           3             2            2                 2   \n14           1           3             2            3                 3   \n27           1           4             1            3                 2   \n141          1           3             0            4                 2   \n187          1           3             1            3                 1   \n46           1           3             2            5                 5   \n138          1           3             1            4                 2   \n196          1           3             2            3                 2   \n108          1           3             2            2                 2   \n62           1           3             2            3                 2   \n2            1           2             2            5                 3   \n59           1           3             1            3                 2   \n136          1           2             0            4                 2   \n198          1           3             2            5                 3   \n43           1           2             2            3                 2   \n10           1           3             2            3                 2   \n194          1           3             2            3                 2   \n73           1           2             1            3                 2   \n197          1           3             2            3                 2   \n178          0           3             1            3                 2   \n175          1           2             2            0                 3   \n126          1           4             1            3                 2   \n93           1           3             1            3                 2   \n112          1           3             2            2                 2   \n158          1           3             1            3                 2   \n191          1           4             2            3                 2   \n50           1           3             1            3                 2   \n0            1           0             2            0                 2   \n94           1           4             1            3                 2   \n110          1           4             2            2                 2   \n95           1           1             1            3                 2   \n64           0           3             2            3                 1   \n167          1           2             2            3                 2   \n41           1           3             1            3                 2   \n69           1           0             2            5                 0   \n49           1           2             1            3                 2   \n48           1           2             1            3                 2   \n85           1           3             1            3                 2   \n13           1           3             2            3                 3   \n161          1           3             2            0                 2   \n23           1           2             1            3                 2   \n186          1           2             1            3                 2   \n135          1           2             1            4                 2   \n20           1           2             1            3                 2   \n15           1           3             2            3                 3   \n78           1           2             1            3                 2   \n104          1           3             2            2                 2   \n52           1           2             2            6                 6   \n100          1           3             1            5                 3   \n76           1           2             1            3                 2   \n3            1           3             1            3                 2   \n116          1           2             1            3                 2   \n164          1           1             2            3                 2   \n199          0           3             2            3                 3   \n6            1           3             1            3                 1   \n68           1           3             2            5                 0   \n84           1           3             1            3                 2   \n121          1           2             2            3                 2   \n155          0           2             1            3                 2   \n171          1           2             1            3                 2   \n156          1           3             1            3                 2   \n91           1           3             1            3                 2   \n200          1           3             2            3                 2   \n11           1           3             2            3                 3   \n119          1           3             1            3                 2   \n102          1           2             2            5                 3   \n35           1           4             1            3                 2   \n57           1           3             1            3                 2   \n65           0           4             2            3                 1   \n1            1           0             2            0                 2   \n120          1           4             1            3                 2   \n162          1           2             2            0                 2   \n42           1           3             2            3                 2   \n105          0           3             2            2                 2   \n132          1           2             1            0                 2   \n173          1           2             1            3                 2   \n17           1           2             1            2                 4   \n38           1           3             1            3                 2   \n133          1           3             1            0                 2   \n53           1           2             2            6                 6   \n157          1           2             1            3                 2   \n128          1           2             1            3                 2   \n34           1           3             1            3                 2   \n28           1           2             1            3                 2   \n114          1           3             2            2                 2   \n151          1           4             0            3                 2   \n31           1           2             1            3                 2   \n166          1           1             2            3                 2   \n127          1           2             1            3                 2   \n176          1           3             2            0                 3   \n32           1           2             1            3                 2   \n142          1           4             1            4                 2   \n169          1           3             1            3                 2   \n147          1           2             1            3                 2   \n29           1           2             1            3                 2   \n99           1           4             1            5                 3   \n82           1           3             1            3                 2   \n79           1           2             1            3                 2   \n115          1           2             1            3                 2   \n148          1           2             1            3                 2   \n193          1           4             2            3                 2   \n72           1           2             2            3                 2   \n77           1           2             1            3                 2   \n25           1           3             1            3                 2   \n165          1           2             2            3                 2   \n81           1           2             1            3                 2   \n188          0           3             1            3                 2   \n174          1           2             2            0                 3   \n190          1           3             2            3                 2   \n39           1           3             1            3                 2   \n58           1           2             1            3                 2   \n140          1           3             0            4                 2   \n88           1           3             1            3                 2   \n70           1           3             2            5                 0   \n87           0           3             1            3                 2   \n36           1           2             1            3                 2   \n21           1           2             1            3                 2   \n9            1           3             2            3                 2   \n103          1           2             2            5                 3   \n195          1           4             2            3                 2   \n67           0           3             2            3                 1   \n192          1           3             2            3                 2   \n117          1           2             1            3                 2   \n47           1           2             1            3                 2   \n172          1           3             1            3                 2   \n\n    horsepower  city-mpg  highway-mpg  \n66         123        22           25  \n26         102        24           30  \n113         95        28           33  \n168        116        24           30  \n63          72        31           39  \n8          140        17           20  \n75          68        31           38  \n118         68        31           38  \n143         94        25           31  \n71         184        14           16  \n124        207        17           25  \n184        100        26           32  \n97          97        27           34  \n149         62        31           37  \n24          68        31           38  \n30          76        31           38  \n160         70        29           34  \n40         101        24           28  \n56          84        26           32  \n131        110        21           28  \n96          97        27           34  \n181         85        27           34  \n19          70        38           43  \n153         70        30           37  \n92          69        31           37  \n54         101        17           23  \n163        116        24           30  \n51          68        31           38  \n86          69        31           37  \n139         94        26           32  \n90          69        31           37  \n137         82        32           37  \n101        160        19           25  \n144         82        23           29  \n89          69        31           37  \n109         95        28           33  \n14         182        16           22  \n27          88        24           30  \n141        111        24           29  \n187        110        19           24  \n46         262        13           17  \n138         82        28           33  \n196        114        23           28  \n108         95        19           24  \n62         120        19           27  \n2          154        19           26  \n59          84        26           32  \n136         73        26           31  \n198        134        18           23  \n43          90        24           29  \n10         101        23           29  \n194        162        17           22  \n73          68        37           41  \n197        160        19           25  \n178         52        37           46  \n175        161        19           24  \n126    104.256        23           31  \n93          69        31           37  \n112         97        19           24  \n158         70        28           34  \n191        114        23           28  \n50          68        31           38  \n0          111        21           27  \n94          69        31           37  \n110         95        19           24  \n95          69        31           37  \n64         123        22           25  \n167        116        24           30  \n41         100        25           31  \n69         155        16           18  \n49          68        31           38  \n48          68        31           38  \n85         116        23           30  \n13         121        20           25  \n161        112        26           29  \n23          68        31           38  \n186         90        24           29  \n135         73        26           31  \n20          68        37           41  \n15         182        16           22  \n78          88        25           32  \n104         97        19           24  \n52         101        17           23  \n100        152        19           25  \n76         102        24           30  \n3          102        24           30  \n116        102        24           30  \n164        116        24           30  \n199        106        26           27  \n6          110        19           25  \n68         155        16           18  \n84         116        23           30  \n121        145        19           24  \n155         56        38           47  \n171         92        27           32  \n156         70        38           47  \n91          69        31           37  \n200        114        19           25  \n11         121        21           28  \n119         68        31           38  \n102        200        17           23  \n35          76        30           34  \n57          84        26           32  \n65         123        22           25  \n1          111        21           27  \n120         88        24           30  \n162        112        26           29  \n42          78        24           29  \n105         95        28           33  \n132        160        19           26  \n173         92        27           32  \n17          48        47           53  \n38          86        27           33  \n133        160        19           26  \n53         101        17           23  \n157         70        28           34  \n128        110        21           28  \n34          76        30           34  \n28         145        19           24  \n114        142        18           24  \n151         62        27           32  \n31          60        38           42  \n166        116        24           30  \n127    104.256        23           31  \n176        156        20           24  \n32          76        30           34  \n142         82        28           32  \n169         92        29           34  \n147         62        31           38  \n29          58        49           54  \n99         152        17           22  \n82          88        25           32  \n79         145        19           24  \n115         68        37           41  \n148         62        31           38  \n193        114        24           28  \n72         175        19           24  \n77         116        23           30  \n25          68        31           38  \n165        116        24           30  \n81         145        19           24  \n188         68        33           38  \n174        161        20           24  \n190        114        23           28  \n39          86        27           33  \n58          84        26           32  \n140         82        24           25  \n88          69        31           37  \n70         184        14           16  \n87          55        45           50  \n36          86        27           33  \n21          68        31           38  \n9          101        23           29  \n103        160        19           25  \n195        162        17           22  \n67         123        22           25  \n192        114        24           28  \n117         68        31           38  \n47          68        30           31  \n172         92        27           32  \n\n\nOutputs/Labels of Training Data:\n================================\n\n66     28176.0\n26      8558.0\n113    17950.0\n168    17669.0\n63     18344.0\n8      23875.0\n75      6669.0\n118     6692.0\n143    10198.0\n71     45400.0\n124    34028.0\n184     9995.0\n97      9549.0\n149     6918.0\n24      6692.0\n30      6855.0\n160     8238.0\n40     12945.0\n56      8845.0\n131    15510.0\n96      8949.0\n181     8195.0\n19      6575.0\n153     7198.0\n92      7799.0\n54     13645.0\n163     8449.0\n51      7395.0\n86      5499.0\n139     9960.0\n90      7349.0\n137     7126.0\n101    17199.0\n144     8013.0\n89      6849.0\n109    16900.0\n14     30760.0\n27      8921.0\n141    11259.0\n187    13295.0\n46     36000.0\n138     7775.0\n196    16845.0\n108    15580.0\n62     18280.0\n2      16500.0\n59     10245.0\n136     7603.0\n198    21485.0\n43     11048.0\n10     16925.0\n194    18420.0\n73      5389.0\n197    19045.0\n178     7775.0\n175    15998.0\n126     9295.0\n93      7499.0\n112    16630.0\n158     9258.0\n191    13415.0\n50      6695.0\n0      13495.0\n94      7999.0\n110    16695.0\n95      8249.0\n64     25552.0\n167    11549.0\n41     10345.0\n69     35056.0\n49      6795.0\n48      6095.0\n85      9279.0\n13     24565.0\n161     9298.0\n23      6229.0\n186     9980.0\n135     7053.0\n20      5572.0\n15     41315.0\n78      8499.0\n104    11900.0\n52     10945.0\n100    13499.0\n76      7689.0\n3      13950.0\n116     7957.0\n164     9639.0\n199    22470.0\n6      17710.0\n68     34184.0\n84      9279.0\n121    12764.0\n155     7788.0\n171     9988.0\n156     7738.0\n91      7299.0\n200    22625.0\n11     20970.0\n119     7609.0\n102    19699.0\n35      7295.0\n57      8495.0\n65     28248.0\n1      16500.0\n120     8921.0\n162     9538.0\n42      6785.0\n105    13200.0\n132    18150.0\n173    11248.0\n17      5151.0\n38      8845.0\n133    18620.0\n53     11845.0\n157     8358.0\n128    11850.0\n34      7295.0\n28     12964.0\n114    18150.0\n151     8778.0\n31      5399.0\n166    11199.0\n127     9895.0\n176    15690.0\n32      6529.0\n142     7463.0\n169     8948.0\n147     6338.0\n29      6479.0\n99     14399.0\n82      6989.0\n79     12629.0\n115     5572.0\n148     6488.0\n193    16515.0\n72     16503.0\n77      9959.0\n25      7609.0\n165     9989.0\n81     14489.0\n188    13845.0\n174    16558.0\n190    12940.0\n39     10295.0\n58     10595.0\n140     9233.0\n88      6649.0\n70     40960.0\n87      7099.0\n36      7895.0\n21      6377.0\n9      16430.0\n103    18399.0\n195    18950.0\n67     31600.0\n192    15985.0\n117     6229.0\n47      5195.0\n172    10898.0\nName: price, dtype: float64\n"
     ]
    }
   ],
   "source": [
    "# Splitting Input Vectors and Outputs / Labels of Training Data\n",
    "\n",
    "'''\n",
    "*---------------- SPLIT_INPUT_VECTORS_AND_LABELS --------------*\n",
    "|        Function: drop()                                      |\n",
    "|            Purpose: Splitting Input Vector and Labels        |\n",
    "|        Arguments:                                            |\n",
    "|            Attribute: Name or Location Attribute to Split    |\n",
    "|        Return:                                               |\n",
    "|            Attribute: Split Attributes                       |\n",
    "*--------------------------------------------------------------*\n",
    "'''\n",
    "\n",
    "\n",
    "y_train=training_data.price\n",
    "\n",
    "training_data.drop('price',axis=1,inplace=True)\n",
    "\n",
    "print(\"\\n\\nInputs Vectors (Feature Vectors) of Training Data:\")\n",
    "print(\"==================================================\\n\")\n",
    "print(training_data)\n",
    "print(\"\\n\\nOutputs/Labels of Training Data:\")\n",
    "print(\"================================\\n\")\n",
    "print(y_train)"
   ]
  },
  {
   "cell_type": "markdown",
   "metadata": {},
   "source": [
    "## 6.3: Train the Support Vector Regressor"
   ]
  },
  {
   "cell_type": "code",
   "execution_count": 425,
   "metadata": {},
   "outputs": [
    {
     "output_type": "stream",
     "name": "stdout",
     "text": [
      "\n",
      "\n",
      "Training the Support Vector Regressor on Training Data\n",
      "========================================================\n",
      "\n",
      "\n",
      "Parameters and their values:\n",
      "============================\n",
      "\n",
      "SVC(gamma='auto', random_state=0)\n"
     ]
    }
   ],
   "source": [
    "# Train the Support Vector Regressor\n",
    "\n",
    "''' \n",
    "*--------------- TRAIN_SUPPORT_VECTOR_REGRESSOR  ------------------*\n",
    "|       Function = svm.SVC()                                        |\n",
    "|           Purpose: Train the Algorithm on Training Data          |\n",
    "|       Arguments:                                                 |\n",
    "|           Training Data: Provide Training Data to the Model      |\n",
    "|       Return:                                                    |\n",
    "|           Parameter: Model return the Training Parameters        |\n",
    "*------------------------------------------------------------------*\n",
    "'''\n",
    "print(\"\\n\\nTraining the Support Vector Regressor on Training Data\")\n",
    "print(\"========================================================\\n\")\n",
    "print(\"\\nParameters and their values:\")\n",
    "print(\"============================\\n\")\n",
    "svr_model =svm.SVC(gamma='auto',random_state=0)\n",
    "svr_model.fit(training_data,y_train)\n",
    "print(svr_model)"
   ]
  },
  {
   "cell_type": "markdown",
   "metadata": {},
   "source": [
    "## Step 6.4: Save the Trained Models"
   ]
  },
  {
   "cell_type": "code",
   "execution_count": 426,
   "metadata": {},
   "outputs": [],
   "source": [
    "# Save the Trained Models\n",
    "\n",
    "''' \n",
    "*--------------------- SAVE_THE_TRAINED_MODELS --------------------*\n",
    "|        Function: dump()                                          |\n",
    "|             Purpose: Save the Trained Model on your Hard Disk    |\n",
    "|        Arguments:                                                |\n",
    "|             Model: Model Objects                                 |\n",
    "|        Return:                                                   |\n",
    "|             File: Trained Model will be Saved on Hard Disk       |\n",
    "*------------------------------------------------------------------* \n",
    "'''\n",
    "\n",
    "# Save the Models in a Pkl File\n",
    "\n",
    "pickle.dump(svr_model, open('svr_trained_model.pkl', 'wb'))"
   ]
  },
  {
   "cell_type": "markdown",
   "metadata": {},
   "source": [
    "# Step 7: Execute the Testing Phase "
   ]
  },
  {
   "cell_type": "markdown",
   "metadata": {},
   "source": [
    "## Step 7.1: Splitting Input Vectors and Outputs / Labels of Testing Data"
   ]
  },
  {
   "cell_type": "code",
   "execution_count": 427,
   "metadata": {
    "tags": []
   },
   "outputs": [
    {
     "output_type": "stream",
     "name": "stdout",
     "text": [
      "\n\nInputs Vectors (Feature Vectors) of Testing Data:\n=================================================\n\n     fuel-type  body-style  drive-wheels  engine-type  num-of-cylinders  \\\n18           1           2             1            3                 2   \n170          0           3             1            3                 2   \n107          0           4             2            2                 2   \n98           1           3             1            5                 3   \n177          1           4             2            0                 3   \n182          1           3             1            3                 2   \n5            1           3             1            3                 1   \n146          1           2             1            3                 2   \n12           1           3             2            3                 3   \n152          1           3             1            3                 2   \n61           1           2             1            3                 2   \n125          1           0             2            4                 3   \n180          0           3             1            3                 2   \n154          0           3             1            3                 2   \n80           1           2             1            3                 2   \n7            1           4             1            3                 1   \n33           1           2             1            3                 2   \n130          1           2             1            3                 2   \n37           1           2             1            3                 2   \n74           1           2             1            3                 2   \n183          0           3             1            3                 2   \n145          1           4             0            4                 2   \n45           1           3             2            0                 3   \n159          1           3             2            3                 2   \n60           0           3             1            3                 2   \n123          1           1             2            4                 3   \n179          1           3             1            3                 2   \n185          1           0             1            3                 2   \n122          1           2             2            3                 2   \n44           1           3             2            0                 3   \n16           1           3             2            3                 3   \n55           1           2             2            6                 6   \n150          1           4             0            3                 2   \n111          0           4             2            2                 2   \n22           1           2             1            3                 2   \n189          1           4             1            3                 2   \n129          1           3             1            3                 2   \n4            1           3             0            3                 1   \n83           1           3             1            3                 2   \n106          1           4             2            2                 2   \n134          1           2             1            4                 2   \n\n    horsepower  city-mpg  highway-mpg  \n18          70        38           43  \n170         73        30           33  \n107         95        25           25  \n98         152        17           22  \n177        156        19           24  \n182         85        27           34  \n5          110        19           25  \n146         62        35           39  \n12         121        21           28  \n152         70        30           37  \n61          84        26           32  \n125        207        17           25  \n180         52        37           46  \n154         56        34           36  \n80         145        19           24  \n7          110        19           25  \n33          76        30           34  \n130        110        21           28  \n37          86        27           33  \n74          68        31           38  \n183         68        37           42  \n145        111        23           23  \n45         176        15           19  \n159         70        29           34  \n60          64        36           42  \n123        207        17           25  \n179         85        27           34  \n185         90        24           29  \n122        143        19           27  \n44         176        15           19  \n16         182        15           20  \n55         135        16           23  \n150         62        27           32  \n111         95        25           25  \n22         102        24           30  \n189         88        25           31  \n129        110        21           28  \n4          115        18           22  \n83          88        25           32  \n106         97        19           24  \n134         69        31           36  \n\n\nOutputs/Labels of Testing Data:\n==============================\n\n18      6295.0\n170    10698.0\n107    13860.0\n98     13499.0\n177    15750.0\n182     8495.0\n5      15250.0\n146     5348.0\n12     21105.0\n152     6938.0\n61     11245.0\n125    37028.0\n180     7995.0\n154     7898.0\n80     14869.0\n7      18920.0\n33      7129.0\n130    15040.0\n37      9095.0\n74      6189.0\n183     9495.0\n145    11694.0\n45     35550.0\n159     8058.0\n60     10795.0\n123    32528.0\n179     7975.0\n185    11595.0\n122    22018.0\n44     32250.0\n16     36880.0\n55     15645.0\n150     7898.0\n111    17075.0\n22      7957.0\n189    12290.0\n129    12170.0\n4      17450.0\n83      8189.0\n106    12440.0\n134     5118.0\nName: price, dtype: float64\n"
     ]
    }
   ],
   "source": [
    "# Splitting Input Vectors and Outputs/Labels of Testing Data\n",
    "\n",
    "'''\n",
    "*---------------- SPLIT_INPUT_VECTORS_AND_LABELS --------------*\n",
    "|        Function: drop()                                      |\n",
    "|            Purpose: Splitting Input Vector and Labels        |\n",
    "|        Arguments:                                            |\n",
    "|            Attribute: Name or Location Attribute to Split    |\n",
    "|        Return:                                               |\n",
    "|            Attribute: Split Attributes                       |\n",
    "*--------------------------------------------------------------*\n",
    "'''\n",
    "y_test = testing_data.price\n",
    "testing_data.drop('price',axis=1,inplace=True)\n",
    "\n",
    "print(\"\\n\\nInputs Vectors (Feature Vectors) of Testing Data:\")\n",
    "print(\"=================================================\\n\")\n",
    "\n",
    "print(testing_data)\n",
    "\n",
    "print(\"\\n\\nOutputs/Labels of Testing Data:\")\n",
    "print(\"==============================\\n\")\n",
    "\n",
    "print(y_test)"
   ]
  },
  {
   "cell_type": "markdown",
   "metadata": {},
   "source": [
    "## Step 7.2: Load the Saved Model"
   ]
  },
  {
   "cell_type": "code",
   "execution_count": 428,
   "metadata": {},
   "outputs": [],
   "source": [
    "# Load the Saved Model\n",
    "\n",
    "''' \n",
    "*------------------- LOAD_SAVED_MODEL --------------------------*\n",
    "|         Function: load()                                      |\n",
    "|               Purpose: Method to Load Previously Saved Model  |\n",
    "|         Arguments:                                            |\n",
    "|               Model: Trained Model                            |\n",
    "|         Return:                                               |\n",
    "|               File: Saved Model will be Loaded in Memory      |\n",
    "*---------------------------------------------------------------*\n",
    "'''\n",
    "\n",
    "# Load the Saved Model\n",
    "\n",
    "model = pickle.load(open('svr_trained_model.pkl', 'rb'))"
   ]
  },
  {
   "cell_type": "markdown",
   "metadata": {},
   "source": [
    "## Step 7.3: Evaluate the Machine Learning Model\n",
    "### Step 7.3.1: Make Predictions with the Trained Models on Testing Data"
   ]
  },
  {
   "cell_type": "code",
   "execution_count": 429,
   "metadata": {},
   "outputs": [
    {
     "output_type": "stream",
     "name": "stdout",
     "text": [
      "Actual Value $6,295.00,Predicted value $6,575.00 (%-4.45)\n",
      "Actual Value $10,698.00,Predicted value $7,295.00 (%31.81)\n",
      "Actual Value $13,860.00,Predicted value $7,775.00 (%43.90)\n",
      "Actual Value $13,499.00,Predicted value $14,399.00 (%-6.67)\n",
      "Actual Value $15,750.00,Predicted value $15,690.00 (%0.38)\n",
      "Actual Value $8,495.00,Predicted value $8,845.00 (%-4.12)\n",
      "Actual Value $15,250.00,Predicted value $17,710.00 (%-16.13)\n",
      "Actual Value $5,348.00,Predicted value $7,775.00 (%-45.38)\n",
      "Actual Value $21,105.00,Predicted value $20,970.00 (%0.64)\n",
      "Actual Value $6,938.00,Predicted value $7,609.00 (%-9.67)\n",
      "Actual Value $11,245.00,Predicted value $8,845.00 (%21.34)\n",
      "Actual Value $37,028.00,Predicted value $34,028.00 (%8.10)\n",
      "Actual Value $7,995.00,Predicted value $7,775.00 (%2.75)\n",
      "Actual Value $7,898.00,Predicted value $7,775.00 (%1.56)\n",
      "Actual Value $14,869.00,Predicted value $14,489.00 (%2.56)\n",
      "Actual Value $18,920.00,Predicted value $17,710.00 (%6.40)\n",
      "Actual Value $7,129.00,Predicted value $7,295.00 (%-2.33)\n",
      "Actual Value $15,040.00,Predicted value $11,850.00 (%21.21)\n",
      "Actual Value $9,095.00,Predicted value $8,845.00 (%2.75)\n",
      "Actual Value $6,189.00,Predicted value $6,229.00 (%-0.65)\n",
      "Actual Value $9,495.00,Predicted value $5,572.00 (%41.32)\n",
      "Actual Value $11,694.00,Predicted value $16,500.00 (%-41.10)\n",
      "Actual Value $35,550.00,Predicted value $18,150.00 (%48.95)\n",
      "Actual Value $8,058.00,Predicted value $8,238.00 (%-2.23)\n",
      "Actual Value $10,795.00,Predicted value $7,775.00 (%27.98)\n",
      "Actual Value $32,528.00,Predicted value $34,028.00 (%-4.61)\n",
      "Actual Value $7,975.00,Predicted value $8,845.00 (%-10.91)\n",
      "Actual Value $11,595.00,Predicted value $9,980.00 (%13.93)\n",
      "Actual Value $22,018.00,Predicted value $18,150.00 (%17.57)\n",
      "Actual Value $32,250.00,Predicted value $18,150.00 (%43.72)\n",
      "Actual Value $36,880.00,Predicted value $41,315.00 (%-12.03)\n",
      "Actual Value $15,645.00,Predicted value $18,150.00 (%-16.01)\n",
      "Actual Value $7,898.00,Predicted value $8,778.00 (%-11.14)\n",
      "Actual Value $17,075.00,Predicted value $7,775.00 (%54.47)\n",
      "Actual Value $7,957.00,Predicted value $7,957.00 (%0.00)\n",
      "Actual Value $12,290.00,Predicted value $8,921.00 (%27.41)\n",
      "Actual Value $12,170.00,Predicted value $15,510.00 (%-27.44)\n",
      "Actual Value $17,450.00,Predicted value $16,500.00 (%5.44)\n",
      "Actual Value $8,189.00,Predicted value $6,989.00 (%14.65)\n",
      "Actual Value $12,440.00,Predicted value $16,630.00 (%-33.68)\n",
      "Actual Value $5,118.00,Predicted value $6,229.00 (%-21.71)\n"
     ]
    }
   ],
   "source": [
    "# Evaluate the Machine Learning Model\n",
    "\n",
    "''' \n",
    "*--------------------- EVALUATE_MACHINE_LEARNING_MODEL ----------------------*\n",
    "|       Function: Predict()                                                  |\n",
    "|             Purpose: Make a Prediction using Algorithm on Test Data        |\n",
    "|       Arguments:                                                           |\n",
    "|            Testing Data: Provide Test data to the Trained Model            |\n",
    "|       Return:                                                              |\n",
    "|            Predictions: Model return Predictions                           |\n",
    "*----------------------------------------------------------------------------* \n",
    "'''\n",
    "\n",
    "# Provide Test data to the Trained Model\n",
    "\n",
    "y_pred=svr_model.predict(testing_data)\n",
    "actual_data=np.array(y_test)\n",
    "for i in range(len(y_pred)):\n",
    "    expl=((actual_data[i]-y_pred[i])/actual_data[i])*100.0\n",
    "    print('Actual Value ${:,.2f},Predicted value ${:,.2f} (%{:,.2f})'.format(actual_data[i],y_pred[i],expl))\n",
    "\n"
   ]
  },
  {
   "cell_type": "markdown",
   "metadata": {},
   "source": [
    "## Step 7.4: Calculate the r2 score"
   ]
  },
  {
   "cell_type": "code",
   "execution_count": 430,
   "metadata": {},
   "outputs": [
    {
     "output_type": "stream",
     "name": "stdout",
     "text": [
      "Accuracy of Test,Predict  Data  is %73.75\nAccuracy of Train Data is %96.18\n"
     ]
    }
   ],
   "source": [
    "# Calculate the r2_score error\n",
    "\n",
    "''' \n",
    "/*------------------------ CALCULATE_ROOT_MEAN_SQUARE_ERROR -----------------*\n",
    "|          Function: r2_score()                              |\n",
    "|                Purpose: Evaluate the algorithm on Testing data       |\n",
    "|          Arguments:                                                  |\n",
    "|                Prediction: Predicted values                          |\n",
    "|                Label: Actual values                                  |\n",
    "|          Return:                                                     |\n",
    "|                r2_score                               |\n",
    "*----------------------------------------------------------------------*\n",
    "'''\n",
    "\n",
    "r_square=r2_score(y_test,y_pred)*100.0  #in LinearRegression not exist accuracy exist the r2_square to calc diff**2 between predict and actual \n",
    "r_train=r2_score(y_train,svr_model.predict(training_data))*100.0\n",
    "print('Accuracy of Test,Predict  Data  is %{:,.2f}'.format(r_square))\n",
    "print('Accuracy of Train Data is %{:,.2f}'.format(r_train))"
   ]
  },
  {
   "cell_type": "code",
   "execution_count": 431,
   "metadata": {},
   "outputs": [
    {
     "output_type": "display_data",
     "data": {
      "text/plain": "<Figure size 504x504 with 1 Axes>",
      "image/svg+xml": "<?xml version=\"1.0\" encoding=\"utf-8\" standalone=\"no\"?>\r\n<!DOCTYPE svg PUBLIC \"-//W3C//DTD SVG 1.1//EN\"\r\n  \"http://www.w3.org/Graphics/SVG/1.1/DTD/svg11.dtd\">\r\n<!-- Created with matplotlib (https://matplotlib.org/) -->\r\n<svg height=\"421.0075pt\" version=\"1.1\" viewBox=\"0 0 443.8125 421.0075\" width=\"443.8125pt\" xmlns=\"http://www.w3.org/2000/svg\" xmlns:xlink=\"http://www.w3.org/1999/xlink\">\r\n <defs>\r\n  <style type=\"text/css\">\r\n*{stroke-linecap:butt;stroke-linejoin:round;}\r\n  </style>\r\n </defs>\r\n <g id=\"figure_1\">\r\n  <g id=\"patch_1\">\r\n   <path d=\"M 0 421.0075 \r\nL 443.8125 421.0075 \r\nL 443.8125 0 \r\nL 0 0 \r\nz\r\n\" style=\"fill:none;\"/>\r\n  </g>\r\n  <g id=\"axes_1\">\r\n   <g id=\"patch_2\">\r\n    <path d=\"M 46.0125 387.72 \r\nL 436.6125 387.72 \r\nL 436.6125 7.2 \r\nL 46.0125 7.2 \r\nz\r\n\" style=\"fill:#ffffff;\"/>\r\n   </g>\r\n   <g id=\"patch_3\">\r\n    <path clip-path=\"url(#p38d4c75eeb)\" d=\"M 49.9185 387.72 \r\nL 53.8245 387.72 \r\nL 53.8245 326.109651 \r\nL 49.9185 326.109651 \r\nz\r\n\" style=\"fill:#1f77b4;\"/>\r\n   </g>\r\n   <g id=\"patch_4\">\r\n    <path clip-path=\"url(#p38d4c75eeb)\" d=\"M 65.5425 387.72 \r\nL 69.4485 387.72 \r\nL 69.4485 283.016662 \r\nL 65.5425 283.016662 \r\nz\r\n\" style=\"fill:#1f77b4;\"/>\r\n   </g>\r\n   <g id=\"patch_5\">\r\n    <path clip-path=\"url(#p38d4c75eeb)\" d=\"M 81.1665 387.72 \r\nL 85.0725 387.72 \r\nL 85.0725 252.069573 \r\nL 81.1665 252.069573 \r\nz\r\n\" style=\"fill:#1f77b4;\"/>\r\n   </g>\r\n   <g id=\"patch_6\">\r\n    <path clip-path=\"url(#p38d4c75eeb)\" d=\"M 96.7905 387.72 \r\nL 100.6965 387.72 \r\nL 100.6965 255.602748 \r\nL 96.7905 255.602748 \r\nz\r\n\" style=\"fill:#1f77b4;\"/>\r\n   </g>\r\n   <g id=\"patch_7\">\r\n    <path clip-path=\"url(#p38d4c75eeb)\" d=\"M 112.4145 387.72 \r\nL 116.3205 387.72 \r\nL 116.3205 233.571788 \r\nL 112.4145 233.571788 \r\nz\r\n\" style=\"fill:#1f77b4;\"/>\r\n   </g>\r\n   <g id=\"patch_8\">\r\n    <path clip-path=\"url(#p38d4c75eeb)\" d=\"M 128.0385 387.72 \r\nL 131.9445 387.72 \r\nL 131.9445 304.577837 \r\nL 128.0385 304.577837 \r\nz\r\n\" style=\"fill:#1f77b4;\"/>\r\n   </g>\r\n   <g id=\"patch_9\">\r\n    <path clip-path=\"url(#p38d4c75eeb)\" d=\"M 143.6625 387.72 \r\nL 147.5685 387.72 \r\nL 147.5685 238.465382 \r\nL 143.6625 238.465382 \r\nz\r\n\" style=\"fill:#1f77b4;\"/>\r\n   </g>\r\n   <g id=\"patch_10\">\r\n    <path clip-path=\"url(#p38d4c75eeb)\" d=\"M 159.2865 387.72 \r\nL 163.1925 387.72 \r\nL 163.1925 335.378118 \r\nL 159.2865 335.378118 \r\nz\r\n\" style=\"fill:#1f77b4;\"/>\r\n   </g>\r\n   <g id=\"patch_11\">\r\n    <path clip-path=\"url(#p38d4c75eeb)\" d=\"M 174.9105 387.72 \r\nL 178.8165 387.72 \r\nL 178.8165 181.161396 \r\nL 174.9105 181.161396 \r\nz\r\n\" style=\"fill:#1f77b4;\"/>\r\n   </g>\r\n   <g id=\"patch_12\">\r\n    <path clip-path=\"url(#p38d4c75eeb)\" d=\"M 190.5345 387.72 \r\nL 194.4405 387.72 \r\nL 194.4405 319.816489 \r\nL 190.5345 319.816489 \r\nz\r\n\" style=\"fill:#1f77b4;\"/>\r\n   </g>\r\n   <g id=\"patch_13\">\r\n    <path clip-path=\"url(#p38d4c75eeb)\" d=\"M 206.1585 387.72 \r\nL 210.0645 387.72 \r\nL 210.0645 277.66307 \r\nL 206.1585 277.66307 \r\nz\r\n\" style=\"fill:#1f77b4;\"/>\r\n   </g>\r\n   <g id=\"patch_14\">\r\n    <path clip-path=\"url(#p38d4c75eeb)\" d=\"M 221.7825 387.72 \r\nL 225.6885 387.72 \r\nL 225.6885 25.32 \r\nL 221.7825 25.32 \r\nz\r\n\" style=\"fill:#1f77b4;\"/>\r\n   </g>\r\n   <g id=\"patch_15\">\r\n    <path clip-path=\"url(#p38d4c75eeb)\" d=\"M 237.4065 387.72 \r\nL 241.3125 387.72 \r\nL 241.3125 309.471431 \r\nL 237.4065 309.471431 \r\nz\r\n\" style=\"fill:#1f77b4;\"/>\r\n   </g>\r\n   <g id=\"patch_16\">\r\n    <path clip-path=\"url(#p38d4c75eeb)\" d=\"M 253.0305 387.72 \r\nL 256.9365 387.72 \r\nL 256.9365 310.420789 \r\nL 253.0305 310.420789 \r\nz\r\n\" style=\"fill:#1f77b4;\"/>\r\n   </g>\r\n   <g id=\"patch_17\">\r\n    <path clip-path=\"url(#p38d4c75eeb)\" d=\"M 268.6545 387.72 \r\nL 272.5605 387.72 \r\nL 272.5605 242.194301 \r\nL 268.6545 242.194301 \r\nz\r\n\" style=\"fill:#1f77b4;\"/>\r\n   </g>\r\n   <g id=\"patch_18\">\r\n    <path clip-path=\"url(#p38d4c75eeb)\" d=\"M 284.2785 387.72 \r\nL 288.1845 387.72 \r\nL 288.1845 202.546402 \r\nL 284.2785 202.546402 \r\nz\r\n\" style=\"fill:#1f77b4;\"/>\r\n   </g>\r\n   <g id=\"patch_19\">\r\n    <path clip-path=\"url(#p38d4c75eeb)\" d=\"M 299.9025 387.72 \r\nL 303.8085 387.72 \r\nL 303.8085 317.947136 \r\nL 299.9025 317.947136 \r\nz\r\n\" style=\"fill:#1f77b4;\"/>\r\n   </g>\r\n   <g id=\"patch_20\">\r\n    <path clip-path=\"url(#p38d4c75eeb)\" d=\"M 315.5265 387.72 \r\nL 319.4325 387.72 \r\nL 319.4325 240.520691 \r\nL 315.5265 240.520691 \r\nz\r\n\" style=\"fill:#1f77b4;\"/>\r\n   </g>\r\n   <g id=\"patch_21\">\r\n    <path clip-path=\"url(#p38d4c75eeb)\" d=\"M 331.1505 387.72 \r\nL 335.0565 387.72 \r\nL 335.0565 298.705524 \r\nL 331.1505 298.705524 \r\nz\r\n\" style=\"fill:#1f77b4;\"/>\r\n   </g>\r\n   <g id=\"patch_22\">\r\n    <path clip-path=\"url(#p38d4c75eeb)\" d=\"M 346.7745 387.72 \r\nL 350.6805 387.72 \r\nL 350.6805 327.147093 \r\nL 346.7745 327.147093 \r\nz\r\n\" style=\"fill:#1f77b4;\"/>\r\n   </g>\r\n   <g id=\"patch_23\">\r\n    <path clip-path=\"url(#p38d4c75eeb)\" d=\"M 362.3985 387.72 \r\nL 366.3045 387.72 \r\nL 366.3045 294.790649 \r\nL 362.3985 294.790649 \r\nz\r\n\" style=\"fill:#1f77b4;\"/>\r\n   </g>\r\n   <g id=\"patch_24\">\r\n    <path clip-path=\"url(#p38d4c75eeb)\" d=\"M 378.0225 387.72 \r\nL 381.9285 387.72 \r\nL 381.9285 273.268623 \r\nL 378.0225 273.268623 \r\nz\r\n\" style=\"fill:#1f77b4;\"/>\r\n   </g>\r\n   <g id=\"patch_25\">\r\n    <path clip-path=\"url(#p38d4c75eeb)\" d=\"M 393.6465 387.72 \r\nL 397.5525 387.72 \r\nL 397.5525 39.785464 \r\nL 393.6465 39.785464 \r\nz\r\n\" style=\"fill:#1f77b4;\"/>\r\n   </g>\r\n   <g id=\"patch_26\">\r\n    <path clip-path=\"url(#p38d4c75eeb)\" d=\"M 409.2705 387.72 \r\nL 413.1765 387.72 \r\nL 413.1765 308.854839 \r\nL 409.2705 308.854839 \r\nz\r\n\" style=\"fill:#1f77b4;\"/>\r\n   </g>\r\n   <g id=\"patch_27\">\r\n    <path clip-path=\"url(#p38d4c75eeb)\" d=\"M 424.8945 387.72 \r\nL 428.8005 387.72 \r\nL 428.8005 282.067305 \r\nL 424.8945 282.067305 \r\nz\r\n\" style=\"fill:#1f77b4;\"/>\r\n   </g>\r\n   <g id=\"patch_28\">\r\n    <path clip-path=\"url(#p38d4c75eeb)\" d=\"M 53.8245 387.72 \r\nL 57.7305 387.72 \r\nL 57.7305 323.369238 \r\nL 53.8245 323.369238 \r\nz\r\n\" style=\"fill:#ff7f0e;\"/>\r\n   </g>\r\n   <g id=\"patch_29\">\r\n    <path clip-path=\"url(#p38d4c75eeb)\" d=\"M 69.4485 387.72 \r\nL 73.3545 387.72 \r\nL 73.3545 316.322463 \r\nL 69.4485 316.322463 \r\nz\r\n\" style=\"fill:#ff7f0e;\"/>\r\n   </g>\r\n   <g id=\"patch_30\">\r\n    <path clip-path=\"url(#p38d4c75eeb)\" d=\"M 85.0725 387.72 \r\nL 88.9785 387.72 \r\nL 88.9785 311.624613 \r\nL 85.0725 311.624613 \r\nz\r\n\" style=\"fill:#ff7f0e;\"/>\r\n   </g>\r\n   <g id=\"patch_31\">\r\n    <path clip-path=\"url(#p38d4c75eeb)\" d=\"M 100.6965 387.72 \r\nL 104.6025 387.72 \r\nL 104.6025 246.794279 \r\nL 100.6965 246.794279 \r\nz\r\n\" style=\"fill:#ff7f0e;\"/>\r\n   </g>\r\n   <g id=\"patch_32\">\r\n    <path clip-path=\"url(#p38d4c75eeb)\" d=\"M 116.3205 387.72 \r\nL 120.2265 387.72 \r\nL 120.2265 234.159019 \r\nL 116.3205 234.159019 \r\nz\r\n\" style=\"fill:#ff7f0e;\"/>\r\n   </g>\r\n   <g id=\"patch_33\">\r\n    <path clip-path=\"url(#p38d4c75eeb)\" d=\"M 131.9445 387.72 \r\nL 135.8505 387.72 \r\nL 135.8505 301.152321 \r\nL 131.9445 301.152321 \r\nz\r\n\" style=\"fill:#ff7f0e;\"/>\r\n   </g>\r\n   <g id=\"patch_34\">\r\n    <path clip-path=\"url(#p38d4c75eeb)\" d=\"M 147.5685 387.72 \r\nL 151.4745 387.72 \r\nL 151.4745 214.388899 \r\nL 147.5685 214.388899 \r\nz\r\n\" style=\"fill:#ff7f0e;\"/>\r\n   </g>\r\n   <g id=\"patch_35\">\r\n    <path clip-path=\"url(#p38d4c75eeb)\" d=\"M 163.1925 387.72 \r\nL 167.0985 387.72 \r\nL 167.0985 311.624613 \r\nL 163.1925 311.624613 \r\nz\r\n\" style=\"fill:#ff7f0e;\"/>\r\n   </g>\r\n   <g id=\"patch_36\">\r\n    <path clip-path=\"url(#p38d4c75eeb)\" d=\"M 178.8165 387.72 \r\nL 182.7225 387.72 \r\nL 182.7225 182.482666 \r\nL 178.8165 182.482666 \r\nz\r\n\" style=\"fill:#ff7f0e;\"/>\r\n   </g>\r\n   <g id=\"patch_37\">\r\n    <path clip-path=\"url(#p38d4c75eeb)\" d=\"M 194.4405 387.72 \r\nL 198.3465 387.72 \r\nL 198.3465 313.249286 \r\nL 194.4405 313.249286 \r\nz\r\n\" style=\"fill:#ff7f0e;\"/>\r\n   </g>\r\n   <g id=\"patch_38\">\r\n    <path clip-path=\"url(#p38d4c75eeb)\" d=\"M 210.0645 387.72 \r\nL 213.9705 387.72 \r\nL 213.9705 301.152321 \r\nL 210.0645 301.152321 \r\nz\r\n\" style=\"fill:#ff7f0e;\"/>\r\n   </g>\r\n   <g id=\"patch_39\">\r\n    <path clip-path=\"url(#p38d4c75eeb)\" d=\"M 225.6885 387.72 \r\nL 229.5945 387.72 \r\nL 229.5945 54.681564 \r\nL 225.6885 54.681564 \r\nz\r\n\" style=\"fill:#ff7f0e;\"/>\r\n   </g>\r\n   <g id=\"patch_40\">\r\n    <path clip-path=\"url(#p38d4c75eeb)\" d=\"M 241.3125 387.72 \r\nL 245.2185 387.72 \r\nL 245.2185 311.624613 \r\nL 241.3125 311.624613 \r\nz\r\n\" style=\"fill:#ff7f0e;\"/>\r\n   </g>\r\n   <g id=\"patch_41\">\r\n    <path clip-path=\"url(#p38d4c75eeb)\" d=\"M 256.9365 387.72 \r\nL 260.8425 387.72 \r\nL 260.8425 311.624613 \r\nL 256.9365 311.624613 \r\nz\r\n\" style=\"fill:#ff7f0e;\"/>\r\n   </g>\r\n   <g id=\"patch_42\">\r\n    <path clip-path=\"url(#p38d4c75eeb)\" d=\"M 272.5605 387.72 \r\nL 276.4665 387.72 \r\nL 276.4665 245.913432 \r\nL 272.5605 245.913432 \r\nz\r\n\" style=\"fill:#ff7f0e;\"/>\r\n   </g>\r\n   <g id=\"patch_43\">\r\n    <path clip-path=\"url(#p38d4c75eeb)\" d=\"M 288.1845 387.72 \r\nL 292.0905 387.72 \r\nL 292.0905 214.388899 \r\nL 288.1845 214.388899 \r\nz\r\n\" style=\"fill:#ff7f0e;\"/>\r\n   </g>\r\n   <g id=\"patch_44\">\r\n    <path clip-path=\"url(#p38d4c75eeb)\" d=\"M 303.8085 387.72 \r\nL 307.7145 387.72 \r\nL 307.7145 316.322463 \r\nL 303.8085 316.322463 \r\nz\r\n\" style=\"fill:#ff7f0e;\"/>\r\n   </g>\r\n   <g id=\"patch_45\">\r\n    <path clip-path=\"url(#p38d4c75eeb)\" d=\"M 319.4325 387.72 \r\nL 323.3385 387.72 \r\nL 323.3385 271.741821 \r\nL 319.4325 271.741821 \r\nz\r\n\" style=\"fill:#ff7f0e;\"/>\r\n   </g>\r\n   <g id=\"patch_46\">\r\n    <path clip-path=\"url(#p38d4c75eeb)\" d=\"M 335.0565 387.72 \r\nL 338.9625 387.72 \r\nL 338.9625 301.152321 \r\nL 335.0565 301.152321 \r\nz\r\n\" style=\"fill:#ff7f0e;\"/>\r\n   </g>\r\n   <g id=\"patch_47\">\r\n    <path clip-path=\"url(#p38d4c75eeb)\" d=\"M 350.6805 387.72 \r\nL 354.5865 387.72 \r\nL 354.5865 326.755605 \r\nL 350.6805 326.755605 \r\nz\r\n\" style=\"fill:#ff7f0e;\"/>\r\n   </g>\r\n   <g id=\"patch_48\">\r\n    <path clip-path=\"url(#p38d4c75eeb)\" d=\"M 366.3045 387.72 \r\nL 370.2105 387.72 \r\nL 370.2105 333.185788 \r\nL 366.3045 333.185788 \r\nz\r\n\" style=\"fill:#ff7f0e;\"/>\r\n   </g>\r\n   <g id=\"patch_49\">\r\n    <path clip-path=\"url(#p38d4c75eeb)\" d=\"M 381.9285 387.72 \r\nL 385.8345 387.72 \r\nL 385.8345 226.231397 \r\nL 381.9285 226.231397 \r\nz\r\n\" style=\"fill:#ff7f0e;\"/>\r\n   </g>\r\n   <g id=\"patch_50\">\r\n    <path clip-path=\"url(#p38d4c75eeb)\" d=\"M 397.5525 387.72 \r\nL 401.4585 387.72 \r\nL 401.4585 210.082536 \r\nL 397.5525 210.082536 \r\nz\r\n\" style=\"fill:#ff7f0e;\"/>\r\n   </g>\r\n   <g id=\"patch_51\">\r\n    <path clip-path=\"url(#p38d4c75eeb)\" d=\"M 413.1765 387.72 \r\nL 417.0825 387.72 \r\nL 417.0825 307.093145 \r\nL 413.1765 307.093145 \r\nz\r\n\" style=\"fill:#ff7f0e;\"/>\r\n   </g>\r\n   <g id=\"patch_52\">\r\n    <path clip-path=\"url(#p38d4c75eeb)\" d=\"M 428.8005 387.72 \r\nL 432.7065 387.72 \r\nL 432.7065 311.624613 \r\nL 428.8005 311.624613 \r\nz\r\n\" style=\"fill:#ff7f0e;\"/>\r\n   </g>\r\n   <g id=\"matplotlib.axis_1\">\r\n    <g id=\"xtick_1\">\r\n     <g id=\"line2d_1\">\r\n      <path clip-path=\"url(#p38d4c75eeb)\" d=\"M 53.8245 387.72 \r\nL 53.8245 7.2 \r\n\" style=\"fill:none;stroke:#008000;stroke-linecap:square;stroke-width:0.5;\"/>\r\n     </g>\r\n     <g id=\"line2d_2\">\r\n      <defs>\r\n       <path d=\"M 0 0 \r\nL 0 3.5 \r\n\" id=\"m4478f561fc\" style=\"stroke:#000000;stroke-width:0.8;\"/>\r\n      </defs>\r\n      <g>\r\n       <use style=\"stroke:#000000;stroke-width:0.8;\" x=\"53.8245\" xlink:href=\"#m4478f561fc\" y=\"387.72\"/>\r\n      </g>\r\n     </g>\r\n     <g id=\"text_1\">\r\n      <!-- 18 -->\r\n      <defs>\r\n       <path d=\"M 12.40625 8.296875 \r\nL 28.515625 8.296875 \r\nL 28.515625 63.921875 \r\nL 10.984375 60.40625 \r\nL 10.984375 69.390625 \r\nL 28.421875 72.90625 \r\nL 38.28125 72.90625 \r\nL 38.28125 8.296875 \r\nL 54.390625 8.296875 \r\nL 54.390625 0 \r\nL 12.40625 0 \r\nz\r\n\" id=\"DejaVuSans-49\"/>\r\n       <path d=\"M 31.78125 34.625 \r\nQ 24.75 34.625 20.71875 30.859375 \r\nQ 16.703125 27.09375 16.703125 20.515625 \r\nQ 16.703125 13.921875 20.71875 10.15625 \r\nQ 24.75 6.390625 31.78125 6.390625 \r\nQ 38.8125 6.390625 42.859375 10.171875 \r\nQ 46.921875 13.96875 46.921875 20.515625 \r\nQ 46.921875 27.09375 42.890625 30.859375 \r\nQ 38.875 34.625 31.78125 34.625 \r\nz\r\nM 21.921875 38.8125 \r\nQ 15.578125 40.375 12.03125 44.71875 \r\nQ 8.5 49.078125 8.5 55.328125 \r\nQ 8.5 64.0625 14.71875 69.140625 \r\nQ 20.953125 74.21875 31.78125 74.21875 \r\nQ 42.671875 74.21875 48.875 69.140625 \r\nQ 55.078125 64.0625 55.078125 55.328125 \r\nQ 55.078125 49.078125 51.53125 44.71875 \r\nQ 48 40.375 41.703125 38.8125 \r\nQ 48.828125 37.15625 52.796875 32.3125 \r\nQ 56.78125 27.484375 56.78125 20.515625 \r\nQ 56.78125 9.90625 50.3125 4.234375 \r\nQ 43.84375 -1.421875 31.78125 -1.421875 \r\nQ 19.734375 -1.421875 13.25 4.234375 \r\nQ 6.78125 9.90625 6.78125 20.515625 \r\nQ 6.78125 27.484375 10.78125 32.3125 \r\nQ 14.796875 37.15625 21.921875 38.8125 \r\nz\r\nM 18.3125 54.390625 \r\nQ 18.3125 48.734375 21.84375 45.5625 \r\nQ 25.390625 42.390625 31.78125 42.390625 \r\nQ 38.140625 42.390625 41.71875 45.5625 \r\nQ 45.3125 48.734375 45.3125 54.390625 \r\nQ 45.3125 60.0625 41.71875 63.234375 \r\nQ 38.140625 66.40625 31.78125 66.40625 \r\nQ 25.390625 66.40625 21.84375 63.234375 \r\nQ 18.3125 60.0625 18.3125 54.390625 \r\nz\r\n\" id=\"DejaVuSans-56\"/>\r\n      </defs>\r\n      <g transform=\"translate(56.583875 407.445)rotate(-90)scale(0.1 -0.1)\">\r\n       <use xlink:href=\"#DejaVuSans-49\"/>\r\n       <use x=\"63.623047\" xlink:href=\"#DejaVuSans-56\"/>\r\n      </g>\r\n     </g>\r\n    </g>\r\n    <g id=\"xtick_2\">\r\n     <g id=\"line2d_3\">\r\n      <path clip-path=\"url(#p38d4c75eeb)\" d=\"M 69.4485 387.72 \r\nL 69.4485 7.2 \r\n\" style=\"fill:none;stroke:#008000;stroke-linecap:square;stroke-width:0.5;\"/>\r\n     </g>\r\n     <g id=\"line2d_4\">\r\n      <g>\r\n       <use style=\"stroke:#000000;stroke-width:0.8;\" x=\"69.4485\" xlink:href=\"#m4478f561fc\" y=\"387.72\"/>\r\n      </g>\r\n     </g>\r\n     <g id=\"text_2\">\r\n      <!-- 170 -->\r\n      <defs>\r\n       <path d=\"M 8.203125 72.90625 \r\nL 55.078125 72.90625 \r\nL 55.078125 68.703125 \r\nL 28.609375 0 \r\nL 18.3125 0 \r\nL 43.21875 64.59375 \r\nL 8.203125 64.59375 \r\nz\r\n\" id=\"DejaVuSans-55\"/>\r\n       <path d=\"M 31.78125 66.40625 \r\nQ 24.171875 66.40625 20.328125 58.90625 \r\nQ 16.5 51.421875 16.5 36.375 \r\nQ 16.5 21.390625 20.328125 13.890625 \r\nQ 24.171875 6.390625 31.78125 6.390625 \r\nQ 39.453125 6.390625 43.28125 13.890625 \r\nQ 47.125 21.390625 47.125 36.375 \r\nQ 47.125 51.421875 43.28125 58.90625 \r\nQ 39.453125 66.40625 31.78125 66.40625 \r\nz\r\nM 31.78125 74.21875 \r\nQ 44.046875 74.21875 50.515625 64.515625 \r\nQ 56.984375 54.828125 56.984375 36.375 \r\nQ 56.984375 17.96875 50.515625 8.265625 \r\nQ 44.046875 -1.421875 31.78125 -1.421875 \r\nQ 19.53125 -1.421875 13.0625 8.265625 \r\nQ 6.59375 17.96875 6.59375 36.375 \r\nQ 6.59375 54.828125 13.0625 64.515625 \r\nQ 19.53125 74.21875 31.78125 74.21875 \r\nz\r\n\" id=\"DejaVuSans-48\"/>\r\n      </defs>\r\n      <g transform=\"translate(72.207875 413.8075)rotate(-90)scale(0.1 -0.1)\">\r\n       <use xlink:href=\"#DejaVuSans-49\"/>\r\n       <use x=\"63.623047\" xlink:href=\"#DejaVuSans-55\"/>\r\n       <use x=\"127.246094\" xlink:href=\"#DejaVuSans-48\"/>\r\n      </g>\r\n     </g>\r\n    </g>\r\n    <g id=\"xtick_3\">\r\n     <g id=\"line2d_5\">\r\n      <path clip-path=\"url(#p38d4c75eeb)\" d=\"M 85.0725 387.72 \r\nL 85.0725 7.2 \r\n\" style=\"fill:none;stroke:#008000;stroke-linecap:square;stroke-width:0.5;\"/>\r\n     </g>\r\n     <g id=\"line2d_6\">\r\n      <g>\r\n       <use style=\"stroke:#000000;stroke-width:0.8;\" x=\"85.0725\" xlink:href=\"#m4478f561fc\" y=\"387.72\"/>\r\n      </g>\r\n     </g>\r\n     <g id=\"text_3\">\r\n      <!-- 107 -->\r\n      <g transform=\"translate(87.831875 413.8075)rotate(-90)scale(0.1 -0.1)\">\r\n       <use xlink:href=\"#DejaVuSans-49\"/>\r\n       <use x=\"63.623047\" xlink:href=\"#DejaVuSans-48\"/>\r\n       <use x=\"127.246094\" xlink:href=\"#DejaVuSans-55\"/>\r\n      </g>\r\n     </g>\r\n    </g>\r\n    <g id=\"xtick_4\">\r\n     <g id=\"line2d_7\">\r\n      <path clip-path=\"url(#p38d4c75eeb)\" d=\"M 100.6965 387.72 \r\nL 100.6965 7.2 \r\n\" style=\"fill:none;stroke:#008000;stroke-linecap:square;stroke-width:0.5;\"/>\r\n     </g>\r\n     <g id=\"line2d_8\">\r\n      <g>\r\n       <use style=\"stroke:#000000;stroke-width:0.8;\" x=\"100.6965\" xlink:href=\"#m4478f561fc\" y=\"387.72\"/>\r\n      </g>\r\n     </g>\r\n     <g id=\"text_4\">\r\n      <!-- 98 -->\r\n      <defs>\r\n       <path d=\"M 10.984375 1.515625 \r\nL 10.984375 10.5 \r\nQ 14.703125 8.734375 18.5 7.8125 \r\nQ 22.3125 6.890625 25.984375 6.890625 \r\nQ 35.75 6.890625 40.890625 13.453125 \r\nQ 46.046875 20.015625 46.78125 33.40625 \r\nQ 43.953125 29.203125 39.59375 26.953125 \r\nQ 35.25 24.703125 29.984375 24.703125 \r\nQ 19.046875 24.703125 12.671875 31.3125 \r\nQ 6.296875 37.9375 6.296875 49.421875 \r\nQ 6.296875 60.640625 12.9375 67.421875 \r\nQ 19.578125 74.21875 30.609375 74.21875 \r\nQ 43.265625 74.21875 49.921875 64.515625 \r\nQ 56.59375 54.828125 56.59375 36.375 \r\nQ 56.59375 19.140625 48.40625 8.859375 \r\nQ 40.234375 -1.421875 26.421875 -1.421875 \r\nQ 22.703125 -1.421875 18.890625 -0.6875 \r\nQ 15.09375 0.046875 10.984375 1.515625 \r\nz\r\nM 30.609375 32.421875 \r\nQ 37.25 32.421875 41.125 36.953125 \r\nQ 45.015625 41.5 45.015625 49.421875 \r\nQ 45.015625 57.28125 41.125 61.84375 \r\nQ 37.25 66.40625 30.609375 66.40625 \r\nQ 23.96875 66.40625 20.09375 61.84375 \r\nQ 16.21875 57.28125 16.21875 49.421875 \r\nQ 16.21875 41.5 20.09375 36.953125 \r\nQ 23.96875 32.421875 30.609375 32.421875 \r\nz\r\n\" id=\"DejaVuSans-57\"/>\r\n      </defs>\r\n      <g transform=\"translate(103.455875 407.445)rotate(-90)scale(0.1 -0.1)\">\r\n       <use xlink:href=\"#DejaVuSans-57\"/>\r\n       <use x=\"63.623047\" xlink:href=\"#DejaVuSans-56\"/>\r\n      </g>\r\n     </g>\r\n    </g>\r\n    <g id=\"xtick_5\">\r\n     <g id=\"line2d_9\">\r\n      <path clip-path=\"url(#p38d4c75eeb)\" d=\"M 116.3205 387.72 \r\nL 116.3205 7.2 \r\n\" style=\"fill:none;stroke:#008000;stroke-linecap:square;stroke-width:0.5;\"/>\r\n     </g>\r\n     <g id=\"line2d_10\">\r\n      <g>\r\n       <use style=\"stroke:#000000;stroke-width:0.8;\" x=\"116.3205\" xlink:href=\"#m4478f561fc\" y=\"387.72\"/>\r\n      </g>\r\n     </g>\r\n     <g id=\"text_5\">\r\n      <!-- 177 -->\r\n      <g transform=\"translate(119.079875 413.8075)rotate(-90)scale(0.1 -0.1)\">\r\n       <use xlink:href=\"#DejaVuSans-49\"/>\r\n       <use x=\"63.623047\" xlink:href=\"#DejaVuSans-55\"/>\r\n       <use x=\"127.246094\" xlink:href=\"#DejaVuSans-55\"/>\r\n      </g>\r\n     </g>\r\n    </g>\r\n    <g id=\"xtick_6\">\r\n     <g id=\"line2d_11\">\r\n      <path clip-path=\"url(#p38d4c75eeb)\" d=\"M 131.9445 387.72 \r\nL 131.9445 7.2 \r\n\" style=\"fill:none;stroke:#008000;stroke-linecap:square;stroke-width:0.5;\"/>\r\n     </g>\r\n     <g id=\"line2d_12\">\r\n      <g>\r\n       <use style=\"stroke:#000000;stroke-width:0.8;\" x=\"131.9445\" xlink:href=\"#m4478f561fc\" y=\"387.72\"/>\r\n      </g>\r\n     </g>\r\n     <g id=\"text_6\">\r\n      <!-- 182 -->\r\n      <defs>\r\n       <path d=\"M 19.1875 8.296875 \r\nL 53.609375 8.296875 \r\nL 53.609375 0 \r\nL 7.328125 0 \r\nL 7.328125 8.296875 \r\nQ 12.9375 14.109375 22.625 23.890625 \r\nQ 32.328125 33.6875 34.8125 36.53125 \r\nQ 39.546875 41.84375 41.421875 45.53125 \r\nQ 43.3125 49.21875 43.3125 52.78125 \r\nQ 43.3125 58.59375 39.234375 62.25 \r\nQ 35.15625 65.921875 28.609375 65.921875 \r\nQ 23.96875 65.921875 18.8125 64.3125 \r\nQ 13.671875 62.703125 7.8125 59.421875 \r\nL 7.8125 69.390625 \r\nQ 13.765625 71.78125 18.9375 73 \r\nQ 24.125 74.21875 28.421875 74.21875 \r\nQ 39.75 74.21875 46.484375 68.546875 \r\nQ 53.21875 62.890625 53.21875 53.421875 \r\nQ 53.21875 48.921875 51.53125 44.890625 \r\nQ 49.859375 40.875 45.40625 35.40625 \r\nQ 44.1875 33.984375 37.640625 27.21875 \r\nQ 31.109375 20.453125 19.1875 8.296875 \r\nz\r\n\" id=\"DejaVuSans-50\"/>\r\n      </defs>\r\n      <g transform=\"translate(134.703875 413.8075)rotate(-90)scale(0.1 -0.1)\">\r\n       <use xlink:href=\"#DejaVuSans-49\"/>\r\n       <use x=\"63.623047\" xlink:href=\"#DejaVuSans-56\"/>\r\n       <use x=\"127.246094\" xlink:href=\"#DejaVuSans-50\"/>\r\n      </g>\r\n     </g>\r\n    </g>\r\n    <g id=\"xtick_7\">\r\n     <g id=\"line2d_13\">\r\n      <path clip-path=\"url(#p38d4c75eeb)\" d=\"M 147.5685 387.72 \r\nL 147.5685 7.2 \r\n\" style=\"fill:none;stroke:#008000;stroke-linecap:square;stroke-width:0.5;\"/>\r\n     </g>\r\n     <g id=\"line2d_14\">\r\n      <g>\r\n       <use style=\"stroke:#000000;stroke-width:0.8;\" x=\"147.5685\" xlink:href=\"#m4478f561fc\" y=\"387.72\"/>\r\n      </g>\r\n     </g>\r\n     <g id=\"text_7\">\r\n      <!-- 5 -->\r\n      <defs>\r\n       <path d=\"M 10.796875 72.90625 \r\nL 49.515625 72.90625 \r\nL 49.515625 64.59375 \r\nL 19.828125 64.59375 \r\nL 19.828125 46.734375 \r\nQ 21.96875 47.46875 24.109375 47.828125 \r\nQ 26.265625 48.1875 28.421875 48.1875 \r\nQ 40.625 48.1875 47.75 41.5 \r\nQ 54.890625 34.8125 54.890625 23.390625 \r\nQ 54.890625 11.625 47.5625 5.09375 \r\nQ 40.234375 -1.421875 26.90625 -1.421875 \r\nQ 22.3125 -1.421875 17.546875 -0.640625 \r\nQ 12.796875 0.140625 7.71875 1.703125 \r\nL 7.71875 11.625 \r\nQ 12.109375 9.234375 16.796875 8.0625 \r\nQ 21.484375 6.890625 26.703125 6.890625 \r\nQ 35.15625 6.890625 40.078125 11.328125 \r\nQ 45.015625 15.765625 45.015625 23.390625 \r\nQ 45.015625 31 40.078125 35.4375 \r\nQ 35.15625 39.890625 26.703125 39.890625 \r\nQ 22.75 39.890625 18.8125 39.015625 \r\nQ 14.890625 38.140625 10.796875 36.28125 \r\nz\r\n\" id=\"DejaVuSans-53\"/>\r\n      </defs>\r\n      <g transform=\"translate(150.327875 401.0825)rotate(-90)scale(0.1 -0.1)\">\r\n       <use xlink:href=\"#DejaVuSans-53\"/>\r\n      </g>\r\n     </g>\r\n    </g>\r\n    <g id=\"xtick_8\">\r\n     <g id=\"line2d_15\">\r\n      <path clip-path=\"url(#p38d4c75eeb)\" d=\"M 163.1925 387.72 \r\nL 163.1925 7.2 \r\n\" style=\"fill:none;stroke:#008000;stroke-linecap:square;stroke-width:0.5;\"/>\r\n     </g>\r\n     <g id=\"line2d_16\">\r\n      <g>\r\n       <use style=\"stroke:#000000;stroke-width:0.8;\" x=\"163.1925\" xlink:href=\"#m4478f561fc\" y=\"387.72\"/>\r\n      </g>\r\n     </g>\r\n     <g id=\"text_8\">\r\n      <!-- 146 -->\r\n      <defs>\r\n       <path d=\"M 37.796875 64.3125 \r\nL 12.890625 25.390625 \r\nL 37.796875 25.390625 \r\nz\r\nM 35.203125 72.90625 \r\nL 47.609375 72.90625 \r\nL 47.609375 25.390625 \r\nL 58.015625 25.390625 \r\nL 58.015625 17.1875 \r\nL 47.609375 17.1875 \r\nL 47.609375 0 \r\nL 37.796875 0 \r\nL 37.796875 17.1875 \r\nL 4.890625 17.1875 \r\nL 4.890625 26.703125 \r\nz\r\n\" id=\"DejaVuSans-52\"/>\r\n       <path d=\"M 33.015625 40.375 \r\nQ 26.375 40.375 22.484375 35.828125 \r\nQ 18.609375 31.296875 18.609375 23.390625 \r\nQ 18.609375 15.53125 22.484375 10.953125 \r\nQ 26.375 6.390625 33.015625 6.390625 \r\nQ 39.65625 6.390625 43.53125 10.953125 \r\nQ 47.40625 15.53125 47.40625 23.390625 \r\nQ 47.40625 31.296875 43.53125 35.828125 \r\nQ 39.65625 40.375 33.015625 40.375 \r\nz\r\nM 52.59375 71.296875 \r\nL 52.59375 62.3125 \r\nQ 48.875 64.0625 45.09375 64.984375 \r\nQ 41.3125 65.921875 37.59375 65.921875 \r\nQ 27.828125 65.921875 22.671875 59.328125 \r\nQ 17.53125 52.734375 16.796875 39.40625 \r\nQ 19.671875 43.65625 24.015625 45.921875 \r\nQ 28.375 48.1875 33.59375 48.1875 \r\nQ 44.578125 48.1875 50.953125 41.515625 \r\nQ 57.328125 34.859375 57.328125 23.390625 \r\nQ 57.328125 12.15625 50.6875 5.359375 \r\nQ 44.046875 -1.421875 33.015625 -1.421875 \r\nQ 20.359375 -1.421875 13.671875 8.265625 \r\nQ 6.984375 17.96875 6.984375 36.375 \r\nQ 6.984375 53.65625 15.1875 63.9375 \r\nQ 23.390625 74.21875 37.203125 74.21875 \r\nQ 40.921875 74.21875 44.703125 73.484375 \r\nQ 48.484375 72.75 52.59375 71.296875 \r\nz\r\n\" id=\"DejaVuSans-54\"/>\r\n      </defs>\r\n      <g transform=\"translate(165.951875 413.8075)rotate(-90)scale(0.1 -0.1)\">\r\n       <use xlink:href=\"#DejaVuSans-49\"/>\r\n       <use x=\"63.623047\" xlink:href=\"#DejaVuSans-52\"/>\r\n       <use x=\"127.246094\" xlink:href=\"#DejaVuSans-54\"/>\r\n      </g>\r\n     </g>\r\n    </g>\r\n    <g id=\"xtick_9\">\r\n     <g id=\"line2d_17\">\r\n      <path clip-path=\"url(#p38d4c75eeb)\" d=\"M 178.8165 387.72 \r\nL 178.8165 7.2 \r\n\" style=\"fill:none;stroke:#008000;stroke-linecap:square;stroke-width:0.5;\"/>\r\n     </g>\r\n     <g id=\"line2d_18\">\r\n      <g>\r\n       <use style=\"stroke:#000000;stroke-width:0.8;\" x=\"178.8165\" xlink:href=\"#m4478f561fc\" y=\"387.72\"/>\r\n      </g>\r\n     </g>\r\n     <g id=\"text_9\">\r\n      <!-- 12 -->\r\n      <g transform=\"translate(181.575875 407.445)rotate(-90)scale(0.1 -0.1)\">\r\n       <use xlink:href=\"#DejaVuSans-49\"/>\r\n       <use x=\"63.623047\" xlink:href=\"#DejaVuSans-50\"/>\r\n      </g>\r\n     </g>\r\n    </g>\r\n    <g id=\"xtick_10\">\r\n     <g id=\"line2d_19\">\r\n      <path clip-path=\"url(#p38d4c75eeb)\" d=\"M 194.4405 387.72 \r\nL 194.4405 7.2 \r\n\" style=\"fill:none;stroke:#008000;stroke-linecap:square;stroke-width:0.5;\"/>\r\n     </g>\r\n     <g id=\"line2d_20\">\r\n      <g>\r\n       <use style=\"stroke:#000000;stroke-width:0.8;\" x=\"194.4405\" xlink:href=\"#m4478f561fc\" y=\"387.72\"/>\r\n      </g>\r\n     </g>\r\n     <g id=\"text_10\">\r\n      <!-- 152 -->\r\n      <g transform=\"translate(197.199875 413.8075)rotate(-90)scale(0.1 -0.1)\">\r\n       <use xlink:href=\"#DejaVuSans-49\"/>\r\n       <use x=\"63.623047\" xlink:href=\"#DejaVuSans-53\"/>\r\n       <use x=\"127.246094\" xlink:href=\"#DejaVuSans-50\"/>\r\n      </g>\r\n     </g>\r\n    </g>\r\n    <g id=\"xtick_11\">\r\n     <g id=\"line2d_21\">\r\n      <path clip-path=\"url(#p38d4c75eeb)\" d=\"M 210.0645 387.72 \r\nL 210.0645 7.2 \r\n\" style=\"fill:none;stroke:#008000;stroke-linecap:square;stroke-width:0.5;\"/>\r\n     </g>\r\n     <g id=\"line2d_22\">\r\n      <g>\r\n       <use style=\"stroke:#000000;stroke-width:0.8;\" x=\"210.0645\" xlink:href=\"#m4478f561fc\" y=\"387.72\"/>\r\n      </g>\r\n     </g>\r\n     <g id=\"text_11\">\r\n      <!-- 61 -->\r\n      <g transform=\"translate(212.823875 407.445)rotate(-90)scale(0.1 -0.1)\">\r\n       <use xlink:href=\"#DejaVuSans-54\"/>\r\n       <use x=\"63.623047\" xlink:href=\"#DejaVuSans-49\"/>\r\n      </g>\r\n     </g>\r\n    </g>\r\n    <g id=\"xtick_12\">\r\n     <g id=\"line2d_23\">\r\n      <path clip-path=\"url(#p38d4c75eeb)\" d=\"M 225.6885 387.72 \r\nL 225.6885 7.2 \r\n\" style=\"fill:none;stroke:#008000;stroke-linecap:square;stroke-width:0.5;\"/>\r\n     </g>\r\n     <g id=\"line2d_24\">\r\n      <g>\r\n       <use style=\"stroke:#000000;stroke-width:0.8;\" x=\"225.6885\" xlink:href=\"#m4478f561fc\" y=\"387.72\"/>\r\n      </g>\r\n     </g>\r\n     <g id=\"text_12\">\r\n      <!-- 125 -->\r\n      <g transform=\"translate(228.447875 413.8075)rotate(-90)scale(0.1 -0.1)\">\r\n       <use xlink:href=\"#DejaVuSans-49\"/>\r\n       <use x=\"63.623047\" xlink:href=\"#DejaVuSans-50\"/>\r\n       <use x=\"127.246094\" xlink:href=\"#DejaVuSans-53\"/>\r\n      </g>\r\n     </g>\r\n    </g>\r\n    <g id=\"xtick_13\">\r\n     <g id=\"line2d_25\">\r\n      <path clip-path=\"url(#p38d4c75eeb)\" d=\"M 241.3125 387.72 \r\nL 241.3125 7.2 \r\n\" style=\"fill:none;stroke:#008000;stroke-linecap:square;stroke-width:0.5;\"/>\r\n     </g>\r\n     <g id=\"line2d_26\">\r\n      <g>\r\n       <use style=\"stroke:#000000;stroke-width:0.8;\" x=\"241.3125\" xlink:href=\"#m4478f561fc\" y=\"387.72\"/>\r\n      </g>\r\n     </g>\r\n     <g id=\"text_13\">\r\n      <!-- 180 -->\r\n      <g transform=\"translate(244.071875 413.8075)rotate(-90)scale(0.1 -0.1)\">\r\n       <use xlink:href=\"#DejaVuSans-49\"/>\r\n       <use x=\"63.623047\" xlink:href=\"#DejaVuSans-56\"/>\r\n       <use x=\"127.246094\" xlink:href=\"#DejaVuSans-48\"/>\r\n      </g>\r\n     </g>\r\n    </g>\r\n    <g id=\"xtick_14\">\r\n     <g id=\"line2d_27\">\r\n      <path clip-path=\"url(#p38d4c75eeb)\" d=\"M 256.9365 387.72 \r\nL 256.9365 7.2 \r\n\" style=\"fill:none;stroke:#008000;stroke-linecap:square;stroke-width:0.5;\"/>\r\n     </g>\r\n     <g id=\"line2d_28\">\r\n      <g>\r\n       <use style=\"stroke:#000000;stroke-width:0.8;\" x=\"256.9365\" xlink:href=\"#m4478f561fc\" y=\"387.72\"/>\r\n      </g>\r\n     </g>\r\n     <g id=\"text_14\">\r\n      <!-- 154 -->\r\n      <g transform=\"translate(259.695875 413.8075)rotate(-90)scale(0.1 -0.1)\">\r\n       <use xlink:href=\"#DejaVuSans-49\"/>\r\n       <use x=\"63.623047\" xlink:href=\"#DejaVuSans-53\"/>\r\n       <use x=\"127.246094\" xlink:href=\"#DejaVuSans-52\"/>\r\n      </g>\r\n     </g>\r\n    </g>\r\n    <g id=\"xtick_15\">\r\n     <g id=\"line2d_29\">\r\n      <path clip-path=\"url(#p38d4c75eeb)\" d=\"M 272.5605 387.72 \r\nL 272.5605 7.2 \r\n\" style=\"fill:none;stroke:#008000;stroke-linecap:square;stroke-width:0.5;\"/>\r\n     </g>\r\n     <g id=\"line2d_30\">\r\n      <g>\r\n       <use style=\"stroke:#000000;stroke-width:0.8;\" x=\"272.5605\" xlink:href=\"#m4478f561fc\" y=\"387.72\"/>\r\n      </g>\r\n     </g>\r\n     <g id=\"text_15\">\r\n      <!-- 80 -->\r\n      <g transform=\"translate(275.319875 407.445)rotate(-90)scale(0.1 -0.1)\">\r\n       <use xlink:href=\"#DejaVuSans-56\"/>\r\n       <use x=\"63.623047\" xlink:href=\"#DejaVuSans-48\"/>\r\n      </g>\r\n     </g>\r\n    </g>\r\n    <g id=\"xtick_16\">\r\n     <g id=\"line2d_31\">\r\n      <path clip-path=\"url(#p38d4c75eeb)\" d=\"M 288.1845 387.72 \r\nL 288.1845 7.2 \r\n\" style=\"fill:none;stroke:#008000;stroke-linecap:square;stroke-width:0.5;\"/>\r\n     </g>\r\n     <g id=\"line2d_32\">\r\n      <g>\r\n       <use style=\"stroke:#000000;stroke-width:0.8;\" x=\"288.1845\" xlink:href=\"#m4478f561fc\" y=\"387.72\"/>\r\n      </g>\r\n     </g>\r\n     <g id=\"text_16\">\r\n      <!-- 7 -->\r\n      <g transform=\"translate(290.943875 401.0825)rotate(-90)scale(0.1 -0.1)\">\r\n       <use xlink:href=\"#DejaVuSans-55\"/>\r\n      </g>\r\n     </g>\r\n    </g>\r\n    <g id=\"xtick_17\">\r\n     <g id=\"line2d_33\">\r\n      <path clip-path=\"url(#p38d4c75eeb)\" d=\"M 303.8085 387.72 \r\nL 303.8085 7.2 \r\n\" style=\"fill:none;stroke:#008000;stroke-linecap:square;stroke-width:0.5;\"/>\r\n     </g>\r\n     <g id=\"line2d_34\">\r\n      <g>\r\n       <use style=\"stroke:#000000;stroke-width:0.8;\" x=\"303.8085\" xlink:href=\"#m4478f561fc\" y=\"387.72\"/>\r\n      </g>\r\n     </g>\r\n     <g id=\"text_17\">\r\n      <!-- 33 -->\r\n      <defs>\r\n       <path d=\"M 40.578125 39.3125 \r\nQ 47.65625 37.796875 51.625 33 \r\nQ 55.609375 28.21875 55.609375 21.1875 \r\nQ 55.609375 10.40625 48.1875 4.484375 \r\nQ 40.765625 -1.421875 27.09375 -1.421875 \r\nQ 22.515625 -1.421875 17.65625 -0.515625 \r\nQ 12.796875 0.390625 7.625 2.203125 \r\nL 7.625 11.71875 \r\nQ 11.71875 9.328125 16.59375 8.109375 \r\nQ 21.484375 6.890625 26.8125 6.890625 \r\nQ 36.078125 6.890625 40.9375 10.546875 \r\nQ 45.796875 14.203125 45.796875 21.1875 \r\nQ 45.796875 27.640625 41.28125 31.265625 \r\nQ 36.765625 34.90625 28.71875 34.90625 \r\nL 20.21875 34.90625 \r\nL 20.21875 43.015625 \r\nL 29.109375 43.015625 \r\nQ 36.375 43.015625 40.234375 45.921875 \r\nQ 44.09375 48.828125 44.09375 54.296875 \r\nQ 44.09375 59.90625 40.109375 62.90625 \r\nQ 36.140625 65.921875 28.71875 65.921875 \r\nQ 24.65625 65.921875 20.015625 65.03125 \r\nQ 15.375 64.15625 9.8125 62.3125 \r\nL 9.8125 71.09375 \r\nQ 15.4375 72.65625 20.34375 73.4375 \r\nQ 25.25 74.21875 29.59375 74.21875 \r\nQ 40.828125 74.21875 47.359375 69.109375 \r\nQ 53.90625 64.015625 53.90625 55.328125 \r\nQ 53.90625 49.265625 50.4375 45.09375 \r\nQ 46.96875 40.921875 40.578125 39.3125 \r\nz\r\n\" id=\"DejaVuSans-51\"/>\r\n      </defs>\r\n      <g transform=\"translate(306.567875 407.445)rotate(-90)scale(0.1 -0.1)\">\r\n       <use xlink:href=\"#DejaVuSans-51\"/>\r\n       <use x=\"63.623047\" xlink:href=\"#DejaVuSans-51\"/>\r\n      </g>\r\n     </g>\r\n    </g>\r\n    <g id=\"xtick_18\">\r\n     <g id=\"line2d_35\">\r\n      <path clip-path=\"url(#p38d4c75eeb)\" d=\"M 319.4325 387.72 \r\nL 319.4325 7.2 \r\n\" style=\"fill:none;stroke:#008000;stroke-linecap:square;stroke-width:0.5;\"/>\r\n     </g>\r\n     <g id=\"line2d_36\">\r\n      <g>\r\n       <use style=\"stroke:#000000;stroke-width:0.8;\" x=\"319.4325\" xlink:href=\"#m4478f561fc\" y=\"387.72\"/>\r\n      </g>\r\n     </g>\r\n     <g id=\"text_18\">\r\n      <!-- 130 -->\r\n      <g transform=\"translate(322.191875 413.8075)rotate(-90)scale(0.1 -0.1)\">\r\n       <use xlink:href=\"#DejaVuSans-49\"/>\r\n       <use x=\"63.623047\" xlink:href=\"#DejaVuSans-51\"/>\r\n       <use x=\"127.246094\" xlink:href=\"#DejaVuSans-48\"/>\r\n      </g>\r\n     </g>\r\n    </g>\r\n    <g id=\"xtick_19\">\r\n     <g id=\"line2d_37\">\r\n      <path clip-path=\"url(#p38d4c75eeb)\" d=\"M 335.0565 387.72 \r\nL 335.0565 7.2 \r\n\" style=\"fill:none;stroke:#008000;stroke-linecap:square;stroke-width:0.5;\"/>\r\n     </g>\r\n     <g id=\"line2d_38\">\r\n      <g>\r\n       <use style=\"stroke:#000000;stroke-width:0.8;\" x=\"335.0565\" xlink:href=\"#m4478f561fc\" y=\"387.72\"/>\r\n      </g>\r\n     </g>\r\n     <g id=\"text_19\">\r\n      <!-- 37 -->\r\n      <g transform=\"translate(337.815875 407.445)rotate(-90)scale(0.1 -0.1)\">\r\n       <use xlink:href=\"#DejaVuSans-51\"/>\r\n       <use x=\"63.623047\" xlink:href=\"#DejaVuSans-55\"/>\r\n      </g>\r\n     </g>\r\n    </g>\r\n    <g id=\"xtick_20\">\r\n     <g id=\"line2d_39\">\r\n      <path clip-path=\"url(#p38d4c75eeb)\" d=\"M 350.6805 387.72 \r\nL 350.6805 7.2 \r\n\" style=\"fill:none;stroke:#008000;stroke-linecap:square;stroke-width:0.5;\"/>\r\n     </g>\r\n     <g id=\"line2d_40\">\r\n      <g>\r\n       <use style=\"stroke:#000000;stroke-width:0.8;\" x=\"350.6805\" xlink:href=\"#m4478f561fc\" y=\"387.72\"/>\r\n      </g>\r\n     </g>\r\n     <g id=\"text_20\">\r\n      <!-- 74 -->\r\n      <g transform=\"translate(353.439875 407.445)rotate(-90)scale(0.1 -0.1)\">\r\n       <use xlink:href=\"#DejaVuSans-55\"/>\r\n       <use x=\"63.623047\" xlink:href=\"#DejaVuSans-52\"/>\r\n      </g>\r\n     </g>\r\n    </g>\r\n    <g id=\"xtick_21\">\r\n     <g id=\"line2d_41\">\r\n      <path clip-path=\"url(#p38d4c75eeb)\" d=\"M 366.3045 387.72 \r\nL 366.3045 7.2 \r\n\" style=\"fill:none;stroke:#008000;stroke-linecap:square;stroke-width:0.5;\"/>\r\n     </g>\r\n     <g id=\"line2d_42\">\r\n      <g>\r\n       <use style=\"stroke:#000000;stroke-width:0.8;\" x=\"366.3045\" xlink:href=\"#m4478f561fc\" y=\"387.72\"/>\r\n      </g>\r\n     </g>\r\n     <g id=\"text_21\">\r\n      <!-- 183 -->\r\n      <g transform=\"translate(369.063875 413.8075)rotate(-90)scale(0.1 -0.1)\">\r\n       <use xlink:href=\"#DejaVuSans-49\"/>\r\n       <use x=\"63.623047\" xlink:href=\"#DejaVuSans-56\"/>\r\n       <use x=\"127.246094\" xlink:href=\"#DejaVuSans-51\"/>\r\n      </g>\r\n     </g>\r\n    </g>\r\n    <g id=\"xtick_22\">\r\n     <g id=\"line2d_43\">\r\n      <path clip-path=\"url(#p38d4c75eeb)\" d=\"M 381.9285 387.72 \r\nL 381.9285 7.2 \r\n\" style=\"fill:none;stroke:#008000;stroke-linecap:square;stroke-width:0.5;\"/>\r\n     </g>\r\n     <g id=\"line2d_44\">\r\n      <g>\r\n       <use style=\"stroke:#000000;stroke-width:0.8;\" x=\"381.9285\" xlink:href=\"#m4478f561fc\" y=\"387.72\"/>\r\n      </g>\r\n     </g>\r\n     <g id=\"text_22\">\r\n      <!-- 145 -->\r\n      <g transform=\"translate(384.687875 413.8075)rotate(-90)scale(0.1 -0.1)\">\r\n       <use xlink:href=\"#DejaVuSans-49\"/>\r\n       <use x=\"63.623047\" xlink:href=\"#DejaVuSans-52\"/>\r\n       <use x=\"127.246094\" xlink:href=\"#DejaVuSans-53\"/>\r\n      </g>\r\n     </g>\r\n    </g>\r\n    <g id=\"xtick_23\">\r\n     <g id=\"line2d_45\">\r\n      <path clip-path=\"url(#p38d4c75eeb)\" d=\"M 397.5525 387.72 \r\nL 397.5525 7.2 \r\n\" style=\"fill:none;stroke:#008000;stroke-linecap:square;stroke-width:0.5;\"/>\r\n     </g>\r\n     <g id=\"line2d_46\">\r\n      <g>\r\n       <use style=\"stroke:#000000;stroke-width:0.8;\" x=\"397.5525\" xlink:href=\"#m4478f561fc\" y=\"387.72\"/>\r\n      </g>\r\n     </g>\r\n     <g id=\"text_23\">\r\n      <!-- 45 -->\r\n      <g transform=\"translate(400.311875 407.445)rotate(-90)scale(0.1 -0.1)\">\r\n       <use xlink:href=\"#DejaVuSans-52\"/>\r\n       <use x=\"63.623047\" xlink:href=\"#DejaVuSans-53\"/>\r\n      </g>\r\n     </g>\r\n    </g>\r\n    <g id=\"xtick_24\">\r\n     <g id=\"line2d_47\">\r\n      <path clip-path=\"url(#p38d4c75eeb)\" d=\"M 413.1765 387.72 \r\nL 413.1765 7.2 \r\n\" style=\"fill:none;stroke:#008000;stroke-linecap:square;stroke-width:0.5;\"/>\r\n     </g>\r\n     <g id=\"line2d_48\">\r\n      <g>\r\n       <use style=\"stroke:#000000;stroke-width:0.8;\" x=\"413.1765\" xlink:href=\"#m4478f561fc\" y=\"387.72\"/>\r\n      </g>\r\n     </g>\r\n     <g id=\"text_24\">\r\n      <!-- 159 -->\r\n      <g transform=\"translate(415.935875 413.8075)rotate(-90)scale(0.1 -0.1)\">\r\n       <use xlink:href=\"#DejaVuSans-49\"/>\r\n       <use x=\"63.623047\" xlink:href=\"#DejaVuSans-53\"/>\r\n       <use x=\"127.246094\" xlink:href=\"#DejaVuSans-57\"/>\r\n      </g>\r\n     </g>\r\n    </g>\r\n    <g id=\"xtick_25\">\r\n     <g id=\"line2d_49\">\r\n      <path clip-path=\"url(#p38d4c75eeb)\" d=\"M 428.8005 387.72 \r\nL 428.8005 7.2 \r\n\" style=\"fill:none;stroke:#008000;stroke-linecap:square;stroke-width:0.5;\"/>\r\n     </g>\r\n     <g id=\"line2d_50\">\r\n      <g>\r\n       <use style=\"stroke:#000000;stroke-width:0.8;\" x=\"428.8005\" xlink:href=\"#m4478f561fc\" y=\"387.72\"/>\r\n      </g>\r\n     </g>\r\n     <g id=\"text_25\">\r\n      <!-- 60 -->\r\n      <g transform=\"translate(431.559875 407.445)rotate(-90)scale(0.1 -0.1)\">\r\n       <use xlink:href=\"#DejaVuSans-54\"/>\r\n       <use x=\"63.623047\" xlink:href=\"#DejaVuSans-48\"/>\r\n      </g>\r\n     </g>\r\n    </g>\r\n   </g>\r\n   <g id=\"matplotlib.axis_2\">\r\n    <g id=\"ytick_1\">\r\n     <g id=\"line2d_51\">\r\n      <path clip-path=\"url(#p38d4c75eeb)\" d=\"M 46.0125 387.72 \r\nL 436.6125 387.72 \r\n\" style=\"fill:none;stroke:#008000;stroke-linecap:square;stroke-width:0.5;\"/>\r\n     </g>\r\n     <g id=\"line2d_52\">\r\n      <defs>\r\n       <path d=\"M 0 0 \r\nL -3.5 0 \r\n\" id=\"me3651f630e\" style=\"stroke:#000000;stroke-width:0.8;\"/>\r\n      </defs>\r\n      <g>\r\n       <use style=\"stroke:#000000;stroke-width:0.8;\" x=\"46.0125\" xlink:href=\"#me3651f630e\" y=\"387.72\"/>\r\n      </g>\r\n     </g>\r\n     <g id=\"text_26\">\r\n      <!-- 0 -->\r\n      <g transform=\"translate(32.65 391.519219)scale(0.1 -0.1)\">\r\n       <use xlink:href=\"#DejaVuSans-48\"/>\r\n      </g>\r\n     </g>\r\n    </g>\r\n    <g id=\"ytick_2\">\r\n     <g id=\"line2d_53\">\r\n      <path clip-path=\"url(#p38d4c75eeb)\" d=\"M 46.0125 338.78406 \r\nL 436.6125 338.78406 \r\n\" style=\"fill:none;stroke:#008000;stroke-linecap:square;stroke-width:0.5;\"/>\r\n     </g>\r\n     <g id=\"line2d_54\">\r\n      <g>\r\n       <use style=\"stroke:#000000;stroke-width:0.8;\" x=\"46.0125\" xlink:href=\"#me3651f630e\" y=\"338.78406\"/>\r\n      </g>\r\n     </g>\r\n     <g id=\"text_27\">\r\n      <!-- 5000 -->\r\n      <g transform=\"translate(13.5625 342.583278)scale(0.1 -0.1)\">\r\n       <use xlink:href=\"#DejaVuSans-53\"/>\r\n       <use x=\"63.623047\" xlink:href=\"#DejaVuSans-48\"/>\r\n       <use x=\"127.246094\" xlink:href=\"#DejaVuSans-48\"/>\r\n       <use x=\"190.869141\" xlink:href=\"#DejaVuSans-48\"/>\r\n      </g>\r\n     </g>\r\n    </g>\r\n    <g id=\"ytick_3\">\r\n     <g id=\"line2d_55\">\r\n      <path clip-path=\"url(#p38d4c75eeb)\" d=\"M 46.0125 289.848119 \r\nL 436.6125 289.848119 \r\n\" style=\"fill:none;stroke:#008000;stroke-linecap:square;stroke-width:0.5;\"/>\r\n     </g>\r\n     <g id=\"line2d_56\">\r\n      <g>\r\n       <use style=\"stroke:#000000;stroke-width:0.8;\" x=\"46.0125\" xlink:href=\"#me3651f630e\" y=\"289.848119\"/>\r\n      </g>\r\n     </g>\r\n     <g id=\"text_28\">\r\n      <!-- 10000 -->\r\n      <g transform=\"translate(7.2 293.647338)scale(0.1 -0.1)\">\r\n       <use xlink:href=\"#DejaVuSans-49\"/>\r\n       <use x=\"63.623047\" xlink:href=\"#DejaVuSans-48\"/>\r\n       <use x=\"127.246094\" xlink:href=\"#DejaVuSans-48\"/>\r\n       <use x=\"190.869141\" xlink:href=\"#DejaVuSans-48\"/>\r\n       <use x=\"254.492188\" xlink:href=\"#DejaVuSans-48\"/>\r\n      </g>\r\n     </g>\r\n    </g>\r\n    <g id=\"ytick_4\">\r\n     <g id=\"line2d_57\">\r\n      <path clip-path=\"url(#p38d4c75eeb)\" d=\"M 46.0125 240.912179 \r\nL 436.6125 240.912179 \r\n\" style=\"fill:none;stroke:#008000;stroke-linecap:square;stroke-width:0.5;\"/>\r\n     </g>\r\n     <g id=\"line2d_58\">\r\n      <g>\r\n       <use style=\"stroke:#000000;stroke-width:0.8;\" x=\"46.0125\" xlink:href=\"#me3651f630e\" y=\"240.912179\"/>\r\n      </g>\r\n     </g>\r\n     <g id=\"text_29\">\r\n      <!-- 15000 -->\r\n      <g transform=\"translate(7.2 244.711398)scale(0.1 -0.1)\">\r\n       <use xlink:href=\"#DejaVuSans-49\"/>\r\n       <use x=\"63.623047\" xlink:href=\"#DejaVuSans-53\"/>\r\n       <use x=\"127.246094\" xlink:href=\"#DejaVuSans-48\"/>\r\n       <use x=\"190.869141\" xlink:href=\"#DejaVuSans-48\"/>\r\n       <use x=\"254.492188\" xlink:href=\"#DejaVuSans-48\"/>\r\n      </g>\r\n     </g>\r\n    </g>\r\n    <g id=\"ytick_5\">\r\n     <g id=\"line2d_59\">\r\n      <path clip-path=\"url(#p38d4c75eeb)\" d=\"M 46.0125 191.976239 \r\nL 436.6125 191.976239 \r\n\" style=\"fill:none;stroke:#008000;stroke-linecap:square;stroke-width:0.5;\"/>\r\n     </g>\r\n     <g id=\"line2d_60\">\r\n      <g>\r\n       <use style=\"stroke:#000000;stroke-width:0.8;\" x=\"46.0125\" xlink:href=\"#me3651f630e\" y=\"191.976239\"/>\r\n      </g>\r\n     </g>\r\n     <g id=\"text_30\">\r\n      <!-- 20000 -->\r\n      <g transform=\"translate(7.2 195.775457)scale(0.1 -0.1)\">\r\n       <use xlink:href=\"#DejaVuSans-50\"/>\r\n       <use x=\"63.623047\" xlink:href=\"#DejaVuSans-48\"/>\r\n       <use x=\"127.246094\" xlink:href=\"#DejaVuSans-48\"/>\r\n       <use x=\"190.869141\" xlink:href=\"#DejaVuSans-48\"/>\r\n       <use x=\"254.492188\" xlink:href=\"#DejaVuSans-48\"/>\r\n      </g>\r\n     </g>\r\n    </g>\r\n    <g id=\"ytick_6\">\r\n     <g id=\"line2d_61\">\r\n      <path clip-path=\"url(#p38d4c75eeb)\" d=\"M 46.0125 143.040298 \r\nL 436.6125 143.040298 \r\n\" style=\"fill:none;stroke:#008000;stroke-linecap:square;stroke-width:0.5;\"/>\r\n     </g>\r\n     <g id=\"line2d_62\">\r\n      <g>\r\n       <use style=\"stroke:#000000;stroke-width:0.8;\" x=\"46.0125\" xlink:href=\"#me3651f630e\" y=\"143.040298\"/>\r\n      </g>\r\n     </g>\r\n     <g id=\"text_31\">\r\n      <!-- 25000 -->\r\n      <g transform=\"translate(7.2 146.839517)scale(0.1 -0.1)\">\r\n       <use xlink:href=\"#DejaVuSans-50\"/>\r\n       <use x=\"63.623047\" xlink:href=\"#DejaVuSans-53\"/>\r\n       <use x=\"127.246094\" xlink:href=\"#DejaVuSans-48\"/>\r\n       <use x=\"190.869141\" xlink:href=\"#DejaVuSans-48\"/>\r\n       <use x=\"254.492188\" xlink:href=\"#DejaVuSans-48\"/>\r\n      </g>\r\n     </g>\r\n    </g>\r\n    <g id=\"ytick_7\">\r\n     <g id=\"line2d_63\">\r\n      <path clip-path=\"url(#p38d4c75eeb)\" d=\"M 46.0125 94.104358 \r\nL 436.6125 94.104358 \r\n\" style=\"fill:none;stroke:#008000;stroke-linecap:square;stroke-width:0.5;\"/>\r\n     </g>\r\n     <g id=\"line2d_64\">\r\n      <g>\r\n       <use style=\"stroke:#000000;stroke-width:0.8;\" x=\"46.0125\" xlink:href=\"#me3651f630e\" y=\"94.104358\"/>\r\n      </g>\r\n     </g>\r\n     <g id=\"text_32\">\r\n      <!-- 30000 -->\r\n      <g transform=\"translate(7.2 97.903577)scale(0.1 -0.1)\">\r\n       <use xlink:href=\"#DejaVuSans-51\"/>\r\n       <use x=\"63.623047\" xlink:href=\"#DejaVuSans-48\"/>\r\n       <use x=\"127.246094\" xlink:href=\"#DejaVuSans-48\"/>\r\n       <use x=\"190.869141\" xlink:href=\"#DejaVuSans-48\"/>\r\n       <use x=\"254.492188\" xlink:href=\"#DejaVuSans-48\"/>\r\n      </g>\r\n     </g>\r\n    </g>\r\n    <g id=\"ytick_8\">\r\n     <g id=\"line2d_65\">\r\n      <path clip-path=\"url(#p38d4c75eeb)\" d=\"M 46.0125 45.168417 \r\nL 436.6125 45.168417 \r\n\" style=\"fill:none;stroke:#008000;stroke-linecap:square;stroke-width:0.5;\"/>\r\n     </g>\r\n     <g id=\"line2d_66\">\r\n      <g>\r\n       <use style=\"stroke:#000000;stroke-width:0.8;\" x=\"46.0125\" xlink:href=\"#me3651f630e\" y=\"45.168417\"/>\r\n      </g>\r\n     </g>\r\n     <g id=\"text_33\">\r\n      <!-- 35000 -->\r\n      <g transform=\"translate(7.2 48.967636)scale(0.1 -0.1)\">\r\n       <use xlink:href=\"#DejaVuSans-51\"/>\r\n       <use x=\"63.623047\" xlink:href=\"#DejaVuSans-53\"/>\r\n       <use x=\"127.246094\" xlink:href=\"#DejaVuSans-48\"/>\r\n       <use x=\"190.869141\" xlink:href=\"#DejaVuSans-48\"/>\r\n       <use x=\"254.492188\" xlink:href=\"#DejaVuSans-48\"/>\r\n      </g>\r\n     </g>\r\n    </g>\r\n   </g>\r\n   <g id=\"patch_53\">\r\n    <path d=\"M 46.0125 387.72 \r\nL 46.0125 7.2 \r\n\" style=\"fill:none;stroke:#000000;stroke-linecap:square;stroke-linejoin:miter;stroke-width:0.8;\"/>\r\n   </g>\r\n   <g id=\"patch_54\">\r\n    <path d=\"M 436.6125 387.72 \r\nL 436.6125 7.2 \r\n\" style=\"fill:none;stroke:#000000;stroke-linecap:square;stroke-linejoin:miter;stroke-width:0.8;\"/>\r\n   </g>\r\n   <g id=\"patch_55\">\r\n    <path d=\"M 46.0125 387.72 \r\nL 436.6125 387.72 \r\n\" style=\"fill:none;stroke:#000000;stroke-linecap:square;stroke-linejoin:miter;stroke-width:0.8;\"/>\r\n   </g>\r\n   <g id=\"patch_56\">\r\n    <path d=\"M 46.0125 7.2 \r\nL 436.6125 7.2 \r\n\" style=\"fill:none;stroke:#000000;stroke-linecap:square;stroke-linejoin:miter;stroke-width:0.8;\"/>\r\n   </g>\r\n   <g id=\"legend_1\">\r\n    <g id=\"patch_57\">\r\n     <path d=\"M 53.0125 44.55625 \r\nL 131.953125 44.55625 \r\nQ 133.953125 44.55625 133.953125 42.55625 \r\nL 133.953125 14.2 \r\nQ 133.953125 12.2 131.953125 12.2 \r\nL 53.0125 12.2 \r\nQ 51.0125 12.2 51.0125 14.2 \r\nL 51.0125 42.55625 \r\nQ 51.0125 44.55625 53.0125 44.55625 \r\nz\r\n\" style=\"fill:#ffffff;opacity:0.8;stroke:#cccccc;stroke-linejoin:miter;\"/>\r\n    </g>\r\n    <g id=\"patch_58\">\r\n     <path d=\"M 55.0125 23.798437 \r\nL 75.0125 23.798437 \r\nL 75.0125 16.798437 \r\nL 55.0125 16.798437 \r\nz\r\n\" style=\"fill:#1f77b4;\"/>\r\n    </g>\r\n    <g id=\"text_34\">\r\n     <!-- Actual -->\r\n     <defs>\r\n      <path d=\"M 34.1875 63.1875 \r\nL 20.796875 26.90625 \r\nL 47.609375 26.90625 \r\nz\r\nM 28.609375 72.90625 \r\nL 39.796875 72.90625 \r\nL 67.578125 0 \r\nL 57.328125 0 \r\nL 50.6875 18.703125 \r\nL 17.828125 18.703125 \r\nL 11.1875 0 \r\nL 0.78125 0 \r\nz\r\n\" id=\"DejaVuSans-65\"/>\r\n      <path d=\"M 48.78125 52.59375 \r\nL 48.78125 44.1875 \r\nQ 44.96875 46.296875 41.140625 47.34375 \r\nQ 37.3125 48.390625 33.40625 48.390625 \r\nQ 24.65625 48.390625 19.8125 42.84375 \r\nQ 14.984375 37.3125 14.984375 27.296875 \r\nQ 14.984375 17.28125 19.8125 11.734375 \r\nQ 24.65625 6.203125 33.40625 6.203125 \r\nQ 37.3125 6.203125 41.140625 7.25 \r\nQ 44.96875 8.296875 48.78125 10.40625 \r\nL 48.78125 2.09375 \r\nQ 45.015625 0.34375 40.984375 -0.53125 \r\nQ 36.96875 -1.421875 32.421875 -1.421875 \r\nQ 20.0625 -1.421875 12.78125 6.34375 \r\nQ 5.515625 14.109375 5.515625 27.296875 \r\nQ 5.515625 40.671875 12.859375 48.328125 \r\nQ 20.21875 56 33.015625 56 \r\nQ 37.15625 56 41.109375 55.140625 \r\nQ 45.0625 54.296875 48.78125 52.59375 \r\nz\r\n\" id=\"DejaVuSans-99\"/>\r\n      <path d=\"M 18.3125 70.21875 \r\nL 18.3125 54.6875 \r\nL 36.8125 54.6875 \r\nL 36.8125 47.703125 \r\nL 18.3125 47.703125 \r\nL 18.3125 18.015625 \r\nQ 18.3125 11.328125 20.140625 9.421875 \r\nQ 21.96875 7.515625 27.59375 7.515625 \r\nL 36.8125 7.515625 \r\nL 36.8125 0 \r\nL 27.59375 0 \r\nQ 17.1875 0 13.234375 3.875 \r\nQ 9.28125 7.765625 9.28125 18.015625 \r\nL 9.28125 47.703125 \r\nL 2.6875 47.703125 \r\nL 2.6875 54.6875 \r\nL 9.28125 54.6875 \r\nL 9.28125 70.21875 \r\nz\r\n\" id=\"DejaVuSans-116\"/>\r\n      <path d=\"M 8.5 21.578125 \r\nL 8.5 54.6875 \r\nL 17.484375 54.6875 \r\nL 17.484375 21.921875 \r\nQ 17.484375 14.15625 20.5 10.265625 \r\nQ 23.53125 6.390625 29.59375 6.390625 \r\nQ 36.859375 6.390625 41.078125 11.03125 \r\nQ 45.3125 15.671875 45.3125 23.6875 \r\nL 45.3125 54.6875 \r\nL 54.296875 54.6875 \r\nL 54.296875 0 \r\nL 45.3125 0 \r\nL 45.3125 8.40625 \r\nQ 42.046875 3.421875 37.71875 1 \r\nQ 33.40625 -1.421875 27.6875 -1.421875 \r\nQ 18.265625 -1.421875 13.375 4.4375 \r\nQ 8.5 10.296875 8.5 21.578125 \r\nz\r\nM 31.109375 56 \r\nz\r\n\" id=\"DejaVuSans-117\"/>\r\n      <path d=\"M 34.28125 27.484375 \r\nQ 23.390625 27.484375 19.1875 25 \r\nQ 14.984375 22.515625 14.984375 16.5 \r\nQ 14.984375 11.71875 18.140625 8.90625 \r\nQ 21.296875 6.109375 26.703125 6.109375 \r\nQ 34.1875 6.109375 38.703125 11.40625 \r\nQ 43.21875 16.703125 43.21875 25.484375 \r\nL 43.21875 27.484375 \r\nz\r\nM 52.203125 31.203125 \r\nL 52.203125 0 \r\nL 43.21875 0 \r\nL 43.21875 8.296875 \r\nQ 40.140625 3.328125 35.546875 0.953125 \r\nQ 30.953125 -1.421875 24.3125 -1.421875 \r\nQ 15.921875 -1.421875 10.953125 3.296875 \r\nQ 6 8.015625 6 15.921875 \r\nQ 6 25.140625 12.171875 29.828125 \r\nQ 18.359375 34.515625 30.609375 34.515625 \r\nL 43.21875 34.515625 \r\nL 43.21875 35.40625 \r\nQ 43.21875 41.609375 39.140625 45 \r\nQ 35.0625 48.390625 27.6875 48.390625 \r\nQ 23 48.390625 18.546875 47.265625 \r\nQ 14.109375 46.140625 10.015625 43.890625 \r\nL 10.015625 52.203125 \r\nQ 14.9375 54.109375 19.578125 55.046875 \r\nQ 24.21875 56 28.609375 56 \r\nQ 40.484375 56 46.34375 49.84375 \r\nQ 52.203125 43.703125 52.203125 31.203125 \r\nz\r\n\" id=\"DejaVuSans-97\"/>\r\n      <path d=\"M 9.421875 75.984375 \r\nL 18.40625 75.984375 \r\nL 18.40625 0 \r\nL 9.421875 0 \r\nz\r\n\" id=\"DejaVuSans-108\"/>\r\n     </defs>\r\n     <g transform=\"translate(83.0125 23.798437)scale(0.1 -0.1)\">\r\n      <use xlink:href=\"#DejaVuSans-65\"/>\r\n      <use x=\"66.658203\" xlink:href=\"#DejaVuSans-99\"/>\r\n      <use x=\"121.638672\" xlink:href=\"#DejaVuSans-116\"/>\r\n      <use x=\"160.847656\" xlink:href=\"#DejaVuSans-117\"/>\r\n      <use x=\"224.226562\" xlink:href=\"#DejaVuSans-97\"/>\r\n      <use x=\"285.505859\" xlink:href=\"#DejaVuSans-108\"/>\r\n     </g>\r\n    </g>\r\n    <g id=\"patch_59\">\r\n     <path d=\"M 55.0125 38.476562 \r\nL 75.0125 38.476562 \r\nL 75.0125 31.476562 \r\nL 55.0125 31.476562 \r\nz\r\n\" style=\"fill:#ff7f0e;\"/>\r\n    </g>\r\n    <g id=\"text_35\">\r\n     <!-- Predicted -->\r\n     <defs>\r\n      <path d=\"M 19.671875 64.796875 \r\nL 19.671875 37.40625 \r\nL 32.078125 37.40625 \r\nQ 38.96875 37.40625 42.71875 40.96875 \r\nQ 46.484375 44.53125 46.484375 51.125 \r\nQ 46.484375 57.671875 42.71875 61.234375 \r\nQ 38.96875 64.796875 32.078125 64.796875 \r\nz\r\nM 9.8125 72.90625 \r\nL 32.078125 72.90625 \r\nQ 44.34375 72.90625 50.609375 67.359375 \r\nQ 56.890625 61.8125 56.890625 51.125 \r\nQ 56.890625 40.328125 50.609375 34.8125 \r\nQ 44.34375 29.296875 32.078125 29.296875 \r\nL 19.671875 29.296875 \r\nL 19.671875 0 \r\nL 9.8125 0 \r\nz\r\n\" id=\"DejaVuSans-80\"/>\r\n      <path d=\"M 41.109375 46.296875 \r\nQ 39.59375 47.171875 37.8125 47.578125 \r\nQ 36.03125 48 33.890625 48 \r\nQ 26.265625 48 22.1875 43.046875 \r\nQ 18.109375 38.09375 18.109375 28.8125 \r\nL 18.109375 0 \r\nL 9.078125 0 \r\nL 9.078125 54.6875 \r\nL 18.109375 54.6875 \r\nL 18.109375 46.1875 \r\nQ 20.953125 51.171875 25.484375 53.578125 \r\nQ 30.03125 56 36.53125 56 \r\nQ 37.453125 56 38.578125 55.875 \r\nQ 39.703125 55.765625 41.0625 55.515625 \r\nz\r\n\" id=\"DejaVuSans-114\"/>\r\n      <path d=\"M 56.203125 29.59375 \r\nL 56.203125 25.203125 \r\nL 14.890625 25.203125 \r\nQ 15.484375 15.921875 20.484375 11.0625 \r\nQ 25.484375 6.203125 34.421875 6.203125 \r\nQ 39.59375 6.203125 44.453125 7.46875 \r\nQ 49.3125 8.734375 54.109375 11.28125 \r\nL 54.109375 2.78125 \r\nQ 49.265625 0.734375 44.1875 -0.34375 \r\nQ 39.109375 -1.421875 33.890625 -1.421875 \r\nQ 20.796875 -1.421875 13.15625 6.1875 \r\nQ 5.515625 13.8125 5.515625 26.8125 \r\nQ 5.515625 40.234375 12.765625 48.109375 \r\nQ 20.015625 56 32.328125 56 \r\nQ 43.359375 56 49.78125 48.890625 \r\nQ 56.203125 41.796875 56.203125 29.59375 \r\nz\r\nM 47.21875 32.234375 \r\nQ 47.125 39.59375 43.09375 43.984375 \r\nQ 39.0625 48.390625 32.421875 48.390625 \r\nQ 24.90625 48.390625 20.390625 44.140625 \r\nQ 15.875 39.890625 15.1875 32.171875 \r\nz\r\n\" id=\"DejaVuSans-101\"/>\r\n      <path d=\"M 45.40625 46.390625 \r\nL 45.40625 75.984375 \r\nL 54.390625 75.984375 \r\nL 54.390625 0 \r\nL 45.40625 0 \r\nL 45.40625 8.203125 \r\nQ 42.578125 3.328125 38.25 0.953125 \r\nQ 33.9375 -1.421875 27.875 -1.421875 \r\nQ 17.96875 -1.421875 11.734375 6.484375 \r\nQ 5.515625 14.40625 5.515625 27.296875 \r\nQ 5.515625 40.1875 11.734375 48.09375 \r\nQ 17.96875 56 27.875 56 \r\nQ 33.9375 56 38.25 53.625 \r\nQ 42.578125 51.265625 45.40625 46.390625 \r\nz\r\nM 14.796875 27.296875 \r\nQ 14.796875 17.390625 18.875 11.75 \r\nQ 22.953125 6.109375 30.078125 6.109375 \r\nQ 37.203125 6.109375 41.296875 11.75 \r\nQ 45.40625 17.390625 45.40625 27.296875 \r\nQ 45.40625 37.203125 41.296875 42.84375 \r\nQ 37.203125 48.484375 30.078125 48.484375 \r\nQ 22.953125 48.484375 18.875 42.84375 \r\nQ 14.796875 37.203125 14.796875 27.296875 \r\nz\r\n\" id=\"DejaVuSans-100\"/>\r\n      <path d=\"M 9.421875 54.6875 \r\nL 18.40625 54.6875 \r\nL 18.40625 0 \r\nL 9.421875 0 \r\nz\r\nM 9.421875 75.984375 \r\nL 18.40625 75.984375 \r\nL 18.40625 64.59375 \r\nL 9.421875 64.59375 \r\nz\r\n\" id=\"DejaVuSans-105\"/>\r\n     </defs>\r\n     <g transform=\"translate(83.0125 38.476562)scale(0.1 -0.1)\">\r\n      <use xlink:href=\"#DejaVuSans-80\"/>\r\n      <use x=\"58.552734\" xlink:href=\"#DejaVuSans-114\"/>\r\n      <use x=\"97.416016\" xlink:href=\"#DejaVuSans-101\"/>\r\n      <use x=\"158.939453\" xlink:href=\"#DejaVuSans-100\"/>\r\n      <use x=\"222.416016\" xlink:href=\"#DejaVuSans-105\"/>\r\n      <use x=\"250.199219\" xlink:href=\"#DejaVuSans-99\"/>\r\n      <use x=\"305.179688\" xlink:href=\"#DejaVuSans-116\"/>\r\n      <use x=\"344.388672\" xlink:href=\"#DejaVuSans-101\"/>\r\n      <use x=\"405.912109\" xlink:href=\"#DejaVuSans-100\"/>\r\n     </g>\r\n    </g>\r\n   </g>\r\n  </g>\r\n </g>\r\n <defs>\r\n  <clipPath id=\"p38d4c75eeb\">\r\n   <rect height=\"380.52\" width=\"390.6\" x=\"46.0125\" y=\"7.2\"/>\r\n  </clipPath>\r\n </defs>\r\n</svg>\r\n",
      "image/png": "[encoded data removed]"
     },
     "metadata": {
      "needs_background": "light"
     }
    }
   ],
   "source": [
    "#Plot of true value vs. predicted values\n",
    "dat = pd.DataFrame({'Actual': y_test, 'Predicted': y_pred})\n",
    "dat1=dat.head(25) #just a sample which shows top 25 columns\n",
    "dat1.plot(kind='bar',figsize=(7,7))\n",
    "plt.grid(which='major', linestyle='-', linewidth='0.5', color='green')\n",
    "plt.grid(which='minor', linestyle=':', linewidth='0.5', color='black')\n",
    "plt.show()"
   ]
  },
  {
   "source": [
    "# Repeating Step 6 and 7 by using other methods and calssifier to get different values of acuracy."
   ],
   "cell_type": "markdown",
   "metadata": {}
  },
  {
   "source": [
    "### Training and Testing"
   ],
   "cell_type": "markdown",
   "metadata": {}
  },
  {
   "cell_type": "code",
   "execution_count": 432,
   "metadata": {},
   "outputs": [],
   "source": [
    "link = \"https://archive.ics.uci.edu/ml/machine-learning-databases/autos/imports-85.data\"\n",
    "\n",
    "headers = [\"symboling\",\"normalized-losses\",\"make\",\"fuel-type\",\"aspiration\", \"num-of-doors\",\"body-style\",\n",
    "         \"drive-wheels\",\"engine-location\",\"wheel-base\", \"length\",\"width\",\"height\",\"curb-weight\",\"engine-type\",\n",
    "         \"num-of-cylinders\", \"engine-size\",\"fuel-system\",\"bore\",\"stroke\",\"compression-ratio\",\"horsepower\",\n",
    "         \"peak-rpm\",\"city-mpg\",\"highway-mpg\",\"price\"]\n",
    "\n",
    "sample_data = pd.read_csv(link, names = headers)\n",
    "\n",
    "# Drop columns\n",
    "sample_data.drop(['length','make','symboling','normalized-losses','bore','compression-ratio','peak-rpm','stroke','fuel-system','aspiration','num-of-doors','width','height','wheel-base','engine-size','curb-weight','engine-location'],axis=1,inplace=True)\n",
    "\n",
    "#Handling missing values\n",
    "sample_data.replace(\"?\", np.nan, inplace = True)\n",
    "avg_horsepower = sample_data['horsepower'].astype(\"float\").mean(axis=0)\n",
    "sample_data['horsepower'].replace(np.nan, avg_horsepower, inplace=True)\n",
    "\n",
    "# simply drop whole row with NaN in \"price\" column\n",
    "sample_data.dropna(subset=[\"price\"],axis=0,inplace=True)\n",
    "\n",
    "# reset index, because we droped two rows\n",
    "sample_data.reset_index(drop=True,inplace=True)\n",
    "\n",
    "#Label Encoding\n",
    "col=['num-of-cylinders','body-style','drive-wheels','engine-type',\n",
    "     'fuel-type']\n",
    "sample_data=pd.get_dummies(sample_data,columns=col,drop_first=True)\n",
    "\n",
    "# Change data type\n",
    "sample_data[[\"price\"]] = sample_data[[\"price\"]].astype(\"float\")\n",
    "\n",
    "# Training\n",
    "train,test=train_test_split(sample_data,test_size=0.2,random_state=0)\n",
    "\n",
    "y_train=train.price\n",
    "y_test=test.price\n",
    "train.drop('price',axis=1,inplace=True)\n",
    "test.drop('price',axis=1,inplace=True)\n",
    "\n",
    "regressor=LinearRegression()\n",
    "regressor.fit(train,y_train)\n",
    "\n",
    "y_pred=regressor.predict(test)"
   ]
  },
  {
   "cell_type": "code",
   "execution_count": 433,
   "metadata": {},
   "outputs": [
    {
     "output_type": "stream",
     "name": "stdout",
     "text": [
      "Actual Value $6,295.00,Predicted value $5,048.50 (%19.80)\nActual Value $10,698.00,Predicted value $11,939.87 (%-11.61)\nActual Value $13,860.00,Predicted value $16,692.21 (%-20.43)\nActual Value $13,499.00,Predicted value $15,740.37 (%-16.60)\nActual Value $15,750.00,Predicted value $21,811.85 (%-38.49)\nActual Value $8,495.00,Predicted value $9,540.03 (%-12.30)\nActual Value $15,250.00,Predicted value $19,642.48 (%-28.80)\nActual Value $5,348.00,Predicted value $4,447.86 (%16.83)\nActual Value $21,105.00,Predicted value $22,903.75 (%-8.52)\nActual Value $6,938.00,Predicted value $7,775.43 (%-12.07)\nActual Value $11,245.00,Predicted value $7,924.73 (%29.53)\nActual Value $37,028.00,Predicted value $33,647.92 (%9.13)\nActual Value $7,995.00,Predicted value $10,247.53 (%-28.17)\nActual Value $7,898.00,Predicted value $9,688.97 (%-22.68)\nActual Value $14,869.00,Predicted value $14,326.53 (%3.65)\nActual Value $18,920.00,Predicted value $19,401.60 (%-2.55)\nActual Value $7,129.00,Predicted value $6,345.07 (%11.00)\nActual Value $15,040.00,Predicted value $11,143.40 (%25.91)\nActual Value $9,095.00,Predicted value $8,000.76 (%12.03)\nActual Value $6,189.00,Predicted value $6,020.50 (%2.72)\nActual Value $9,495.00,Predicted value $11,034.71 (%-16.22)\nActual Value $11,694.00,Predicted value $11,235.17 (%3.92)\nActual Value $35,550.00,Predicted value $24,222.77 (%31.86)\nActual Value $8,058.00,Predicted value $10,006.89 (%-24.19)\nActual Value $10,795.00,Predicted value $10,951.67 (%-1.45)\nActual Value $32,528.00,Predicted value $30,605.06 (%5.91)\nActual Value $7,975.00,Predicted value $9,540.03 (%-19.62)\nActual Value $11,595.00,Predicted value $12,136.92 (%-4.67)\nActual Value $22,018.00,Predicted value $17,168.31 (%22.03)\nActual Value $32,250.00,Predicted value $24,222.77 (%24.89)\nActual Value $36,880.00,Predicted value $29,009.03 (%21.34)\nActual Value $15,645.00,Predicted value $15,667.80 (%-0.15)\nActual Value $7,898.00,Predicted value $7,245.28 (%8.26)\nActual Value $17,075.00,Predicted value $16,692.21 (%2.24)\nActual Value $7,957.00,Predicted value $9,860.26 (%-23.92)\nActual Value $12,290.00,Predicted value $9,628.56 (%21.66)\nActual Value $12,170.00,Predicted value $12,594.79 (%-3.49)\nActual Value $17,450.00,Predicted value $20,359.29 (%-16.67)\nActual Value $8,189.00,Predicted value $10,052.20 (%-22.75)\nActual Value $12,440.00,Predicted value $13,867.48 (%-11.47)\nActual Value $5,118.00,Predicted value $5,548.95 (%-8.42)\n"
     ]
    }
   ],
   "source": [
    "actual_data=np.array(y_test)\n",
    "for i in range(len(y_pred)):\n",
    "    expl=((actual_data[i]-y_pred[i])/actual_data[i])*100.0\n",
    "    print('Actual Value ${:,.2f},Predicted value ${:,.2f} (%{:,.2f})'.format(actual_data[i],y_pred[i],expl))"
   ]
  },
  {
   "source": [
    "## Here, we will get different Accuracy"
   ],
   "cell_type": "markdown",
   "metadata": {}
  },
  {
   "cell_type": "code",
   "execution_count": 434,
   "metadata": {},
   "outputs": [
    {
     "output_type": "stream",
     "name": "stdout",
     "text": [
      "Accuracy of Test,Predict  Data  is %85.74\nAccuracy of Train Data is %89.76\n"
     ]
    }
   ],
   "source": [
    "r_square=r2_score(y_test,y_pred)*100.0  #in LinearRegression not exist accuracy exist the r2_square to calc diff**2 between predict and actual \n",
    "r_train=r2_score(y_train,regressor.predict(train))*100.0\n",
    "print('Accuracy of Test,Predict  Data  is %{:,.2f}'.format(r_square))\n",
    "print('Accuracy of Train Data is %{:,.2f}'.format(r_train))"
   ]
  },
  {
   "cell_type": "code",
   "execution_count": 435,
   "metadata": {},
   "outputs": [
    {
     "output_type": "display_data",
     "data": {
      "text/plain": "<Figure size 504x504 with 1 Axes>",
      "image/svg+xml": "<?xml version=\"1.0\" encoding=\"utf-8\" standalone=\"no\"?>\r\n<!DOCTYPE svg PUBLIC \"-//W3C//DTD SVG 1.1//EN\"\r\n  \"http://www.w3.org/Graphics/SVG/1.1/DTD/svg11.dtd\">\r\n<!-- Created with matplotlib (https://matplotlib.org/) -->\r\n<svg height=\"421.0075pt\" version=\"1.1\" viewBox=\"0 0 443.8125 421.0075\" width=\"443.8125pt\" xmlns=\"http://www.w3.org/2000/svg\" xmlns:xlink=\"http://www.w3.org/1999/xlink\">\r\n <defs>\r\n  <style type=\"text/css\">\r\n*{stroke-linecap:butt;stroke-linejoin:round;}\r\n  </style>\r\n </defs>\r\n <g id=\"figure_1\">\r\n  <g id=\"patch_1\">\r\n   <path d=\"M 0 421.0075 \r\nL 443.8125 421.0075 \r\nL 443.8125 0 \r\nL 0 0 \r\nz\r\n\" style=\"fill:none;\"/>\r\n  </g>\r\n  <g id=\"axes_1\">\r\n   <g id=\"patch_2\">\r\n    <path d=\"M 46.0125 387.72 \r\nL 436.6125 387.72 \r\nL 436.6125 7.2 \r\nL 46.0125 7.2 \r\nz\r\n\" style=\"fill:#ffffff;\"/>\r\n   </g>\r\n   <g id=\"patch_3\">\r\n    <path clip-path=\"url(#p1476ee40de)\" d=\"M 49.9185 387.72 \r\nL 53.8245 387.72 \r\nL 53.8245 326.109651 \r\nL 49.9185 326.109651 \r\nz\r\n\" style=\"fill:#1f77b4;\"/>\r\n   </g>\r\n   <g id=\"patch_4\">\r\n    <path clip-path=\"url(#p1476ee40de)\" d=\"M 65.5425 387.72 \r\nL 69.4485 387.72 \r\nL 69.4485 283.016662 \r\nL 65.5425 283.016662 \r\nz\r\n\" style=\"fill:#1f77b4;\"/>\r\n   </g>\r\n   <g id=\"patch_5\">\r\n    <path clip-path=\"url(#p1476ee40de)\" d=\"M 81.1665 387.72 \r\nL 85.0725 387.72 \r\nL 85.0725 252.069573 \r\nL 81.1665 252.069573 \r\nz\r\n\" style=\"fill:#1f77b4;\"/>\r\n   </g>\r\n   <g id=\"patch_6\">\r\n    <path clip-path=\"url(#p1476ee40de)\" d=\"M 96.7905 387.72 \r\nL 100.6965 387.72 \r\nL 100.6965 255.602748 \r\nL 96.7905 255.602748 \r\nz\r\n\" style=\"fill:#1f77b4;\"/>\r\n   </g>\r\n   <g id=\"patch_7\">\r\n    <path clip-path=\"url(#p1476ee40de)\" d=\"M 112.4145 387.72 \r\nL 116.3205 387.72 \r\nL 116.3205 233.571788 \r\nL 112.4145 233.571788 \r\nz\r\n\" style=\"fill:#1f77b4;\"/>\r\n   </g>\r\n   <g id=\"patch_8\">\r\n    <path clip-path=\"url(#p1476ee40de)\" d=\"M 128.0385 387.72 \r\nL 131.9445 387.72 \r\nL 131.9445 304.577837 \r\nL 128.0385 304.577837 \r\nz\r\n\" style=\"fill:#1f77b4;\"/>\r\n   </g>\r\n   <g id=\"patch_9\">\r\n    <path clip-path=\"url(#p1476ee40de)\" d=\"M 143.6625 387.72 \r\nL 147.5685 387.72 \r\nL 147.5685 238.465382 \r\nL 143.6625 238.465382 \r\nz\r\n\" style=\"fill:#1f77b4;\"/>\r\n   </g>\r\n   <g id=\"patch_10\">\r\n    <path clip-path=\"url(#p1476ee40de)\" d=\"M 159.2865 387.72 \r\nL 163.1925 387.72 \r\nL 163.1925 335.378118 \r\nL 159.2865 335.378118 \r\nz\r\n\" style=\"fill:#1f77b4;\"/>\r\n   </g>\r\n   <g id=\"patch_11\">\r\n    <path clip-path=\"url(#p1476ee40de)\" d=\"M 174.9105 387.72 \r\nL 178.8165 387.72 \r\nL 178.8165 181.161396 \r\nL 174.9105 181.161396 \r\nz\r\n\" style=\"fill:#1f77b4;\"/>\r\n   </g>\r\n   <g id=\"patch_12\">\r\n    <path clip-path=\"url(#p1476ee40de)\" d=\"M 190.5345 387.72 \r\nL 194.4405 387.72 \r\nL 194.4405 319.816489 \r\nL 190.5345 319.816489 \r\nz\r\n\" style=\"fill:#1f77b4;\"/>\r\n   </g>\r\n   <g id=\"patch_13\">\r\n    <path clip-path=\"url(#p1476ee40de)\" d=\"M 206.1585 387.72 \r\nL 210.0645 387.72 \r\nL 210.0645 277.66307 \r\nL 206.1585 277.66307 \r\nz\r\n\" style=\"fill:#1f77b4;\"/>\r\n   </g>\r\n   <g id=\"patch_14\">\r\n    <path clip-path=\"url(#p1476ee40de)\" d=\"M 221.7825 387.72 \r\nL 225.6885 387.72 \r\nL 225.6885 25.32 \r\nL 221.7825 25.32 \r\nz\r\n\" style=\"fill:#1f77b4;\"/>\r\n   </g>\r\n   <g id=\"patch_15\">\r\n    <path clip-path=\"url(#p1476ee40de)\" d=\"M 237.4065 387.72 \r\nL 241.3125 387.72 \r\nL 241.3125 309.471431 \r\nL 237.4065 309.471431 \r\nz\r\n\" style=\"fill:#1f77b4;\"/>\r\n   </g>\r\n   <g id=\"patch_16\">\r\n    <path clip-path=\"url(#p1476ee40de)\" d=\"M 253.0305 387.72 \r\nL 256.9365 387.72 \r\nL 256.9365 310.420789 \r\nL 253.0305 310.420789 \r\nz\r\n\" style=\"fill:#1f77b4;\"/>\r\n   </g>\r\n   <g id=\"patch_17\">\r\n    <path clip-path=\"url(#p1476ee40de)\" d=\"M 268.6545 387.72 \r\nL 272.5605 387.72 \r\nL 272.5605 242.194301 \r\nL 268.6545 242.194301 \r\nz\r\n\" style=\"fill:#1f77b4;\"/>\r\n   </g>\r\n   <g id=\"patch_18\">\r\n    <path clip-path=\"url(#p1476ee40de)\" d=\"M 284.2785 387.72 \r\nL 288.1845 387.72 \r\nL 288.1845 202.546402 \r\nL 284.2785 202.546402 \r\nz\r\n\" style=\"fill:#1f77b4;\"/>\r\n   </g>\r\n   <g id=\"patch_19\">\r\n    <path clip-path=\"url(#p1476ee40de)\" d=\"M 299.9025 387.72 \r\nL 303.8085 387.72 \r\nL 303.8085 317.947136 \r\nL 299.9025 317.947136 \r\nz\r\n\" style=\"fill:#1f77b4;\"/>\r\n   </g>\r\n   <g id=\"patch_20\">\r\n    <path clip-path=\"url(#p1476ee40de)\" d=\"M 315.5265 387.72 \r\nL 319.4325 387.72 \r\nL 319.4325 240.520691 \r\nL 315.5265 240.520691 \r\nz\r\n\" style=\"fill:#1f77b4;\"/>\r\n   </g>\r\n   <g id=\"patch_21\">\r\n    <path clip-path=\"url(#p1476ee40de)\" d=\"M 331.1505 387.72 \r\nL 335.0565 387.72 \r\nL 335.0565 298.705524 \r\nL 331.1505 298.705524 \r\nz\r\n\" style=\"fill:#1f77b4;\"/>\r\n   </g>\r\n   <g id=\"patch_22\">\r\n    <path clip-path=\"url(#p1476ee40de)\" d=\"M 346.7745 387.72 \r\nL 350.6805 387.72 \r\nL 350.6805 327.147093 \r\nL 346.7745 327.147093 \r\nz\r\n\" style=\"fill:#1f77b4;\"/>\r\n   </g>\r\n   <g id=\"patch_23\">\r\n    <path clip-path=\"url(#p1476ee40de)\" d=\"M 362.3985 387.72 \r\nL 366.3045 387.72 \r\nL 366.3045 294.790649 \r\nL 362.3985 294.790649 \r\nz\r\n\" style=\"fill:#1f77b4;\"/>\r\n   </g>\r\n   <g id=\"patch_24\">\r\n    <path clip-path=\"url(#p1476ee40de)\" d=\"M 378.0225 387.72 \r\nL 381.9285 387.72 \r\nL 381.9285 273.268623 \r\nL 378.0225 273.268623 \r\nz\r\n\" style=\"fill:#1f77b4;\"/>\r\n   </g>\r\n   <g id=\"patch_25\">\r\n    <path clip-path=\"url(#p1476ee40de)\" d=\"M 393.6465 387.72 \r\nL 397.5525 387.72 \r\nL 397.5525 39.785464 \r\nL 393.6465 39.785464 \r\nz\r\n\" style=\"fill:#1f77b4;\"/>\r\n   </g>\r\n   <g id=\"patch_26\">\r\n    <path clip-path=\"url(#p1476ee40de)\" d=\"M 409.2705 387.72 \r\nL 413.1765 387.72 \r\nL 413.1765 308.854839 \r\nL 409.2705 308.854839 \r\nz\r\n\" style=\"fill:#1f77b4;\"/>\r\n   </g>\r\n   <g id=\"patch_27\">\r\n    <path clip-path=\"url(#p1476ee40de)\" d=\"M 424.8945 387.72 \r\nL 428.8005 387.72 \r\nL 428.8005 282.067305 \r\nL 424.8945 282.067305 \r\nz\r\n\" style=\"fill:#1f77b4;\"/>\r\n   </g>\r\n   <g id=\"patch_28\">\r\n    <path clip-path=\"url(#p1476ee40de)\" d=\"M 53.8245 387.72 \r\nL 57.7305 387.72 \r\nL 57.7305 338.309341 \r\nL 53.8245 338.309341 \r\nz\r\n\" style=\"fill:#ff7f0e;\"/>\r\n   </g>\r\n   <g id=\"patch_29\">\r\n    <path clip-path=\"url(#p1476ee40de)\" d=\"M 69.4485 387.72 \r\nL 73.3545 387.72 \r\nL 73.3545 270.862223 \r\nL 69.4485 270.862223 \r\nz\r\n\" style=\"fill:#ff7f0e;\"/>\r\n   </g>\r\n   <g id=\"patch_30\">\r\n    <path clip-path=\"url(#p1476ee40de)\" d=\"M 85.0725 387.72 \r\nL 88.9785 387.72 \r\nL 88.9785 224.350193 \r\nL 85.0725 224.350193 \r\nz\r\n\" style=\"fill:#ff7f0e;\"/>\r\n   </g>\r\n   <g id=\"patch_31\">\r\n    <path clip-path=\"url(#p1476ee40de)\" d=\"M 100.6965 387.72 \r\nL 104.6025 387.72 \r\nL 104.6025 233.666047 \r\nL 100.6965 233.666047 \r\nz\r\n\" style=\"fill:#ff7f0e;\"/>\r\n   </g>\r\n   <g id=\"patch_32\">\r\n    <path clip-path=\"url(#p1476ee40de)\" d=\"M 116.3205 387.72 \r\nL 120.2265 387.72 \r\nL 120.2265 174.24335 \r\nL 116.3205 174.24335 \r\nz\r\n\" style=\"fill:#ff7f0e;\"/>\r\n   </g>\r\n   <g id=\"patch_33\">\r\n    <path clip-path=\"url(#p1476ee40de)\" d=\"M 131.9445 387.72 \r\nL 135.8505 387.72 \r\nL 135.8505 294.349896 \r\nL 131.9445 294.349896 \r\nz\r\n\" style=\"fill:#ff7f0e;\"/>\r\n   </g>\r\n   <g id=\"patch_34\">\r\n    <path clip-path=\"url(#p1476ee40de)\" d=\"M 147.5685 387.72 \r\nL 151.4745 387.72 \r\nL 151.4745 195.475337 \r\nL 147.5685 195.475337 \r\nz\r\n\" style=\"fill:#ff7f0e;\"/>\r\n   </g>\r\n   <g id=\"patch_35\">\r\n    <path clip-path=\"url(#p1476ee40de)\" d=\"M 163.1925 387.72 \r\nL 167.0985 387.72 \r\nL 167.0985 344.187977 \r\nL 163.1925 344.187977 \r\nz\r\n\" style=\"fill:#ff7f0e;\"/>\r\n   </g>\r\n   <g id=\"patch_36\">\r\n    <path clip-path=\"url(#p1476ee40de)\" d=\"M 178.8165 387.72 \r\nL 182.7225 387.72 \r\nL 182.7225 163.556731 \r\nL 178.8165 163.556731 \r\nz\r\n\" style=\"fill:#ff7f0e;\"/>\r\n   </g>\r\n   <g id=\"patch_37\">\r\n    <path clip-path=\"url(#p1476ee40de)\" d=\"M 194.4405 387.72 \r\nL 198.3465 387.72 \r\nL 198.3465 311.620427 \r\nL 194.4405 311.620427 \r\nz\r\n\" style=\"fill:#ff7f0e;\"/>\r\n   </g>\r\n   <g id=\"patch_38\">\r\n    <path clip-path=\"url(#p1476ee40de)\" d=\"M 210.0645 387.72 \r\nL 213.9705 387.72 \r\nL 213.9705 310.159198 \r\nL 210.0645 310.159198 \r\nz\r\n\" style=\"fill:#ff7f0e;\"/>\r\n   </g>\r\n   <g id=\"patch_39\">\r\n    <path clip-path=\"url(#p1476ee40de)\" d=\"M 225.6885 387.72 \r\nL 229.5945 387.72 \r\nL 229.5945 58.401483 \r\nL 225.6885 58.401483 \r\nz\r\n\" style=\"fill:#ff7f0e;\"/>\r\n   </g>\r\n   <g id=\"patch_40\">\r\n    <path clip-path=\"url(#p1476ee40de)\" d=\"M 241.3125 387.72 \r\nL 245.2185 387.72 \r\nL 245.2185 287.425454 \r\nL 241.3125 287.425454 \r\nz\r\n\" style=\"fill:#ff7f0e;\"/>\r\n   </g>\r\n   <g id=\"patch_41\">\r\n    <path clip-path=\"url(#p1476ee40de)\" d=\"M 256.9365 387.72 \r\nL 260.8425 387.72 \r\nL 260.8425 292.892245 \r\nL 256.9365 292.892245 \r\nz\r\n\" style=\"fill:#ff7f0e;\"/>\r\n   </g>\r\n   <g id=\"patch_42\">\r\n    <path clip-path=\"url(#p1476ee40de)\" d=\"M 272.5605 387.72 \r\nL 276.4665 387.72 \r\nL 276.4665 247.503555 \r\nL 272.5605 247.503555 \r\nz\r\n\" style=\"fill:#ff7f0e;\"/>\r\n   </g>\r\n   <g id=\"patch_43\">\r\n    <path clip-path=\"url(#p1476ee40de)\" d=\"M 288.1845 387.72 \r\nL 292.0905 387.72 \r\nL 292.0905 197.832867 \r\nL 288.1845 197.832867 \r\nz\r\n\" style=\"fill:#ff7f0e;\"/>\r\n   </g>\r\n   <g id=\"patch_44\">\r\n    <path clip-path=\"url(#p1476ee40de)\" d=\"M 303.8085 387.72 \r\nL 307.7145 387.72 \r\nL 307.7145 325.619593 \r\nL 303.8085 325.619593 \r\nz\r\n\" style=\"fill:#ff7f0e;\"/>\r\n   </g>\r\n   <g id=\"patch_45\">\r\n    <path clip-path=\"url(#p1476ee40de)\" d=\"M 319.4325 387.72 \r\nL 323.3385 387.72 \r\nL 323.3385 278.657483 \r\nL 319.4325 278.657483 \r\nz\r\n\" style=\"fill:#ff7f0e;\"/>\r\n   </g>\r\n   <g id=\"patch_46\">\r\n    <path clip-path=\"url(#p1476ee40de)\" d=\"M 335.0565 387.72 \r\nL 338.9625 387.72 \r\nL 338.9625 309.415056 \r\nL 335.0565 309.415056 \r\nz\r\n\" style=\"fill:#ff7f0e;\"/>\r\n   </g>\r\n   <g id=\"patch_47\">\r\n    <path clip-path=\"url(#p1476ee40de)\" d=\"M 350.6805 387.72 \r\nL 354.5865 387.72 \r\nL 354.5865 328.796223 \r\nL 350.6805 328.796223 \r\nz\r\n\" style=\"fill:#ff7f0e;\"/>\r\n   </g>\r\n   <g id=\"patch_48\">\r\n    <path clip-path=\"url(#p1476ee40de)\" d=\"M 366.3045 387.72 \r\nL 370.2105 387.72 \r\nL 370.2105 279.721192 \r\nL 366.3045 279.721192 \r\nz\r\n\" style=\"fill:#ff7f0e;\"/>\r\n   </g>\r\n   <g id=\"patch_49\">\r\n    <path clip-path=\"url(#p1476ee40de)\" d=\"M 381.9285 387.72 \r\nL 385.8345 387.72 \r\nL 385.8345 277.759307 \r\nL 381.9285 277.759307 \r\nz\r\n\" style=\"fill:#ff7f0e;\"/>\r\n   </g>\r\n   <g id=\"patch_50\">\r\n    <path clip-path=\"url(#p1476ee40de)\" d=\"M 397.5525 387.72 \r\nL 401.4585 387.72 \r\nL 401.4585 150.647228 \r\nL 397.5525 150.647228 \r\nz\r\n\" style=\"fill:#ff7f0e;\"/>\r\n   </g>\r\n   <g id=\"patch_51\">\r\n    <path clip-path=\"url(#p1476ee40de)\" d=\"M 413.1765 387.72 \r\nL 417.0825 387.72 \r\nL 417.0825 289.780652 \r\nL 413.1765 289.780652 \r\nz\r\n\" style=\"fill:#ff7f0e;\"/>\r\n   </g>\r\n   <g id=\"patch_52\">\r\n    <path clip-path=\"url(#p1476ee40de)\" d=\"M 428.8005 387.72 \r\nL 432.7065 387.72 \r\nL 432.7065 280.533975 \r\nL 428.8005 280.533975 \r\nz\r\n\" style=\"fill:#ff7f0e;\"/>\r\n   </g>\r\n   <g id=\"matplotlib.axis_1\">\r\n    <g id=\"xtick_1\">\r\n     <g id=\"line2d_1\">\r\n      <path clip-path=\"url(#p1476ee40de)\" d=\"M 53.8245 387.72 \r\nL 53.8245 7.2 \r\n\" style=\"fill:none;stroke:#008000;stroke-linecap:square;stroke-width:0.5;\"/>\r\n     </g>\r\n     <g id=\"line2d_2\">\r\n      <defs>\r\n       <path d=\"M 0 0 \r\nL 0 3.5 \r\n\" id=\"m319e9e6a18\" style=\"stroke:#000000;stroke-width:0.8;\"/>\r\n      </defs>\r\n      <g>\r\n       <use style=\"stroke:#000000;stroke-width:0.8;\" x=\"53.8245\" xlink:href=\"#m319e9e6a18\" y=\"387.72\"/>\r\n      </g>\r\n     </g>\r\n     <g id=\"text_1\">\r\n      <!-- 18 -->\r\n      <defs>\r\n       <path d=\"M 12.40625 8.296875 \r\nL 28.515625 8.296875 \r\nL 28.515625 63.921875 \r\nL 10.984375 60.40625 \r\nL 10.984375 69.390625 \r\nL 28.421875 72.90625 \r\nL 38.28125 72.90625 \r\nL 38.28125 8.296875 \r\nL 54.390625 8.296875 \r\nL 54.390625 0 \r\nL 12.40625 0 \r\nz\r\n\" id=\"DejaVuSans-49\"/>\r\n       <path d=\"M 31.78125 34.625 \r\nQ 24.75 34.625 20.71875 30.859375 \r\nQ 16.703125 27.09375 16.703125 20.515625 \r\nQ 16.703125 13.921875 20.71875 10.15625 \r\nQ 24.75 6.390625 31.78125 6.390625 \r\nQ 38.8125 6.390625 42.859375 10.171875 \r\nQ 46.921875 13.96875 46.921875 20.515625 \r\nQ 46.921875 27.09375 42.890625 30.859375 \r\nQ 38.875 34.625 31.78125 34.625 \r\nz\r\nM 21.921875 38.8125 \r\nQ 15.578125 40.375 12.03125 44.71875 \r\nQ 8.5 49.078125 8.5 55.328125 \r\nQ 8.5 64.0625 14.71875 69.140625 \r\nQ 20.953125 74.21875 31.78125 74.21875 \r\nQ 42.671875 74.21875 48.875 69.140625 \r\nQ 55.078125 64.0625 55.078125 55.328125 \r\nQ 55.078125 49.078125 51.53125 44.71875 \r\nQ 48 40.375 41.703125 38.8125 \r\nQ 48.828125 37.15625 52.796875 32.3125 \r\nQ 56.78125 27.484375 56.78125 20.515625 \r\nQ 56.78125 9.90625 50.3125 4.234375 \r\nQ 43.84375 -1.421875 31.78125 -1.421875 \r\nQ 19.734375 -1.421875 13.25 4.234375 \r\nQ 6.78125 9.90625 6.78125 20.515625 \r\nQ 6.78125 27.484375 10.78125 32.3125 \r\nQ 14.796875 37.15625 21.921875 38.8125 \r\nz\r\nM 18.3125 54.390625 \r\nQ 18.3125 48.734375 21.84375 45.5625 \r\nQ 25.390625 42.390625 31.78125 42.390625 \r\nQ 38.140625 42.390625 41.71875 45.5625 \r\nQ 45.3125 48.734375 45.3125 54.390625 \r\nQ 45.3125 60.0625 41.71875 63.234375 \r\nQ 38.140625 66.40625 31.78125 66.40625 \r\nQ 25.390625 66.40625 21.84375 63.234375 \r\nQ 18.3125 60.0625 18.3125 54.390625 \r\nz\r\n\" id=\"DejaVuSans-56\"/>\r\n      </defs>\r\n      <g transform=\"translate(56.583875 407.445)rotate(-90)scale(0.1 -0.1)\">\r\n       <use xlink:href=\"#DejaVuSans-49\"/>\r\n       <use x=\"63.623047\" xlink:href=\"#DejaVuSans-56\"/>\r\n      </g>\r\n     </g>\r\n    </g>\r\n    <g id=\"xtick_2\">\r\n     <g id=\"line2d_3\">\r\n      <path clip-path=\"url(#p1476ee40de)\" d=\"M 69.4485 387.72 \r\nL 69.4485 7.2 \r\n\" style=\"fill:none;stroke:#008000;stroke-linecap:square;stroke-width:0.5;\"/>\r\n     </g>\r\n     <g id=\"line2d_4\">\r\n      <g>\r\n       <use style=\"stroke:#000000;stroke-width:0.8;\" x=\"69.4485\" xlink:href=\"#m319e9e6a18\" y=\"387.72\"/>\r\n      </g>\r\n     </g>\r\n     <g id=\"text_2\">\r\n      <!-- 170 -->\r\n      <defs>\r\n       <path d=\"M 8.203125 72.90625 \r\nL 55.078125 72.90625 \r\nL 55.078125 68.703125 \r\nL 28.609375 0 \r\nL 18.3125 0 \r\nL 43.21875 64.59375 \r\nL 8.203125 64.59375 \r\nz\r\n\" id=\"DejaVuSans-55\"/>\r\n       <path d=\"M 31.78125 66.40625 \r\nQ 24.171875 66.40625 20.328125 58.90625 \r\nQ 16.5 51.421875 16.5 36.375 \r\nQ 16.5 21.390625 20.328125 13.890625 \r\nQ 24.171875 6.390625 31.78125 6.390625 \r\nQ 39.453125 6.390625 43.28125 13.890625 \r\nQ 47.125 21.390625 47.125 36.375 \r\nQ 47.125 51.421875 43.28125 58.90625 \r\nQ 39.453125 66.40625 31.78125 66.40625 \r\nz\r\nM 31.78125 74.21875 \r\nQ 44.046875 74.21875 50.515625 64.515625 \r\nQ 56.984375 54.828125 56.984375 36.375 \r\nQ 56.984375 17.96875 50.515625 8.265625 \r\nQ 44.046875 -1.421875 31.78125 -1.421875 \r\nQ 19.53125 -1.421875 13.0625 8.265625 \r\nQ 6.59375 17.96875 6.59375 36.375 \r\nQ 6.59375 54.828125 13.0625 64.515625 \r\nQ 19.53125 74.21875 31.78125 74.21875 \r\nz\r\n\" id=\"DejaVuSans-48\"/>\r\n      </defs>\r\n      <g transform=\"translate(72.207875 413.8075)rotate(-90)scale(0.1 -0.1)\">\r\n       <use xlink:href=\"#DejaVuSans-49\"/>\r\n       <use x=\"63.623047\" xlink:href=\"#DejaVuSans-55\"/>\r\n       <use x=\"127.246094\" xlink:href=\"#DejaVuSans-48\"/>\r\n      </g>\r\n     </g>\r\n    </g>\r\n    <g id=\"xtick_3\">\r\n     <g id=\"line2d_5\">\r\n      <path clip-path=\"url(#p1476ee40de)\" d=\"M 85.0725 387.72 \r\nL 85.0725 7.2 \r\n\" style=\"fill:none;stroke:#008000;stroke-linecap:square;stroke-width:0.5;\"/>\r\n     </g>\r\n     <g id=\"line2d_6\">\r\n      <g>\r\n       <use style=\"stroke:#000000;stroke-width:0.8;\" x=\"85.0725\" xlink:href=\"#m319e9e6a18\" y=\"387.72\"/>\r\n      </g>\r\n     </g>\r\n     <g id=\"text_3\">\r\n      <!-- 107 -->\r\n      <g transform=\"translate(87.831875 413.8075)rotate(-90)scale(0.1 -0.1)\">\r\n       <use xlink:href=\"#DejaVuSans-49\"/>\r\n       <use x=\"63.623047\" xlink:href=\"#DejaVuSans-48\"/>\r\n       <use x=\"127.246094\" xlink:href=\"#DejaVuSans-55\"/>\r\n      </g>\r\n     </g>\r\n    </g>\r\n    <g id=\"xtick_4\">\r\n     <g id=\"line2d_7\">\r\n      <path clip-path=\"url(#p1476ee40de)\" d=\"M 100.6965 387.72 \r\nL 100.6965 7.2 \r\n\" style=\"fill:none;stroke:#008000;stroke-linecap:square;stroke-width:0.5;\"/>\r\n     </g>\r\n     <g id=\"line2d_8\">\r\n      <g>\r\n       <use style=\"stroke:#000000;stroke-width:0.8;\" x=\"100.6965\" xlink:href=\"#m319e9e6a18\" y=\"387.72\"/>\r\n      </g>\r\n     </g>\r\n     <g id=\"text_4\">\r\n      <!-- 98 -->\r\n      <defs>\r\n       <path d=\"M 10.984375 1.515625 \r\nL 10.984375 10.5 \r\nQ 14.703125 8.734375 18.5 7.8125 \r\nQ 22.3125 6.890625 25.984375 6.890625 \r\nQ 35.75 6.890625 40.890625 13.453125 \r\nQ 46.046875 20.015625 46.78125 33.40625 \r\nQ 43.953125 29.203125 39.59375 26.953125 \r\nQ 35.25 24.703125 29.984375 24.703125 \r\nQ 19.046875 24.703125 12.671875 31.3125 \r\nQ 6.296875 37.9375 6.296875 49.421875 \r\nQ 6.296875 60.640625 12.9375 67.421875 \r\nQ 19.578125 74.21875 30.609375 74.21875 \r\nQ 43.265625 74.21875 49.921875 64.515625 \r\nQ 56.59375 54.828125 56.59375 36.375 \r\nQ 56.59375 19.140625 48.40625 8.859375 \r\nQ 40.234375 -1.421875 26.421875 -1.421875 \r\nQ 22.703125 -1.421875 18.890625 -0.6875 \r\nQ 15.09375 0.046875 10.984375 1.515625 \r\nz\r\nM 30.609375 32.421875 \r\nQ 37.25 32.421875 41.125 36.953125 \r\nQ 45.015625 41.5 45.015625 49.421875 \r\nQ 45.015625 57.28125 41.125 61.84375 \r\nQ 37.25 66.40625 30.609375 66.40625 \r\nQ 23.96875 66.40625 20.09375 61.84375 \r\nQ 16.21875 57.28125 16.21875 49.421875 \r\nQ 16.21875 41.5 20.09375 36.953125 \r\nQ 23.96875 32.421875 30.609375 32.421875 \r\nz\r\n\" id=\"DejaVuSans-57\"/>\r\n      </defs>\r\n      <g transform=\"translate(103.455875 407.445)rotate(-90)scale(0.1 -0.1)\">\r\n       <use xlink:href=\"#DejaVuSans-57\"/>\r\n       <use x=\"63.623047\" xlink:href=\"#DejaVuSans-56\"/>\r\n      </g>\r\n     </g>\r\n    </g>\r\n    <g id=\"xtick_5\">\r\n     <g id=\"line2d_9\">\r\n      <path clip-path=\"url(#p1476ee40de)\" d=\"M 116.3205 387.72 \r\nL 116.3205 7.2 \r\n\" style=\"fill:none;stroke:#008000;stroke-linecap:square;stroke-width:0.5;\"/>\r\n     </g>\r\n     <g id=\"line2d_10\">\r\n      <g>\r\n       <use style=\"stroke:#000000;stroke-width:0.8;\" x=\"116.3205\" xlink:href=\"#m319e9e6a18\" y=\"387.72\"/>\r\n      </g>\r\n     </g>\r\n     <g id=\"text_5\">\r\n      <!-- 177 -->\r\n      <g transform=\"translate(119.079875 413.8075)rotate(-90)scale(0.1 -0.1)\">\r\n       <use xlink:href=\"#DejaVuSans-49\"/>\r\n       <use x=\"63.623047\" xlink:href=\"#DejaVuSans-55\"/>\r\n       <use x=\"127.246094\" xlink:href=\"#DejaVuSans-55\"/>\r\n      </g>\r\n     </g>\r\n    </g>\r\n    <g id=\"xtick_6\">\r\n     <g id=\"line2d_11\">\r\n      <path clip-path=\"url(#p1476ee40de)\" d=\"M 131.9445 387.72 \r\nL 131.9445 7.2 \r\n\" style=\"fill:none;stroke:#008000;stroke-linecap:square;stroke-width:0.5;\"/>\r\n     </g>\r\n     <g id=\"line2d_12\">\r\n      <g>\r\n       <use style=\"stroke:#000000;stroke-width:0.8;\" x=\"131.9445\" xlink:href=\"#m319e9e6a18\" y=\"387.72\"/>\r\n      </g>\r\n     </g>\r\n     <g id=\"text_6\">\r\n      <!-- 182 -->\r\n      <defs>\r\n       <path d=\"M 19.1875 8.296875 \r\nL 53.609375 8.296875 \r\nL 53.609375 0 \r\nL 7.328125 0 \r\nL 7.328125 8.296875 \r\nQ 12.9375 14.109375 22.625 23.890625 \r\nQ 32.328125 33.6875 34.8125 36.53125 \r\nQ 39.546875 41.84375 41.421875 45.53125 \r\nQ 43.3125 49.21875 43.3125 52.78125 \r\nQ 43.3125 58.59375 39.234375 62.25 \r\nQ 35.15625 65.921875 28.609375 65.921875 \r\nQ 23.96875 65.921875 18.8125 64.3125 \r\nQ 13.671875 62.703125 7.8125 59.421875 \r\nL 7.8125 69.390625 \r\nQ 13.765625 71.78125 18.9375 73 \r\nQ 24.125 74.21875 28.421875 74.21875 \r\nQ 39.75 74.21875 46.484375 68.546875 \r\nQ 53.21875 62.890625 53.21875 53.421875 \r\nQ 53.21875 48.921875 51.53125 44.890625 \r\nQ 49.859375 40.875 45.40625 35.40625 \r\nQ 44.1875 33.984375 37.640625 27.21875 \r\nQ 31.109375 20.453125 19.1875 8.296875 \r\nz\r\n\" id=\"DejaVuSans-50\"/>\r\n      </defs>\r\n      <g transform=\"translate(134.703875 413.8075)rotate(-90)scale(0.1 -0.1)\">\r\n       <use xlink:href=\"#DejaVuSans-49\"/>\r\n       <use x=\"63.623047\" xlink:href=\"#DejaVuSans-56\"/>\r\n       <use x=\"127.246094\" xlink:href=\"#DejaVuSans-50\"/>\r\n      </g>\r\n     </g>\r\n    </g>\r\n    <g id=\"xtick_7\">\r\n     <g id=\"line2d_13\">\r\n      <path clip-path=\"url(#p1476ee40de)\" d=\"M 147.5685 387.72 \r\nL 147.5685 7.2 \r\n\" style=\"fill:none;stroke:#008000;stroke-linecap:square;stroke-width:0.5;\"/>\r\n     </g>\r\n     <g id=\"line2d_14\">\r\n      <g>\r\n       <use style=\"stroke:#000000;stroke-width:0.8;\" x=\"147.5685\" xlink:href=\"#m319e9e6a18\" y=\"387.72\"/>\r\n      </g>\r\n     </g>\r\n     <g id=\"text_7\">\r\n      <!-- 5 -->\r\n      <defs>\r\n       <path d=\"M 10.796875 72.90625 \r\nL 49.515625 72.90625 \r\nL 49.515625 64.59375 \r\nL 19.828125 64.59375 \r\nL 19.828125 46.734375 \r\nQ 21.96875 47.46875 24.109375 47.828125 \r\nQ 26.265625 48.1875 28.421875 48.1875 \r\nQ 40.625 48.1875 47.75 41.5 \r\nQ 54.890625 34.8125 54.890625 23.390625 \r\nQ 54.890625 11.625 47.5625 5.09375 \r\nQ 40.234375 -1.421875 26.90625 -1.421875 \r\nQ 22.3125 -1.421875 17.546875 -0.640625 \r\nQ 12.796875 0.140625 7.71875 1.703125 \r\nL 7.71875 11.625 \r\nQ 12.109375 9.234375 16.796875 8.0625 \r\nQ 21.484375 6.890625 26.703125 6.890625 \r\nQ 35.15625 6.890625 40.078125 11.328125 \r\nQ 45.015625 15.765625 45.015625 23.390625 \r\nQ 45.015625 31 40.078125 35.4375 \r\nQ 35.15625 39.890625 26.703125 39.890625 \r\nQ 22.75 39.890625 18.8125 39.015625 \r\nQ 14.890625 38.140625 10.796875 36.28125 \r\nz\r\n\" id=\"DejaVuSans-53\"/>\r\n      </defs>\r\n      <g transform=\"translate(150.327875 401.0825)rotate(-90)scale(0.1 -0.1)\">\r\n       <use xlink:href=\"#DejaVuSans-53\"/>\r\n      </g>\r\n     </g>\r\n    </g>\r\n    <g id=\"xtick_8\">\r\n     <g id=\"line2d_15\">\r\n      <path clip-path=\"url(#p1476ee40de)\" d=\"M 163.1925 387.72 \r\nL 163.1925 7.2 \r\n\" style=\"fill:none;stroke:#008000;stroke-linecap:square;stroke-width:0.5;\"/>\r\n     </g>\r\n     <g id=\"line2d_16\">\r\n      <g>\r\n       <use style=\"stroke:#000000;stroke-width:0.8;\" x=\"163.1925\" xlink:href=\"#m319e9e6a18\" y=\"387.72\"/>\r\n      </g>\r\n     </g>\r\n     <g id=\"text_8\">\r\n      <!-- 146 -->\r\n      <defs>\r\n       <path d=\"M 37.796875 64.3125 \r\nL 12.890625 25.390625 \r\nL 37.796875 25.390625 \r\nz\r\nM 35.203125 72.90625 \r\nL 47.609375 72.90625 \r\nL 47.609375 25.390625 \r\nL 58.015625 25.390625 \r\nL 58.015625 17.1875 \r\nL 47.609375 17.1875 \r\nL 47.609375 0 \r\nL 37.796875 0 \r\nL 37.796875 17.1875 \r\nL 4.890625 17.1875 \r\nL 4.890625 26.703125 \r\nz\r\n\" id=\"DejaVuSans-52\"/>\r\n       <path d=\"M 33.015625 40.375 \r\nQ 26.375 40.375 22.484375 35.828125 \r\nQ 18.609375 31.296875 18.609375 23.390625 \r\nQ 18.609375 15.53125 22.484375 10.953125 \r\nQ 26.375 6.390625 33.015625 6.390625 \r\nQ 39.65625 6.390625 43.53125 10.953125 \r\nQ 47.40625 15.53125 47.40625 23.390625 \r\nQ 47.40625 31.296875 43.53125 35.828125 \r\nQ 39.65625 40.375 33.015625 40.375 \r\nz\r\nM 52.59375 71.296875 \r\nL 52.59375 62.3125 \r\nQ 48.875 64.0625 45.09375 64.984375 \r\nQ 41.3125 65.921875 37.59375 65.921875 \r\nQ 27.828125 65.921875 22.671875 59.328125 \r\nQ 17.53125 52.734375 16.796875 39.40625 \r\nQ 19.671875 43.65625 24.015625 45.921875 \r\nQ 28.375 48.1875 33.59375 48.1875 \r\nQ 44.578125 48.1875 50.953125 41.515625 \r\nQ 57.328125 34.859375 57.328125 23.390625 \r\nQ 57.328125 12.15625 50.6875 5.359375 \r\nQ 44.046875 -1.421875 33.015625 -1.421875 \r\nQ 20.359375 -1.421875 13.671875 8.265625 \r\nQ 6.984375 17.96875 6.984375 36.375 \r\nQ 6.984375 53.65625 15.1875 63.9375 \r\nQ 23.390625 74.21875 37.203125 74.21875 \r\nQ 40.921875 74.21875 44.703125 73.484375 \r\nQ 48.484375 72.75 52.59375 71.296875 \r\nz\r\n\" id=\"DejaVuSans-54\"/>\r\n      </defs>\r\n      <g transform=\"translate(165.951875 413.8075)rotate(-90)scale(0.1 -0.1)\">\r\n       <use xlink:href=\"#DejaVuSans-49\"/>\r\n       <use x=\"63.623047\" xlink:href=\"#DejaVuSans-52\"/>\r\n       <use x=\"127.246094\" xlink:href=\"#DejaVuSans-54\"/>\r\n      </g>\r\n     </g>\r\n    </g>\r\n    <g id=\"xtick_9\">\r\n     <g id=\"line2d_17\">\r\n      <path clip-path=\"url(#p1476ee40de)\" d=\"M 178.8165 387.72 \r\nL 178.8165 7.2 \r\n\" style=\"fill:none;stroke:#008000;stroke-linecap:square;stroke-width:0.5;\"/>\r\n     </g>\r\n     <g id=\"line2d_18\">\r\n      <g>\r\n       <use style=\"stroke:#000000;stroke-width:0.8;\" x=\"178.8165\" xlink:href=\"#m319e9e6a18\" y=\"387.72\"/>\r\n      </g>\r\n     </g>\r\n     <g id=\"text_9\">\r\n      <!-- 12 -->\r\n      <g transform=\"translate(181.575875 407.445)rotate(-90)scale(0.1 -0.1)\">\r\n       <use xlink:href=\"#DejaVuSans-49\"/>\r\n       <use x=\"63.623047\" xlink:href=\"#DejaVuSans-50\"/>\r\n      </g>\r\n     </g>\r\n    </g>\r\n    <g id=\"xtick_10\">\r\n     <g id=\"line2d_19\">\r\n      <path clip-path=\"url(#p1476ee40de)\" d=\"M 194.4405 387.72 \r\nL 194.4405 7.2 \r\n\" style=\"fill:none;stroke:#008000;stroke-linecap:square;stroke-width:0.5;\"/>\r\n     </g>\r\n     <g id=\"line2d_20\">\r\n      <g>\r\n       <use style=\"stroke:#000000;stroke-width:0.8;\" x=\"194.4405\" xlink:href=\"#m319e9e6a18\" y=\"387.72\"/>\r\n      </g>\r\n     </g>\r\n     <g id=\"text_10\">\r\n      <!-- 152 -->\r\n      <g transform=\"translate(197.199875 413.8075)rotate(-90)scale(0.1 -0.1)\">\r\n       <use xlink:href=\"#DejaVuSans-49\"/>\r\n       <use x=\"63.623047\" xlink:href=\"#DejaVuSans-53\"/>\r\n       <use x=\"127.246094\" xlink:href=\"#DejaVuSans-50\"/>\r\n      </g>\r\n     </g>\r\n    </g>\r\n    <g id=\"xtick_11\">\r\n     <g id=\"line2d_21\">\r\n      <path clip-path=\"url(#p1476ee40de)\" d=\"M 210.0645 387.72 \r\nL 210.0645 7.2 \r\n\" style=\"fill:none;stroke:#008000;stroke-linecap:square;stroke-width:0.5;\"/>\r\n     </g>\r\n     <g id=\"line2d_22\">\r\n      <g>\r\n       <use style=\"stroke:#000000;stroke-width:0.8;\" x=\"210.0645\" xlink:href=\"#m319e9e6a18\" y=\"387.72\"/>\r\n      </g>\r\n     </g>\r\n     <g id=\"text_11\">\r\n      <!-- 61 -->\r\n      <g transform=\"translate(212.823875 407.445)rotate(-90)scale(0.1 -0.1)\">\r\n       <use xlink:href=\"#DejaVuSans-54\"/>\r\n       <use x=\"63.623047\" xlink:href=\"#DejaVuSans-49\"/>\r\n      </g>\r\n     </g>\r\n    </g>\r\n    <g id=\"xtick_12\">\r\n     <g id=\"line2d_23\">\r\n      <path clip-path=\"url(#p1476ee40de)\" d=\"M 225.6885 387.72 \r\nL 225.6885 7.2 \r\n\" style=\"fill:none;stroke:#008000;stroke-linecap:square;stroke-width:0.5;\"/>\r\n     </g>\r\n     <g id=\"line2d_24\">\r\n      <g>\r\n       <use style=\"stroke:#000000;stroke-width:0.8;\" x=\"225.6885\" xlink:href=\"#m319e9e6a18\" y=\"387.72\"/>\r\n      </g>\r\n     </g>\r\n     <g id=\"text_12\">\r\n      <!-- 125 -->\r\n      <g transform=\"translate(228.447875 413.8075)rotate(-90)scale(0.1 -0.1)\">\r\n       <use xlink:href=\"#DejaVuSans-49\"/>\r\n       <use x=\"63.623047\" xlink:href=\"#DejaVuSans-50\"/>\r\n       <use x=\"127.246094\" xlink:href=\"#DejaVuSans-53\"/>\r\n      </g>\r\n     </g>\r\n    </g>\r\n    <g id=\"xtick_13\">\r\n     <g id=\"line2d_25\">\r\n      <path clip-path=\"url(#p1476ee40de)\" d=\"M 241.3125 387.72 \r\nL 241.3125 7.2 \r\n\" style=\"fill:none;stroke:#008000;stroke-linecap:square;stroke-width:0.5;\"/>\r\n     </g>\r\n     <g id=\"line2d_26\">\r\n      <g>\r\n       <use style=\"stroke:#000000;stroke-width:0.8;\" x=\"241.3125\" xlink:href=\"#m319e9e6a18\" y=\"387.72\"/>\r\n      </g>\r\n     </g>\r\n     <g id=\"text_13\">\r\n      <!-- 180 -->\r\n      <g transform=\"translate(244.071875 413.8075)rotate(-90)scale(0.1 -0.1)\">\r\n       <use xlink:href=\"#DejaVuSans-49\"/>\r\n       <use x=\"63.623047\" xlink:href=\"#DejaVuSans-56\"/>\r\n       <use x=\"127.246094\" xlink:href=\"#DejaVuSans-48\"/>\r\n      </g>\r\n     </g>\r\n    </g>\r\n    <g id=\"xtick_14\">\r\n     <g id=\"line2d_27\">\r\n      <path clip-path=\"url(#p1476ee40de)\" d=\"M 256.9365 387.72 \r\nL 256.9365 7.2 \r\n\" style=\"fill:none;stroke:#008000;stroke-linecap:square;stroke-width:0.5;\"/>\r\n     </g>\r\n     <g id=\"line2d_28\">\r\n      <g>\r\n       <use style=\"stroke:#000000;stroke-width:0.8;\" x=\"256.9365\" xlink:href=\"#m319e9e6a18\" y=\"387.72\"/>\r\n      </g>\r\n     </g>\r\n     <g id=\"text_14\">\r\n      <!-- 154 -->\r\n      <g transform=\"translate(259.695875 413.8075)rotate(-90)scale(0.1 -0.1)\">\r\n       <use xlink:href=\"#DejaVuSans-49\"/>\r\n       <use x=\"63.623047\" xlink:href=\"#DejaVuSans-53\"/>\r\n       <use x=\"127.246094\" xlink:href=\"#DejaVuSans-52\"/>\r\n      </g>\r\n     </g>\r\n    </g>\r\n    <g id=\"xtick_15\">\r\n     <g id=\"line2d_29\">\r\n      <path clip-path=\"url(#p1476ee40de)\" d=\"M 272.5605 387.72 \r\nL 272.5605 7.2 \r\n\" style=\"fill:none;stroke:#008000;stroke-linecap:square;stroke-width:0.5;\"/>\r\n     </g>\r\n     <g id=\"line2d_30\">\r\n      <g>\r\n       <use style=\"stroke:#000000;stroke-width:0.8;\" x=\"272.5605\" xlink:href=\"#m319e9e6a18\" y=\"387.72\"/>\r\n      </g>\r\n     </g>\r\n     <g id=\"text_15\">\r\n      <!-- 80 -->\r\n      <g transform=\"translate(275.319875 407.445)rotate(-90)scale(0.1 -0.1)\">\r\n       <use xlink:href=\"#DejaVuSans-56\"/>\r\n       <use x=\"63.623047\" xlink:href=\"#DejaVuSans-48\"/>\r\n      </g>\r\n     </g>\r\n    </g>\r\n    <g id=\"xtick_16\">\r\n     <g id=\"line2d_31\">\r\n      <path clip-path=\"url(#p1476ee40de)\" d=\"M 288.1845 387.72 \r\nL 288.1845 7.2 \r\n\" style=\"fill:none;stroke:#008000;stroke-linecap:square;stroke-width:0.5;\"/>\r\n     </g>\r\n     <g id=\"line2d_32\">\r\n      <g>\r\n       <use style=\"stroke:#000000;stroke-width:0.8;\" x=\"288.1845\" xlink:href=\"#m319e9e6a18\" y=\"387.72\"/>\r\n      </g>\r\n     </g>\r\n     <g id=\"text_16\">\r\n      <!-- 7 -->\r\n      <g transform=\"translate(290.943875 401.0825)rotate(-90)scale(0.1 -0.1)\">\r\n       <use xlink:href=\"#DejaVuSans-55\"/>\r\n      </g>\r\n     </g>\r\n    </g>\r\n    <g id=\"xtick_17\">\r\n     <g id=\"line2d_33\">\r\n      <path clip-path=\"url(#p1476ee40de)\" d=\"M 303.8085 387.72 \r\nL 303.8085 7.2 \r\n\" style=\"fill:none;stroke:#008000;stroke-linecap:square;stroke-width:0.5;\"/>\r\n     </g>\r\n     <g id=\"line2d_34\">\r\n      <g>\r\n       <use style=\"stroke:#000000;stroke-width:0.8;\" x=\"303.8085\" xlink:href=\"#m319e9e6a18\" y=\"387.72\"/>\r\n      </g>\r\n     </g>\r\n     <g id=\"text_17\">\r\n      <!-- 33 -->\r\n      <defs>\r\n       <path d=\"M 40.578125 39.3125 \r\nQ 47.65625 37.796875 51.625 33 \r\nQ 55.609375 28.21875 55.609375 21.1875 \r\nQ 55.609375 10.40625 48.1875 4.484375 \r\nQ 40.765625 -1.421875 27.09375 -1.421875 \r\nQ 22.515625 -1.421875 17.65625 -0.515625 \r\nQ 12.796875 0.390625 7.625 2.203125 \r\nL 7.625 11.71875 \r\nQ 11.71875 9.328125 16.59375 8.109375 \r\nQ 21.484375 6.890625 26.8125 6.890625 \r\nQ 36.078125 6.890625 40.9375 10.546875 \r\nQ 45.796875 14.203125 45.796875 21.1875 \r\nQ 45.796875 27.640625 41.28125 31.265625 \r\nQ 36.765625 34.90625 28.71875 34.90625 \r\nL 20.21875 34.90625 \r\nL 20.21875 43.015625 \r\nL 29.109375 43.015625 \r\nQ 36.375 43.015625 40.234375 45.921875 \r\nQ 44.09375 48.828125 44.09375 54.296875 \r\nQ 44.09375 59.90625 40.109375 62.90625 \r\nQ 36.140625 65.921875 28.71875 65.921875 \r\nQ 24.65625 65.921875 20.015625 65.03125 \r\nQ 15.375 64.15625 9.8125 62.3125 \r\nL 9.8125 71.09375 \r\nQ 15.4375 72.65625 20.34375 73.4375 \r\nQ 25.25 74.21875 29.59375 74.21875 \r\nQ 40.828125 74.21875 47.359375 69.109375 \r\nQ 53.90625 64.015625 53.90625 55.328125 \r\nQ 53.90625 49.265625 50.4375 45.09375 \r\nQ 46.96875 40.921875 40.578125 39.3125 \r\nz\r\n\" id=\"DejaVuSans-51\"/>\r\n      </defs>\r\n      <g transform=\"translate(306.567875 407.445)rotate(-90)scale(0.1 -0.1)\">\r\n       <use xlink:href=\"#DejaVuSans-51\"/>\r\n       <use x=\"63.623047\" xlink:href=\"#DejaVuSans-51\"/>\r\n      </g>\r\n     </g>\r\n    </g>\r\n    <g id=\"xtick_18\">\r\n     <g id=\"line2d_35\">\r\n      <path clip-path=\"url(#p1476ee40de)\" d=\"M 319.4325 387.72 \r\nL 319.4325 7.2 \r\n\" style=\"fill:none;stroke:#008000;stroke-linecap:square;stroke-width:0.5;\"/>\r\n     </g>\r\n     <g id=\"line2d_36\">\r\n      <g>\r\n       <use style=\"stroke:#000000;stroke-width:0.8;\" x=\"319.4325\" xlink:href=\"#m319e9e6a18\" y=\"387.72\"/>\r\n      </g>\r\n     </g>\r\n     <g id=\"text_18\">\r\n      <!-- 130 -->\r\n      <g transform=\"translate(322.191875 413.8075)rotate(-90)scale(0.1 -0.1)\">\r\n       <use xlink:href=\"#DejaVuSans-49\"/>\r\n       <use x=\"63.623047\" xlink:href=\"#DejaVuSans-51\"/>\r\n       <use x=\"127.246094\" xlink:href=\"#DejaVuSans-48\"/>\r\n      </g>\r\n     </g>\r\n    </g>\r\n    <g id=\"xtick_19\">\r\n     <g id=\"line2d_37\">\r\n      <path clip-path=\"url(#p1476ee40de)\" d=\"M 335.0565 387.72 \r\nL 335.0565 7.2 \r\n\" style=\"fill:none;stroke:#008000;stroke-linecap:square;stroke-width:0.5;\"/>\r\n     </g>\r\n     <g id=\"line2d_38\">\r\n      <g>\r\n       <use style=\"stroke:#000000;stroke-width:0.8;\" x=\"335.0565\" xlink:href=\"#m319e9e6a18\" y=\"387.72\"/>\r\n      </g>\r\n     </g>\r\n     <g id=\"text_19\">\r\n      <!-- 37 -->\r\n      <g transform=\"translate(337.815875 407.445)rotate(-90)scale(0.1 -0.1)\">\r\n       <use xlink:href=\"#DejaVuSans-51\"/>\r\n       <use x=\"63.623047\" xlink:href=\"#DejaVuSans-55\"/>\r\n      </g>\r\n     </g>\r\n    </g>\r\n    <g id=\"xtick_20\">\r\n     <g id=\"line2d_39\">\r\n      <path clip-path=\"url(#p1476ee40de)\" d=\"M 350.6805 387.72 \r\nL 350.6805 7.2 \r\n\" style=\"fill:none;stroke:#008000;stroke-linecap:square;stroke-width:0.5;\"/>\r\n     </g>\r\n     <g id=\"line2d_40\">\r\n      <g>\r\n       <use style=\"stroke:#000000;stroke-width:0.8;\" x=\"350.6805\" xlink:href=\"#m319e9e6a18\" y=\"387.72\"/>\r\n      </g>\r\n     </g>\r\n     <g id=\"text_20\">\r\n      <!-- 74 -->\r\n      <g transform=\"translate(353.439875 407.445)rotate(-90)scale(0.1 -0.1)\">\r\n       <use xlink:href=\"#DejaVuSans-55\"/>\r\n       <use x=\"63.623047\" xlink:href=\"#DejaVuSans-52\"/>\r\n      </g>\r\n     </g>\r\n    </g>\r\n    <g id=\"xtick_21\">\r\n     <g id=\"line2d_41\">\r\n      <path clip-path=\"url(#p1476ee40de)\" d=\"M 366.3045 387.72 \r\nL 366.3045 7.2 \r\n\" style=\"fill:none;stroke:#008000;stroke-linecap:square;stroke-width:0.5;\"/>\r\n     </g>\r\n     <g id=\"line2d_42\">\r\n      <g>\r\n       <use style=\"stroke:#000000;stroke-width:0.8;\" x=\"366.3045\" xlink:href=\"#m319e9e6a18\" y=\"387.72\"/>\r\n      </g>\r\n     </g>\r\n     <g id=\"text_21\">\r\n      <!-- 183 -->\r\n      <g transform=\"translate(369.063875 413.8075)rotate(-90)scale(0.1 -0.1)\">\r\n       <use xlink:href=\"#DejaVuSans-49\"/>\r\n       <use x=\"63.623047\" xlink:href=\"#DejaVuSans-56\"/>\r\n       <use x=\"127.246094\" xlink:href=\"#DejaVuSans-51\"/>\r\n      </g>\r\n     </g>\r\n    </g>\r\n    <g id=\"xtick_22\">\r\n     <g id=\"line2d_43\">\r\n      <path clip-path=\"url(#p1476ee40de)\" d=\"M 381.9285 387.72 \r\nL 381.9285 7.2 \r\n\" style=\"fill:none;stroke:#008000;stroke-linecap:square;stroke-width:0.5;\"/>\r\n     </g>\r\n     <g id=\"line2d_44\">\r\n      <g>\r\n       <use style=\"stroke:#000000;stroke-width:0.8;\" x=\"381.9285\" xlink:href=\"#m319e9e6a18\" y=\"387.72\"/>\r\n      </g>\r\n     </g>\r\n     <g id=\"text_22\">\r\n      <!-- 145 -->\r\n      <g transform=\"translate(384.687875 413.8075)rotate(-90)scale(0.1 -0.1)\">\r\n       <use xlink:href=\"#DejaVuSans-49\"/>\r\n       <use x=\"63.623047\" xlink:href=\"#DejaVuSans-52\"/>\r\n       <use x=\"127.246094\" xlink:href=\"#DejaVuSans-53\"/>\r\n      </g>\r\n     </g>\r\n    </g>\r\n    <g id=\"xtick_23\">\r\n     <g id=\"line2d_45\">\r\n      <path clip-path=\"url(#p1476ee40de)\" d=\"M 397.5525 387.72 \r\nL 397.5525 7.2 \r\n\" style=\"fill:none;stroke:#008000;stroke-linecap:square;stroke-width:0.5;\"/>\r\n     </g>\r\n     <g id=\"line2d_46\">\r\n      <g>\r\n       <use style=\"stroke:#000000;stroke-width:0.8;\" x=\"397.5525\" xlink:href=\"#m319e9e6a18\" y=\"387.72\"/>\r\n      </g>\r\n     </g>\r\n     <g id=\"text_23\">\r\n      <!-- 45 -->\r\n      <g transform=\"translate(400.311875 407.445)rotate(-90)scale(0.1 -0.1)\">\r\n       <use xlink:href=\"#DejaVuSans-52\"/>\r\n       <use x=\"63.623047\" xlink:href=\"#DejaVuSans-53\"/>\r\n      </g>\r\n     </g>\r\n    </g>\r\n    <g id=\"xtick_24\">\r\n     <g id=\"line2d_47\">\r\n      <path clip-path=\"url(#p1476ee40de)\" d=\"M 413.1765 387.72 \r\nL 413.1765 7.2 \r\n\" style=\"fill:none;stroke:#008000;stroke-linecap:square;stroke-width:0.5;\"/>\r\n     </g>\r\n     <g id=\"line2d_48\">\r\n      <g>\r\n       <use style=\"stroke:#000000;stroke-width:0.8;\" x=\"413.1765\" xlink:href=\"#m319e9e6a18\" y=\"387.72\"/>\r\n      </g>\r\n     </g>\r\n     <g id=\"text_24\">\r\n      <!-- 159 -->\r\n      <g transform=\"translate(415.935875 413.8075)rotate(-90)scale(0.1 -0.1)\">\r\n       <use xlink:href=\"#DejaVuSans-49\"/>\r\n       <use x=\"63.623047\" xlink:href=\"#DejaVuSans-53\"/>\r\n       <use x=\"127.246094\" xlink:href=\"#DejaVuSans-57\"/>\r\n      </g>\r\n     </g>\r\n    </g>\r\n    <g id=\"xtick_25\">\r\n     <g id=\"line2d_49\">\r\n      <path clip-path=\"url(#p1476ee40de)\" d=\"M 428.8005 387.72 \r\nL 428.8005 7.2 \r\n\" style=\"fill:none;stroke:#008000;stroke-linecap:square;stroke-width:0.5;\"/>\r\n     </g>\r\n     <g id=\"line2d_50\">\r\n      <g>\r\n       <use style=\"stroke:#000000;stroke-width:0.8;\" x=\"428.8005\" xlink:href=\"#m319e9e6a18\" y=\"387.72\"/>\r\n      </g>\r\n     </g>\r\n     <g id=\"text_25\">\r\n      <!-- 60 -->\r\n      <g transform=\"translate(431.559875 407.445)rotate(-90)scale(0.1 -0.1)\">\r\n       <use xlink:href=\"#DejaVuSans-54\"/>\r\n       <use x=\"63.623047\" xlink:href=\"#DejaVuSans-48\"/>\r\n      </g>\r\n     </g>\r\n    </g>\r\n   </g>\r\n   <g id=\"matplotlib.axis_2\">\r\n    <g id=\"ytick_1\">\r\n     <g id=\"line2d_51\">\r\n      <path clip-path=\"url(#p1476ee40de)\" d=\"M 46.0125 387.72 \r\nL 436.6125 387.72 \r\n\" style=\"fill:none;stroke:#008000;stroke-linecap:square;stroke-width:0.5;\"/>\r\n     </g>\r\n     <g id=\"line2d_52\">\r\n      <defs>\r\n       <path d=\"M 0 0 \r\nL -3.5 0 \r\n\" id=\"m1fa36f3656\" style=\"stroke:#000000;stroke-width:0.8;\"/>\r\n      </defs>\r\n      <g>\r\n       <use style=\"stroke:#000000;stroke-width:0.8;\" x=\"46.0125\" xlink:href=\"#m1fa36f3656\" y=\"387.72\"/>\r\n      </g>\r\n     </g>\r\n     <g id=\"text_26\">\r\n      <!-- 0 -->\r\n      <g transform=\"translate(32.65 391.519219)scale(0.1 -0.1)\">\r\n       <use xlink:href=\"#DejaVuSans-48\"/>\r\n      </g>\r\n     </g>\r\n    </g>\r\n    <g id=\"ytick_2\">\r\n     <g id=\"line2d_53\">\r\n      <path clip-path=\"url(#p1476ee40de)\" d=\"M 46.0125 338.78406 \r\nL 436.6125 338.78406 \r\n\" style=\"fill:none;stroke:#008000;stroke-linecap:square;stroke-width:0.5;\"/>\r\n     </g>\r\n     <g id=\"line2d_54\">\r\n      <g>\r\n       <use style=\"stroke:#000000;stroke-width:0.8;\" x=\"46.0125\" xlink:href=\"#m1fa36f3656\" y=\"338.78406\"/>\r\n      </g>\r\n     </g>\r\n     <g id=\"text_27\">\r\n      <!-- 5000 -->\r\n      <g transform=\"translate(13.5625 342.583278)scale(0.1 -0.1)\">\r\n       <use xlink:href=\"#DejaVuSans-53\"/>\r\n       <use x=\"63.623047\" xlink:href=\"#DejaVuSans-48\"/>\r\n       <use x=\"127.246094\" xlink:href=\"#DejaVuSans-48\"/>\r\n       <use x=\"190.869141\" xlink:href=\"#DejaVuSans-48\"/>\r\n      </g>\r\n     </g>\r\n    </g>\r\n    <g id=\"ytick_3\">\r\n     <g id=\"line2d_55\">\r\n      <path clip-path=\"url(#p1476ee40de)\" d=\"M 46.0125 289.848119 \r\nL 436.6125 289.848119 \r\n\" style=\"fill:none;stroke:#008000;stroke-linecap:square;stroke-width:0.5;\"/>\r\n     </g>\r\n     <g id=\"line2d_56\">\r\n      <g>\r\n       <use style=\"stroke:#000000;stroke-width:0.8;\" x=\"46.0125\" xlink:href=\"#m1fa36f3656\" y=\"289.848119\"/>\r\n      </g>\r\n     </g>\r\n     <g id=\"text_28\">\r\n      <!-- 10000 -->\r\n      <g transform=\"translate(7.2 293.647338)scale(0.1 -0.1)\">\r\n       <use xlink:href=\"#DejaVuSans-49\"/>\r\n       <use x=\"63.623047\" xlink:href=\"#DejaVuSans-48\"/>\r\n       <use x=\"127.246094\" xlink:href=\"#DejaVuSans-48\"/>\r\n       <use x=\"190.869141\" xlink:href=\"#DejaVuSans-48\"/>\r\n       <use x=\"254.492188\" xlink:href=\"#DejaVuSans-48\"/>\r\n      </g>\r\n     </g>\r\n    </g>\r\n    <g id=\"ytick_4\">\r\n     <g id=\"line2d_57\">\r\n      <path clip-path=\"url(#p1476ee40de)\" d=\"M 46.0125 240.912179 \r\nL 436.6125 240.912179 \r\n\" style=\"fill:none;stroke:#008000;stroke-linecap:square;stroke-width:0.5;\"/>\r\n     </g>\r\n     <g id=\"line2d_58\">\r\n      <g>\r\n       <use style=\"stroke:#000000;stroke-width:0.8;\" x=\"46.0125\" xlink:href=\"#m1fa36f3656\" y=\"240.912179\"/>\r\n      </g>\r\n     </g>\r\n     <g id=\"text_29\">\r\n      <!-- 15000 -->\r\n      <g transform=\"translate(7.2 244.711398)scale(0.1 -0.1)\">\r\n       <use xlink:href=\"#DejaVuSans-49\"/>\r\n       <use x=\"63.623047\" xlink:href=\"#DejaVuSans-53\"/>\r\n       <use x=\"127.246094\" xlink:href=\"#DejaVuSans-48\"/>\r\n       <use x=\"190.869141\" xlink:href=\"#DejaVuSans-48\"/>\r\n       <use x=\"254.492188\" xlink:href=\"#DejaVuSans-48\"/>\r\n      </g>\r\n     </g>\r\n    </g>\r\n    <g id=\"ytick_5\">\r\n     <g id=\"line2d_59\">\r\n      <path clip-path=\"url(#p1476ee40de)\" d=\"M 46.0125 191.976239 \r\nL 436.6125 191.976239 \r\n\" style=\"fill:none;stroke:#008000;stroke-linecap:square;stroke-width:0.5;\"/>\r\n     </g>\r\n     <g id=\"line2d_60\">\r\n      <g>\r\n       <use style=\"stroke:#000000;stroke-width:0.8;\" x=\"46.0125\" xlink:href=\"#m1fa36f3656\" y=\"191.976239\"/>\r\n      </g>\r\n     </g>\r\n     <g id=\"text_30\">\r\n      <!-- 20000 -->\r\n      <g transform=\"translate(7.2 195.775457)scale(0.1 -0.1)\">\r\n       <use xlink:href=\"#DejaVuSans-50\"/>\r\n       <use x=\"63.623047\" xlink:href=\"#DejaVuSans-48\"/>\r\n       <use x=\"127.246094\" xlink:href=\"#DejaVuSans-48\"/>\r\n       <use x=\"190.869141\" xlink:href=\"#DejaVuSans-48\"/>\r\n       <use x=\"254.492188\" xlink:href=\"#DejaVuSans-48\"/>\r\n      </g>\r\n     </g>\r\n    </g>\r\n    <g id=\"ytick_6\">\r\n     <g id=\"line2d_61\">\r\n      <path clip-path=\"url(#p1476ee40de)\" d=\"M 46.0125 143.040298 \r\nL 436.6125 143.040298 \r\n\" style=\"fill:none;stroke:#008000;stroke-linecap:square;stroke-width:0.5;\"/>\r\n     </g>\r\n     <g id=\"line2d_62\">\r\n      <g>\r\n       <use style=\"stroke:#000000;stroke-width:0.8;\" x=\"46.0125\" xlink:href=\"#m1fa36f3656\" y=\"143.040298\"/>\r\n      </g>\r\n     </g>\r\n     <g id=\"text_31\">\r\n      <!-- 25000 -->\r\n      <g transform=\"translate(7.2 146.839517)scale(0.1 -0.1)\">\r\n       <use xlink:href=\"#DejaVuSans-50\"/>\r\n       <use x=\"63.623047\" xlink:href=\"#DejaVuSans-53\"/>\r\n       <use x=\"127.246094\" xlink:href=\"#DejaVuSans-48\"/>\r\n       <use x=\"190.869141\" xlink:href=\"#DejaVuSans-48\"/>\r\n       <use x=\"254.492188\" xlink:href=\"#DejaVuSans-48\"/>\r\n      </g>\r\n     </g>\r\n    </g>\r\n    <g id=\"ytick_7\">\r\n     <g id=\"line2d_63\">\r\n      <path clip-path=\"url(#p1476ee40de)\" d=\"M 46.0125 94.104358 \r\nL 436.6125 94.104358 \r\n\" style=\"fill:none;stroke:#008000;stroke-linecap:square;stroke-width:0.5;\"/>\r\n     </g>\r\n     <g id=\"line2d_64\">\r\n      <g>\r\n       <use style=\"stroke:#000000;stroke-width:0.8;\" x=\"46.0125\" xlink:href=\"#m1fa36f3656\" y=\"94.104358\"/>\r\n      </g>\r\n     </g>\r\n     <g id=\"text_32\">\r\n      <!-- 30000 -->\r\n      <g transform=\"translate(7.2 97.903577)scale(0.1 -0.1)\">\r\n       <use xlink:href=\"#DejaVuSans-51\"/>\r\n       <use x=\"63.623047\" xlink:href=\"#DejaVuSans-48\"/>\r\n       <use x=\"127.246094\" xlink:href=\"#DejaVuSans-48\"/>\r\n       <use x=\"190.869141\" xlink:href=\"#DejaVuSans-48\"/>\r\n       <use x=\"254.492188\" xlink:href=\"#DejaVuSans-48\"/>\r\n      </g>\r\n     </g>\r\n    </g>\r\n    <g id=\"ytick_8\">\r\n     <g id=\"line2d_65\">\r\n      <path clip-path=\"url(#p1476ee40de)\" d=\"M 46.0125 45.168417 \r\nL 436.6125 45.168417 \r\n\" style=\"fill:none;stroke:#008000;stroke-linecap:square;stroke-width:0.5;\"/>\r\n     </g>\r\n     <g id=\"line2d_66\">\r\n      <g>\r\n       <use style=\"stroke:#000000;stroke-width:0.8;\" x=\"46.0125\" xlink:href=\"#m1fa36f3656\" y=\"45.168417\"/>\r\n      </g>\r\n     </g>\r\n     <g id=\"text_33\">\r\n      <!-- 35000 -->\r\n      <g transform=\"translate(7.2 48.967636)scale(0.1 -0.1)\">\r\n       <use xlink:href=\"#DejaVuSans-51\"/>\r\n       <use x=\"63.623047\" xlink:href=\"#DejaVuSans-53\"/>\r\n       <use x=\"127.246094\" xlink:href=\"#DejaVuSans-48\"/>\r\n       <use x=\"190.869141\" xlink:href=\"#DejaVuSans-48\"/>\r\n       <use x=\"254.492188\" xlink:href=\"#DejaVuSans-48\"/>\r\n      </g>\r\n     </g>\r\n    </g>\r\n   </g>\r\n   <g id=\"patch_53\">\r\n    <path d=\"M 46.0125 387.72 \r\nL 46.0125 7.2 \r\n\" style=\"fill:none;stroke:#000000;stroke-linecap:square;stroke-linejoin:miter;stroke-width:0.8;\"/>\r\n   </g>\r\n   <g id=\"patch_54\">\r\n    <path d=\"M 436.6125 387.72 \r\nL 436.6125 7.2 \r\n\" style=\"fill:none;stroke:#000000;stroke-linecap:square;stroke-linejoin:miter;stroke-width:0.8;\"/>\r\n   </g>\r\n   <g id=\"patch_55\">\r\n    <path d=\"M 46.0125 387.72 \r\nL 436.6125 387.72 \r\n\" style=\"fill:none;stroke:#000000;stroke-linecap:square;stroke-linejoin:miter;stroke-width:0.8;\"/>\r\n   </g>\r\n   <g id=\"patch_56\">\r\n    <path d=\"M 46.0125 7.2 \r\nL 436.6125 7.2 \r\n\" style=\"fill:none;stroke:#000000;stroke-linecap:square;stroke-linejoin:miter;stroke-width:0.8;\"/>\r\n   </g>\r\n   <g id=\"legend_1\">\r\n    <g id=\"patch_57\">\r\n     <path d=\"M 53.0125 44.55625 \r\nL 131.953125 44.55625 \r\nQ 133.953125 44.55625 133.953125 42.55625 \r\nL 133.953125 14.2 \r\nQ 133.953125 12.2 131.953125 12.2 \r\nL 53.0125 12.2 \r\nQ 51.0125 12.2 51.0125 14.2 \r\nL 51.0125 42.55625 \r\nQ 51.0125 44.55625 53.0125 44.55625 \r\nz\r\n\" style=\"fill:#ffffff;opacity:0.8;stroke:#cccccc;stroke-linejoin:miter;\"/>\r\n    </g>\r\n    <g id=\"patch_58\">\r\n     <path d=\"M 55.0125 23.798437 \r\nL 75.0125 23.798437 \r\nL 75.0125 16.798437 \r\nL 55.0125 16.798437 \r\nz\r\n\" style=\"fill:#1f77b4;\"/>\r\n    </g>\r\n    <g id=\"text_34\">\r\n     <!-- Actual -->\r\n     <defs>\r\n      <path d=\"M 34.1875 63.1875 \r\nL 20.796875 26.90625 \r\nL 47.609375 26.90625 \r\nz\r\nM 28.609375 72.90625 \r\nL 39.796875 72.90625 \r\nL 67.578125 0 \r\nL 57.328125 0 \r\nL 50.6875 18.703125 \r\nL 17.828125 18.703125 \r\nL 11.1875 0 \r\nL 0.78125 0 \r\nz\r\n\" id=\"DejaVuSans-65\"/>\r\n      <path d=\"M 48.78125 52.59375 \r\nL 48.78125 44.1875 \r\nQ 44.96875 46.296875 41.140625 47.34375 \r\nQ 37.3125 48.390625 33.40625 48.390625 \r\nQ 24.65625 48.390625 19.8125 42.84375 \r\nQ 14.984375 37.3125 14.984375 27.296875 \r\nQ 14.984375 17.28125 19.8125 11.734375 \r\nQ 24.65625 6.203125 33.40625 6.203125 \r\nQ 37.3125 6.203125 41.140625 7.25 \r\nQ 44.96875 8.296875 48.78125 10.40625 \r\nL 48.78125 2.09375 \r\nQ 45.015625 0.34375 40.984375 -0.53125 \r\nQ 36.96875 -1.421875 32.421875 -1.421875 \r\nQ 20.0625 -1.421875 12.78125 6.34375 \r\nQ 5.515625 14.109375 5.515625 27.296875 \r\nQ 5.515625 40.671875 12.859375 48.328125 \r\nQ 20.21875 56 33.015625 56 \r\nQ 37.15625 56 41.109375 55.140625 \r\nQ 45.0625 54.296875 48.78125 52.59375 \r\nz\r\n\" id=\"DejaVuSans-99\"/>\r\n      <path d=\"M 18.3125 70.21875 \r\nL 18.3125 54.6875 \r\nL 36.8125 54.6875 \r\nL 36.8125 47.703125 \r\nL 18.3125 47.703125 \r\nL 18.3125 18.015625 \r\nQ 18.3125 11.328125 20.140625 9.421875 \r\nQ 21.96875 7.515625 27.59375 7.515625 \r\nL 36.8125 7.515625 \r\nL 36.8125 0 \r\nL 27.59375 0 \r\nQ 17.1875 0 13.234375 3.875 \r\nQ 9.28125 7.765625 9.28125 18.015625 \r\nL 9.28125 47.703125 \r\nL 2.6875 47.703125 \r\nL 2.6875 54.6875 \r\nL 9.28125 54.6875 \r\nL 9.28125 70.21875 \r\nz\r\n\" id=\"DejaVuSans-116\"/>\r\n      <path d=\"M 8.5 21.578125 \r\nL 8.5 54.6875 \r\nL 17.484375 54.6875 \r\nL 17.484375 21.921875 \r\nQ 17.484375 14.15625 20.5 10.265625 \r\nQ 23.53125 6.390625 29.59375 6.390625 \r\nQ 36.859375 6.390625 41.078125 11.03125 \r\nQ 45.3125 15.671875 45.3125 23.6875 \r\nL 45.3125 54.6875 \r\nL 54.296875 54.6875 \r\nL 54.296875 0 \r\nL 45.3125 0 \r\nL 45.3125 8.40625 \r\nQ 42.046875 3.421875 37.71875 1 \r\nQ 33.40625 -1.421875 27.6875 -1.421875 \r\nQ 18.265625 -1.421875 13.375 4.4375 \r\nQ 8.5 10.296875 8.5 21.578125 \r\nz\r\nM 31.109375 56 \r\nz\r\n\" id=\"DejaVuSans-117\"/>\r\n      <path d=\"M 34.28125 27.484375 \r\nQ 23.390625 27.484375 19.1875 25 \r\nQ 14.984375 22.515625 14.984375 16.5 \r\nQ 14.984375 11.71875 18.140625 8.90625 \r\nQ 21.296875 6.109375 26.703125 6.109375 \r\nQ 34.1875 6.109375 38.703125 11.40625 \r\nQ 43.21875 16.703125 43.21875 25.484375 \r\nL 43.21875 27.484375 \r\nz\r\nM 52.203125 31.203125 \r\nL 52.203125 0 \r\nL 43.21875 0 \r\nL 43.21875 8.296875 \r\nQ 40.140625 3.328125 35.546875 0.953125 \r\nQ 30.953125 -1.421875 24.3125 -1.421875 \r\nQ 15.921875 -1.421875 10.953125 3.296875 \r\nQ 6 8.015625 6 15.921875 \r\nQ 6 25.140625 12.171875 29.828125 \r\nQ 18.359375 34.515625 30.609375 34.515625 \r\nL 43.21875 34.515625 \r\nL 43.21875 35.40625 \r\nQ 43.21875 41.609375 39.140625 45 \r\nQ 35.0625 48.390625 27.6875 48.390625 \r\nQ 23 48.390625 18.546875 47.265625 \r\nQ 14.109375 46.140625 10.015625 43.890625 \r\nL 10.015625 52.203125 \r\nQ 14.9375 54.109375 19.578125 55.046875 \r\nQ 24.21875 56 28.609375 56 \r\nQ 40.484375 56 46.34375 49.84375 \r\nQ 52.203125 43.703125 52.203125 31.203125 \r\nz\r\n\" id=\"DejaVuSans-97\"/>\r\n      <path d=\"M 9.421875 75.984375 \r\nL 18.40625 75.984375 \r\nL 18.40625 0 \r\nL 9.421875 0 \r\nz\r\n\" id=\"DejaVuSans-108\"/>\r\n     </defs>\r\n     <g transform=\"translate(83.0125 23.798437)scale(0.1 -0.1)\">\r\n      <use xlink:href=\"#DejaVuSans-65\"/>\r\n      <use x=\"66.658203\" xlink:href=\"#DejaVuSans-99\"/>\r\n      <use x=\"121.638672\" xlink:href=\"#DejaVuSans-116\"/>\r\n      <use x=\"160.847656\" xlink:href=\"#DejaVuSans-117\"/>\r\n      <use x=\"224.226562\" xlink:href=\"#DejaVuSans-97\"/>\r\n      <use x=\"285.505859\" xlink:href=\"#DejaVuSans-108\"/>\r\n     </g>\r\n    </g>\r\n    <g id=\"patch_59\">\r\n     <path d=\"M 55.0125 38.476562 \r\nL 75.0125 38.476562 \r\nL 75.0125 31.476562 \r\nL 55.0125 31.476562 \r\nz\r\n\" style=\"fill:#ff7f0e;\"/>\r\n    </g>\r\n    <g id=\"text_35\">\r\n     <!-- Predicted -->\r\n     <defs>\r\n      <path d=\"M 19.671875 64.796875 \r\nL 19.671875 37.40625 \r\nL 32.078125 37.40625 \r\nQ 38.96875 37.40625 42.71875 40.96875 \r\nQ 46.484375 44.53125 46.484375 51.125 \r\nQ 46.484375 57.671875 42.71875 61.234375 \r\nQ 38.96875 64.796875 32.078125 64.796875 \r\nz\r\nM 9.8125 72.90625 \r\nL 32.078125 72.90625 \r\nQ 44.34375 72.90625 50.609375 67.359375 \r\nQ 56.890625 61.8125 56.890625 51.125 \r\nQ 56.890625 40.328125 50.609375 34.8125 \r\nQ 44.34375 29.296875 32.078125 29.296875 \r\nL 19.671875 29.296875 \r\nL 19.671875 0 \r\nL 9.8125 0 \r\nz\r\n\" id=\"DejaVuSans-80\"/>\r\n      <path d=\"M 41.109375 46.296875 \r\nQ 39.59375 47.171875 37.8125 47.578125 \r\nQ 36.03125 48 33.890625 48 \r\nQ 26.265625 48 22.1875 43.046875 \r\nQ 18.109375 38.09375 18.109375 28.8125 \r\nL 18.109375 0 \r\nL 9.078125 0 \r\nL 9.078125 54.6875 \r\nL 18.109375 54.6875 \r\nL 18.109375 46.1875 \r\nQ 20.953125 51.171875 25.484375 53.578125 \r\nQ 30.03125 56 36.53125 56 \r\nQ 37.453125 56 38.578125 55.875 \r\nQ 39.703125 55.765625 41.0625 55.515625 \r\nz\r\n\" id=\"DejaVuSans-114\"/>\r\n      <path d=\"M 56.203125 29.59375 \r\nL 56.203125 25.203125 \r\nL 14.890625 25.203125 \r\nQ 15.484375 15.921875 20.484375 11.0625 \r\nQ 25.484375 6.203125 34.421875 6.203125 \r\nQ 39.59375 6.203125 44.453125 7.46875 \r\nQ 49.3125 8.734375 54.109375 11.28125 \r\nL 54.109375 2.78125 \r\nQ 49.265625 0.734375 44.1875 -0.34375 \r\nQ 39.109375 -1.421875 33.890625 -1.421875 \r\nQ 20.796875 -1.421875 13.15625 6.1875 \r\nQ 5.515625 13.8125 5.515625 26.8125 \r\nQ 5.515625 40.234375 12.765625 48.109375 \r\nQ 20.015625 56 32.328125 56 \r\nQ 43.359375 56 49.78125 48.890625 \r\nQ 56.203125 41.796875 56.203125 29.59375 \r\nz\r\nM 47.21875 32.234375 \r\nQ 47.125 39.59375 43.09375 43.984375 \r\nQ 39.0625 48.390625 32.421875 48.390625 \r\nQ 24.90625 48.390625 20.390625 44.140625 \r\nQ 15.875 39.890625 15.1875 32.171875 \r\nz\r\n\" id=\"DejaVuSans-101\"/>\r\n      <path d=\"M 45.40625 46.390625 \r\nL 45.40625 75.984375 \r\nL 54.390625 75.984375 \r\nL 54.390625 0 \r\nL 45.40625 0 \r\nL 45.40625 8.203125 \r\nQ 42.578125 3.328125 38.25 0.953125 \r\nQ 33.9375 -1.421875 27.875 -1.421875 \r\nQ 17.96875 -1.421875 11.734375 6.484375 \r\nQ 5.515625 14.40625 5.515625 27.296875 \r\nQ 5.515625 40.1875 11.734375 48.09375 \r\nQ 17.96875 56 27.875 56 \r\nQ 33.9375 56 38.25 53.625 \r\nQ 42.578125 51.265625 45.40625 46.390625 \r\nz\r\nM 14.796875 27.296875 \r\nQ 14.796875 17.390625 18.875 11.75 \r\nQ 22.953125 6.109375 30.078125 6.109375 \r\nQ 37.203125 6.109375 41.296875 11.75 \r\nQ 45.40625 17.390625 45.40625 27.296875 \r\nQ 45.40625 37.203125 41.296875 42.84375 \r\nQ 37.203125 48.484375 30.078125 48.484375 \r\nQ 22.953125 48.484375 18.875 42.84375 \r\nQ 14.796875 37.203125 14.796875 27.296875 \r\nz\r\n\" id=\"DejaVuSans-100\"/>\r\n      <path d=\"M 9.421875 54.6875 \r\nL 18.40625 54.6875 \r\nL 18.40625 0 \r\nL 9.421875 0 \r\nz\r\nM 9.421875 75.984375 \r\nL 18.40625 75.984375 \r\nL 18.40625 64.59375 \r\nL 9.421875 64.59375 \r\nz\r\n\" id=\"DejaVuSans-105\"/>\r\n     </defs>\r\n     <g transform=\"translate(83.0125 38.476562)scale(0.1 -0.1)\">\r\n      <use xlink:href=\"#DejaVuSans-80\"/>\r\n      <use x=\"58.552734\" xlink:href=\"#DejaVuSans-114\"/>\r\n      <use x=\"97.416016\" xlink:href=\"#DejaVuSans-101\"/>\r\n      <use x=\"158.939453\" xlink:href=\"#DejaVuSans-100\"/>\r\n      <use x=\"222.416016\" xlink:href=\"#DejaVuSans-105\"/>\r\n      <use x=\"250.199219\" xlink:href=\"#DejaVuSans-99\"/>\r\n      <use x=\"305.179688\" xlink:href=\"#DejaVuSans-116\"/>\r\n      <use x=\"344.388672\" xlink:href=\"#DejaVuSans-101\"/>\r\n      <use x=\"405.912109\" xlink:href=\"#DejaVuSans-100\"/>\r\n     </g>\r\n    </g>\r\n   </g>\r\n  </g>\r\n </g>\r\n <defs>\r\n  <clipPath id=\"p1476ee40de\">\r\n   <rect height=\"380.52\" width=\"390.6\" x=\"46.0125\" y=\"7.2\"/>\r\n  </clipPath>\r\n </defs>\r\n</svg>\r\n",
      "image/png": "[encoded data removed]"
     },
     "metadata": {
      "needs_background": "light"
     }
    }
   ],
   "source": [
    "#Plot of true value vs. predicted values\n",
    "dat = pd.DataFrame({'Actual': y_test, 'Predicted': y_pred})\n",
    "dat1=dat.head(25) #just a sample which shows top 25 columns\n",
    "dat1.plot(kind='bar',figsize=(7,7))\n",
    "plt.grid(which='major', linestyle='-', linewidth='0.5', color='green')\n",
    "plt.grid(which='minor', linestyle=':', linewidth='0.5', color='black')\n",
    "plt.show()"
   ]
  },
  {
   "cell_type": "code",
   "execution_count": 436,
   "metadata": {},
   "outputs": [
    {
     "output_type": "execute_result",
     "data": {
      "text/plain": [
       "Index(['horsepower', 'city-mpg', 'highway-mpg', 'price',\n",
       "       'num-of-cylinders_five', 'num-of-cylinders_four',\n",
       "       'num-of-cylinders_six', 'num-of-cylinders_three',\n",
       "       'num-of-cylinders_twelve', 'num-of-cylinders_two', 'body-style_hardtop',\n",
       "       'body-style_hatchback', 'body-style_sedan', 'body-style_wagon',\n",
       "       'drive-wheels_fwd', 'drive-wheels_rwd', 'engine-type_l',\n",
       "       'engine-type_ohc', 'engine-type_ohcf', 'engine-type_ohcv',\n",
       "       'engine-type_rotor', 'fuel-type_gas'],\n",
       "      dtype='object')"
      ]
     },
     "metadata": {},
     "execution_count": 436
    }
   ],
   "source": [
    "sample_data.columns"
   ]
  },
  {
   "cell_type": "markdown",
   "metadata": {},
   "source": [
    "# Step 8: Execute the Application Phase"
   ]
  },
  {
   "cell_type": "markdown",
   "metadata": {},
   "source": [
    "## Step 8.1: Take Input from User"
   ]
  },
  {
   "cell_type": "code",
   "execution_count": 437,
   "metadata": {},
   "outputs": [],
   "source": [
    "# Take Input from User\n",
    "\n",
    "''' \n",
    "*---------------- TAKE_USER_INPUT ----------------*\n",
    "'''\n",
    "\n",
    "fuel_type_input = input(\"\\nPlease enter Fuel Type : \").strip()\n",
    "horsepower_input = input(\"\\nPlease enter Horsepower : \").strip()\n",
    "num_of_cylinders_input = input(\"\\nPlease enter Num of Cylinders : \").strip()\n",
    "city_mpg_input = input(\"\\nPlease enter City MPG : \").strip()\n",
    "highway_mpg_input = input(\"\\nPlease enter Highway MPG : \").strip()\n",
    "engine_type_input = input(\"\\nPlease enter Engine Type : \").strip()\n",
    "body_style_input = input(\"\\nPlease enter Body Style : \").strip()\n",
    "drive_wheels_input = input(\"\\nPlease enter Drive Wheels : \").strip()"
   ]
  },
  {
   "cell_type": "markdown",
   "metadata": {},
   "source": [
    "## Step 8.2: Convert User Input into Feature Vector (Exactly Same as Feature Vectors of Sample Data)"
   ]
  },
  {
   "cell_type": "code",
   "execution_count": 438,
   "metadata": {},
   "outputs": [
    {
     "output_type": "stream",
     "name": "stdout",
     "text": [
      "\n\nUser Input Feature Vector:\n==========================\n\n  fuel-type engine-type drive-wheels num-of-cylinders horsepower city-mpg  \\\n0                                                                           \n\n  highway-mpg body-style  \n0                         \n"
     ]
    }
   ],
   "source": [
    "# Convert User Input into Feature Vector\n",
    "\n",
    "user_input = pd.DataFrame({ 'fuel-type': [fuel_type_input],'engine-type': [engine_type_input],'drive-wheels': [drive_wheels_input],'num-of-cylinders': [num_of_cylinders_input],'horsepower': [horsepower_input],'city-mpg': [city_mpg_input],'highway-mpg': [highway_mpg_input],'body-style': [body_style_input]})\n",
    "\n",
    "print(\"\\n\\nUser Input Feature Vector:\")\n",
    "print(\"==========================\\n\")\n",
    "print(user_input)"
   ]
  },
  {
   "cell_type": "markdown",
   "metadata": {},
   "source": [
    "## Step 8.3: Label Encoding of Feature Vector (Exactly Same as Label Encoded Feature Vectors of Sample Data)\n",
    "    o\tAs Input of Unseen Instance is in Numeric Representation.\n",
    "    o\tTherefore, we will Label Encode the Input of Unseen Instance."
   ]
  },
  {
   "cell_type": "code",
   "execution_count": 439,
   "metadata": {},
   "outputs": [
    {
     "output_type": "error",
     "ename": "ValueError",
     "evalue": "y contains previously unseen labels: ''",
     "traceback": [
      "\u001b[1;31m---------------------------------------------------------------------------\u001b[0m",
      "\u001b[1;31mKeyError\u001b[0m                                  Traceback (most recent call last)",
      "\u001b[1;32m~\\AppData\\Local\\Programs\\Python\\Python38\\lib\\site-packages\\sklearn\\preprocessing\\_label.py\u001b[0m in \u001b[0;36m_encode_python\u001b[1;34m(values, uniques, encode)\u001b[0m\n\u001b[0;32m     65\u001b[0m         \u001b[1;32mtry\u001b[0m\u001b[1;33m:\u001b[0m\u001b[1;33m\u001b[0m\u001b[1;33m\u001b[0m\u001b[0m\n\u001b[1;32m---> 66\u001b[1;33m             \u001b[0mencoded\u001b[0m \u001b[1;33m=\u001b[0m \u001b[0mnp\u001b[0m\u001b[1;33m.\u001b[0m\u001b[0marray\u001b[0m\u001b[1;33m(\u001b[0m\u001b[1;33m[\u001b[0m\u001b[0mtable\u001b[0m\u001b[1;33m[\u001b[0m\u001b[0mv\u001b[0m\u001b[1;33m]\u001b[0m \u001b[1;32mfor\u001b[0m \u001b[0mv\u001b[0m \u001b[1;32min\u001b[0m \u001b[0mvalues\u001b[0m\u001b[1;33m]\u001b[0m\u001b[1;33m)\u001b[0m\u001b[1;33m\u001b[0m\u001b[1;33m\u001b[0m\u001b[0m\n\u001b[0m\u001b[0;32m     67\u001b[0m         \u001b[1;32mexcept\u001b[0m \u001b[0mKeyError\u001b[0m \u001b[1;32mas\u001b[0m \u001b[0me\u001b[0m\u001b[1;33m:\u001b[0m\u001b[1;33m\u001b[0m\u001b[1;33m\u001b[0m\u001b[0m\n",
      "\u001b[1;32m~\\AppData\\Local\\Programs\\Python\\Python38\\lib\\site-packages\\sklearn\\preprocessing\\_label.py\u001b[0m in \u001b[0;36m<listcomp>\u001b[1;34m(.0)\u001b[0m\n\u001b[0;32m     65\u001b[0m         \u001b[1;32mtry\u001b[0m\u001b[1;33m:\u001b[0m\u001b[1;33m\u001b[0m\u001b[1;33m\u001b[0m\u001b[0m\n\u001b[1;32m---> 66\u001b[1;33m             \u001b[0mencoded\u001b[0m \u001b[1;33m=\u001b[0m \u001b[0mnp\u001b[0m\u001b[1;33m.\u001b[0m\u001b[0marray\u001b[0m\u001b[1;33m(\u001b[0m\u001b[1;33m[\u001b[0m\u001b[0mtable\u001b[0m\u001b[1;33m[\u001b[0m\u001b[0mv\u001b[0m\u001b[1;33m]\u001b[0m \u001b[1;32mfor\u001b[0m \u001b[0mv\u001b[0m \u001b[1;32min\u001b[0m \u001b[0mvalues\u001b[0m\u001b[1;33m]\u001b[0m\u001b[1;33m)\u001b[0m\u001b[1;33m\u001b[0m\u001b[1;33m\u001b[0m\u001b[0m\n\u001b[0m\u001b[0;32m     67\u001b[0m         \u001b[1;32mexcept\u001b[0m \u001b[0mKeyError\u001b[0m \u001b[1;32mas\u001b[0m \u001b[0me\u001b[0m\u001b[1;33m:\u001b[0m\u001b[1;33m\u001b[0m\u001b[1;33m\u001b[0m\u001b[0m\n",
      "\u001b[1;31mKeyError\u001b[0m: ''",
      "\nDuring handling of the above exception, another exception occurred:\n",
      "\u001b[1;31mValueError\u001b[0m                                Traceback (most recent call last)",
      "\u001b[1;32m<ipython-input-439-42396c28d7fd>\u001b[0m in \u001b[0;36m<module>\u001b[1;34m\u001b[0m\n\u001b[0;32m      1\u001b[0m \u001b[0munseen_data_features\u001b[0m \u001b[1;33m=\u001b[0m \u001b[0muser_input\u001b[0m\u001b[1;33m.\u001b[0m\u001b[0mcopy\u001b[0m\u001b[1;33m(\u001b[0m\u001b[1;33m)\u001b[0m\u001b[1;33m\u001b[0m\u001b[1;33m\u001b[0m\u001b[0m\n\u001b[1;32m----> 2\u001b[1;33m \u001b[0munseen_data_features\u001b[0m\u001b[1;33m[\u001b[0m\u001b[1;34m\"fuel-type\"\u001b[0m\u001b[1;33m]\u001b[0m \u001b[1;33m=\u001b[0m \u001b[0mfuel_type_label_encoder\u001b[0m\u001b[1;33m.\u001b[0m\u001b[0mtransform\u001b[0m\u001b[1;33m(\u001b[0m\u001b[0muser_input\u001b[0m\u001b[1;33m[\u001b[0m\u001b[1;34m'fuel-type'\u001b[0m\u001b[1;33m]\u001b[0m\u001b[1;33m)\u001b[0m\u001b[1;33m\u001b[0m\u001b[1;33m\u001b[0m\u001b[0m\n\u001b[0m\u001b[0;32m      3\u001b[0m \u001b[0munseen_data_features\u001b[0m\u001b[1;33m[\u001b[0m\u001b[1;34m\"body-style\"\u001b[0m\u001b[1;33m]\u001b[0m \u001b[1;33m=\u001b[0m \u001b[0mbody_style_label_encoder\u001b[0m\u001b[1;33m.\u001b[0m\u001b[0mtransform\u001b[0m\u001b[1;33m(\u001b[0m\u001b[0muser_input\u001b[0m\u001b[1;33m[\u001b[0m\u001b[1;34m'body-style'\u001b[0m\u001b[1;33m]\u001b[0m\u001b[1;33m)\u001b[0m\u001b[1;33m\u001b[0m\u001b[1;33m\u001b[0m\u001b[0m\n\u001b[0;32m      4\u001b[0m \u001b[0munseen_data_features\u001b[0m\u001b[1;33m[\u001b[0m\u001b[1;34m\"drive-wheels\"\u001b[0m\u001b[1;33m]\u001b[0m \u001b[1;33m=\u001b[0m \u001b[0mdrive_wheels_label_encoder\u001b[0m\u001b[1;33m.\u001b[0m\u001b[0mtransform\u001b[0m\u001b[1;33m(\u001b[0m\u001b[0muser_input\u001b[0m\u001b[1;33m[\u001b[0m\u001b[1;34m'drive-wheels'\u001b[0m\u001b[1;33m]\u001b[0m\u001b[1;33m)\u001b[0m\u001b[1;33m\u001b[0m\u001b[1;33m\u001b[0m\u001b[0m\n\u001b[0;32m      5\u001b[0m \u001b[0munseen_data_features\u001b[0m\u001b[1;33m[\u001b[0m\u001b[1;34m\"engine-type\"\u001b[0m\u001b[1;33m]\u001b[0m \u001b[1;33m=\u001b[0m \u001b[0mengine_type_label_encoder\u001b[0m\u001b[1;33m.\u001b[0m\u001b[0mtransform\u001b[0m\u001b[1;33m(\u001b[0m\u001b[0muser_input\u001b[0m\u001b[1;33m[\u001b[0m\u001b[1;34m'engine-type'\u001b[0m\u001b[1;33m]\u001b[0m\u001b[1;33m)\u001b[0m\u001b[1;33m\u001b[0m\u001b[1;33m\u001b[0m\u001b[0m\n",
      "\u001b[1;32m~\\AppData\\Local\\Programs\\Python\\Python38\\lib\\site-packages\\sklearn\\preprocessing\\_label.py\u001b[0m in \u001b[0;36mtransform\u001b[1;34m(self, y)\u001b[0m\n\u001b[0;32m    275\u001b[0m             \u001b[1;32mreturn\u001b[0m \u001b[0mnp\u001b[0m\u001b[1;33m.\u001b[0m\u001b[0marray\u001b[0m\u001b[1;33m(\u001b[0m\u001b[1;33m[\u001b[0m\u001b[1;33m]\u001b[0m\u001b[1;33m)\u001b[0m\u001b[1;33m\u001b[0m\u001b[1;33m\u001b[0m\u001b[0m\n\u001b[0;32m    276\u001b[0m \u001b[1;33m\u001b[0m\u001b[0m\n\u001b[1;32m--> 277\u001b[1;33m         \u001b[0m_\u001b[0m\u001b[1;33m,\u001b[0m \u001b[0my\u001b[0m \u001b[1;33m=\u001b[0m \u001b[0m_encode\u001b[0m\u001b[1;33m(\u001b[0m\u001b[0my\u001b[0m\u001b[1;33m,\u001b[0m \u001b[0muniques\u001b[0m\u001b[1;33m=\u001b[0m\u001b[0mself\u001b[0m\u001b[1;33m.\u001b[0m\u001b[0mclasses_\u001b[0m\u001b[1;33m,\u001b[0m \u001b[0mencode\u001b[0m\u001b[1;33m=\u001b[0m\u001b[1;32mTrue\u001b[0m\u001b[1;33m)\u001b[0m\u001b[1;33m\u001b[0m\u001b[1;33m\u001b[0m\u001b[0m\n\u001b[0m\u001b[0;32m    278\u001b[0m         \u001b[1;32mreturn\u001b[0m \u001b[0my\u001b[0m\u001b[1;33m\u001b[0m\u001b[1;33m\u001b[0m\u001b[0m\n\u001b[0;32m    279\u001b[0m \u001b[1;33m\u001b[0m\u001b[0m\n",
      "\u001b[1;32m~\\AppData\\Local\\Programs\\Python\\Python38\\lib\\site-packages\\sklearn\\preprocessing\\_label.py\u001b[0m in \u001b[0;36m_encode\u001b[1;34m(values, uniques, encode, check_unknown)\u001b[0m\n\u001b[0;32m    111\u001b[0m     \u001b[1;32mif\u001b[0m \u001b[0mvalues\u001b[0m\u001b[1;33m.\u001b[0m\u001b[0mdtype\u001b[0m \u001b[1;33m==\u001b[0m \u001b[0mobject\u001b[0m\u001b[1;33m:\u001b[0m\u001b[1;33m\u001b[0m\u001b[1;33m\u001b[0m\u001b[0m\n\u001b[0;32m    112\u001b[0m         \u001b[1;32mtry\u001b[0m\u001b[1;33m:\u001b[0m\u001b[1;33m\u001b[0m\u001b[1;33m\u001b[0m\u001b[0m\n\u001b[1;32m--> 113\u001b[1;33m             \u001b[0mres\u001b[0m \u001b[1;33m=\u001b[0m \u001b[0m_encode_python\u001b[0m\u001b[1;33m(\u001b[0m\u001b[0mvalues\u001b[0m\u001b[1;33m,\u001b[0m \u001b[0muniques\u001b[0m\u001b[1;33m,\u001b[0m \u001b[0mencode\u001b[0m\u001b[1;33m)\u001b[0m\u001b[1;33m\u001b[0m\u001b[1;33m\u001b[0m\u001b[0m\n\u001b[0m\u001b[0;32m    114\u001b[0m         \u001b[1;32mexcept\u001b[0m \u001b[0mTypeError\u001b[0m\u001b[1;33m:\u001b[0m\u001b[1;33m\u001b[0m\u001b[1;33m\u001b[0m\u001b[0m\n\u001b[0;32m    115\u001b[0m             types = sorted(t.__qualname__\n",
      "\u001b[1;32m~\\AppData\\Local\\Programs\\Python\\Python38\\lib\\site-packages\\sklearn\\preprocessing\\_label.py\u001b[0m in \u001b[0;36m_encode_python\u001b[1;34m(values, uniques, encode)\u001b[0m\n\u001b[0;32m     66\u001b[0m             \u001b[0mencoded\u001b[0m \u001b[1;33m=\u001b[0m \u001b[0mnp\u001b[0m\u001b[1;33m.\u001b[0m\u001b[0marray\u001b[0m\u001b[1;33m(\u001b[0m\u001b[1;33m[\u001b[0m\u001b[0mtable\u001b[0m\u001b[1;33m[\u001b[0m\u001b[0mv\u001b[0m\u001b[1;33m]\u001b[0m \u001b[1;32mfor\u001b[0m \u001b[0mv\u001b[0m \u001b[1;32min\u001b[0m \u001b[0mvalues\u001b[0m\u001b[1;33m]\u001b[0m\u001b[1;33m)\u001b[0m\u001b[1;33m\u001b[0m\u001b[1;33m\u001b[0m\u001b[0m\n\u001b[0;32m     67\u001b[0m         \u001b[1;32mexcept\u001b[0m \u001b[0mKeyError\u001b[0m \u001b[1;32mas\u001b[0m \u001b[0me\u001b[0m\u001b[1;33m:\u001b[0m\u001b[1;33m\u001b[0m\u001b[1;33m\u001b[0m\u001b[0m\n\u001b[1;32m---> 68\u001b[1;33m             raise ValueError(\"y contains previously unseen labels: %s\"\n\u001b[0m\u001b[0;32m     69\u001b[0m                              % str(e))\n\u001b[0;32m     70\u001b[0m         \u001b[1;32mreturn\u001b[0m \u001b[0muniques\u001b[0m\u001b[1;33m,\u001b[0m \u001b[0mencoded\u001b[0m\u001b[1;33m\u001b[0m\u001b[1;33m\u001b[0m\u001b[0m\n",
      "\u001b[1;31mValueError\u001b[0m: y contains previously unseen labels: ''"
     ]
    }
   ],
   "source": [
    "unseen_data_features = user_input.copy()\n",
    "unseen_data_features[\"fuel-type\"] = fuel_type_label_encoder.transform(user_input['fuel-type'])\n",
    "unseen_data_features[\"body-style\"] = body_style_label_encoder.transform(user_input['body-style'])\n",
    "unseen_data_features[\"drive-wheels\"] = drive_wheels_label_encoder.transform(user_input['drive-wheels'])\n",
    "unseen_data_features[\"engine-type\"] = engine_type_label_encoder.transform(user_input['engine-type'])\n",
    "unseen_data_features[\"num-of-cylinders\"] = num_of_cylinders_label_encoder.transform(user_input['num-of-cylinders'])\n",
    "unseen_data_features"
   ]
  },
  {
   "cell_type": "markdown",
   "metadata": {},
   "source": [
    "## Step 8.4: Load the Train Model"
   ]
  },
  {
   "cell_type": "code",
   "execution_count": 392,
   "metadata": {},
   "outputs": [],
   "source": [
    "# Load the Saved Model\n",
    "\n",
    "''' \n",
    "*----------------------- LOAD_SAVED_MODEL --------------------------*\n",
    "|         Function: load()                                          |\n",
    "|             Purpose: Method to Load Previously Saved Model        |\n",
    "|         Arguments:                                                |\n",
    "|               Model: Trained Model                                |\n",
    "|         Return:                                                   |\n",
    "|               File: Saved Model will be Loaded in Memory          |\n",
    "*-------------------------------------------------------------------*\n",
    "'''\n",
    "\n",
    "# Load the Saved Model\n",
    "\n",
    "model = pickle.load(open('svr_trained_model.pkl', 'rb'))"
   ]
  },
  {
   "cell_type": "markdown",
   "metadata": {},
   "source": [
    "## Step 8.5: Model Prediction\n",
    "### Step 8.5.1: Apply Model on the Label Encoded Feature Vector of unseen instance and return Prediction to the User"
   ]
  },
  {
   "cell_type": "code",
   "execution_count": 393,
   "metadata": {},
   "outputs": [
    {
     "output_type": "stream",
     "name": "stdout",
     "text": [
      "+------------------------------------+\n|        ** Prediction in $**        |\n+------------------------------------+\n|               7775.0               |\n+------------------------------------+\n"
     ]
    }
   ],
   "source": [
    "# Prediction of Unseen Instance\n",
    "\n",
    "''' \n",
    "*----------------------------  MODEL_PREDICTION --------------------------*\n",
    "|           Function: predict()                                           |\n",
    "|                 Purpose: Use Trained Model to Predict the Output        |\n",
    "|                          of Unseen Instances                            |\n",
    "|           Arguments:                                                    |\n",
    "|                 User Data: Label Encoded Feature Vector of              |\n",
    "|                            Unseen Instances                             |\n",
    "|           Return:                                                       |\n",
    "|                 Price                                                     |\n",
    "*-------------------------------------------------------------------------*\n",
    "'''\n",
    "\n",
    "# Make a Prediction on Unseen Data\n",
    "\n",
    "predicted_price = model.predict(unseen_data_features)\n",
    "\n",
    "# Add the Prediction in a Pretty Table\n",
    "\n",
    "pretty_table = PrettyTable()\n",
    "pretty_table.add_column(\"       ** Prediction in $**       \",predicted_price)\n",
    "print(pretty_table)"
   ]
  },
  {
   "cell_type": "markdown",
   "metadata": {},
   "source": [
    "# Step 9: Execute the Feedback Phase\n",
    "## A Two-Step Process\n",
    "### Step 01: After some time, take Feedback from\n",
    "    o\tDomain Experts and Users on deployed Automobile Price Prediction System\n",
    "### Step 02: Make a List of Possible Improvements based on Feedback received"
   ]
  },
  {
   "cell_type": "markdown",
   "metadata": {},
   "source": [
    "# Step 10: Improve Model based on Feedback\n",
    "### There is Always Room for Improvement\n",
    "### Based on Feedback from Domain Experts and Users\n",
    "    o\tImprove your Model"
   ]
  },
  {
   "cell_type": "markdown",
   "metadata": {},
   "source": [
    "<br><br><br>\n",
    "<center> <h3 style=\"color:blue\">==========================================================</h3> </center>\n",
    "<center> <h3 style=\"color:green\">JAZAK ALLAH KHAIR</h3> \n",
    "<center> <h3 style=\"color:blue\">==========================================================</h3> </center>\n",
    "<br><br><br>"
   ]
  }
 ],
 "metadata": {
  "kernelspec": {
   "display_name": "Python 3.8.3 64-bit",
   "language": "python",
   "name": "python38364bit9e5b0e7640554c319ae0057125250a5e"
  },
  "language_info": {
   "codemirror_mode": {
    "name": "ipython",
    "version": 3
   },
   "file_extension": ".py",
   "mimetype": "text/x-python",
   "name": "python",
   "nbconvert_exporter": "python",
   "pygments_lexer": "ipython3",
   "version": "3.8.3-final"
  }
 },
 "nbformat": 4,
 "nbformat_minor": 2
}